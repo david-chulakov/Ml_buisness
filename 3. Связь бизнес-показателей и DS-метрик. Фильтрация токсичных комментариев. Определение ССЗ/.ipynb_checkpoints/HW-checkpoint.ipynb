{
 "cells": [
  {
   "cell_type": "markdown",
   "id": "63f182ee-3418-4933-b03d-cf03d1693a23",
   "metadata": {},
   "source": [
    "## Кейс - определение ССЗ"
   ]
  },
  {
   "cell_type": "code",
   "execution_count": 1,
   "id": "199351af-3b80-4a31-bf8c-ac424599e48d",
   "metadata": {},
   "outputs": [],
   "source": [
    "import seaborn as sns\n",
    "import matplotlib.pyplot as plt\n",
    "\n",
    "import numpy as np\n",
    "import pandas as pd\n",
    "\n",
    "from sklearn.linear_model import LogisticRegression\n",
    "from sklearn.model_selection import cross_val_score, train_test_split\n",
    "from scipy.sparse import hstack\n",
    "from sklearn.pipeline import Pipeline, make_pipeline, FeatureUnion\n",
    "from sklearn.base import BaseEstimator, TransformerMixin\n",
    "from sklearn.preprocessing import StandardScaler\n",
    "from sklearn.metrics import roc_auc_score, precision_recall_curve, roc_curve, confusion_matrix\n",
    "from sklearn.ensemble import GradientBoostingClassifier, RandomForestClassifier"
   ]
  },
  {
   "cell_type": "code",
   "execution_count": 2,
   "id": "36db6d9f-8e8b-404e-b0dc-8b2faa7040f1",
   "metadata": {},
   "outputs": [
    {
     "data": {
      "text/html": [
       "<div>\n",
       "<style scoped>\n",
       "    .dataframe tbody tr th:only-of-type {\n",
       "        vertical-align: middle;\n",
       "    }\n",
       "\n",
       "    .dataframe tbody tr th {\n",
       "        vertical-align: top;\n",
       "    }\n",
       "\n",
       "    .dataframe thead th {\n",
       "        text-align: right;\n",
       "    }\n",
       "</style>\n",
       "<table border=\"1\" class=\"dataframe\">\n",
       "  <thead>\n",
       "    <tr style=\"text-align: right;\">\n",
       "      <th></th>\n",
       "      <th>id</th>\n",
       "      <th>age</th>\n",
       "      <th>gender</th>\n",
       "      <th>height</th>\n",
       "      <th>weight</th>\n",
       "      <th>ap_hi</th>\n",
       "      <th>ap_lo</th>\n",
       "      <th>cholesterol</th>\n",
       "      <th>gluc</th>\n",
       "      <th>smoke</th>\n",
       "      <th>alco</th>\n",
       "      <th>active</th>\n",
       "      <th>cardio</th>\n",
       "    </tr>\n",
       "  </thead>\n",
       "  <tbody>\n",
       "    <tr>\n",
       "      <th>0</th>\n",
       "      <td>0</td>\n",
       "      <td>18393</td>\n",
       "      <td>2</td>\n",
       "      <td>168</td>\n",
       "      <td>62.0</td>\n",
       "      <td>110</td>\n",
       "      <td>80</td>\n",
       "      <td>1</td>\n",
       "      <td>1</td>\n",
       "      <td>0</td>\n",
       "      <td>0</td>\n",
       "      <td>1</td>\n",
       "      <td>0</td>\n",
       "    </tr>\n",
       "    <tr>\n",
       "      <th>1</th>\n",
       "      <td>1</td>\n",
       "      <td>20228</td>\n",
       "      <td>1</td>\n",
       "      <td>156</td>\n",
       "      <td>85.0</td>\n",
       "      <td>140</td>\n",
       "      <td>90</td>\n",
       "      <td>3</td>\n",
       "      <td>1</td>\n",
       "      <td>0</td>\n",
       "      <td>0</td>\n",
       "      <td>1</td>\n",
       "      <td>1</td>\n",
       "    </tr>\n",
       "    <tr>\n",
       "      <th>2</th>\n",
       "      <td>2</td>\n",
       "      <td>18857</td>\n",
       "      <td>1</td>\n",
       "      <td>165</td>\n",
       "      <td>64.0</td>\n",
       "      <td>130</td>\n",
       "      <td>70</td>\n",
       "      <td>3</td>\n",
       "      <td>1</td>\n",
       "      <td>0</td>\n",
       "      <td>0</td>\n",
       "      <td>0</td>\n",
       "      <td>1</td>\n",
       "    </tr>\n",
       "  </tbody>\n",
       "</table>\n",
       "</div>"
      ],
      "text/plain": [
       "   id    age  gender  height  weight  ap_hi  ap_lo  cholesterol  gluc  smoke  \\\n",
       "0   0  18393       2     168    62.0    110     80            1     1      0   \n",
       "1   1  20228       1     156    85.0    140     90            3     1      0   \n",
       "2   2  18857       1     165    64.0    130     70            3     1      0   \n",
       "\n",
       "   alco  active  cardio  \n",
       "0     0       1       0  \n",
       "1     0       1       1  \n",
       "2     0       0       1  "
      ]
     },
     "execution_count": 2,
     "metadata": {},
     "output_type": "execute_result"
    }
   ],
   "source": [
    "df = pd.read_csv('train_case2.csv', ';')\n",
    "df.head(3)"
   ]
  },
  {
   "cell_type": "code",
   "execution_count": 3,
   "id": "5b349987-1678-4706-8fe3-510e248a5b17",
   "metadata": {},
   "outputs": [],
   "source": [
    "# разделим данные на train/test\n",
    "X_train, X_test, y_train, y_test = train_test_split(df.drop(columns='cardio'), \n",
    "                                                    df['cardio'], random_state=1234)"
   ]
  },
  {
   "cell_type": "code",
   "execution_count": 4,
   "id": "6a597992-dc3b-42f6-a64c-c4fd08b0fe5b",
   "metadata": {},
   "outputs": [],
   "source": [
    "class ColumnSelector(BaseEstimator, TransformerMixin):\n",
    "    '''\n",
    "    Трансформер для выбора одной колонки из датафрейма для трансформации\n",
    "    '''\n",
    "    def __init__(self, key):\n",
    "        self.key = key\n",
    "        \n",
    "    def fit(self, X, y=None):\n",
    "        return self\n",
    "    \n",
    "    def transform(self, X):\n",
    "        return X[self.key]\n",
    "    \n",
    "\n",
    "class NumberSelector(BaseEstimator, TransformerMixin):\n",
    "    '''\n",
    "    Трансформер для выбора вещественной колонки из датафрейма для трансформации\n",
    "    '''\n",
    "    def __init__(self, key):\n",
    "        self.key = key\n",
    "        \n",
    "    def fit(self, X, y=None):\n",
    "        return self\n",
    "    \n",
    "    def transform(self, X):\n",
    "        return X[[self.key]]\n",
    "    \n",
    "\n",
    "class OHEEncoder(BaseEstimator, TransformerMixin):\n",
    "    def __init__(self, key):\n",
    "        self.key = key\n",
    "        self.columns = []\n",
    "        \n",
    "    def fit(self, X, y=None):\n",
    "        self.columns = [col for col in pd.get_dummies(X, prefix=self.key).columns]\n",
    "        return self\n",
    "    \n",
    "    def transform(self, X):\n",
    "        X = pd.get_dummies(X, prefix=self.key)\n",
    "        test_columns = [col for col in X.columns]\n",
    "        for col_ in self.columns:\n",
    "            if col_ not in test_columns:\n",
    "                X[col_] = 0\n",
    "        return X[self.columns]\n",
    "    "
   ]
  },
  {
   "cell_type": "code",
   "execution_count": 5,
   "id": "528b55e5-f6f4-458e-b76c-d2509d65ad4d",
   "metadata": {},
   "outputs": [],
   "source": [
    "import itertools\n",
    "def plot_confusion_matrix(cm, classes,\n",
    "                          normalize=False,\n",
    "                          title='Confusion matrix',\n",
    "                          cmap=plt.cm.Blues):\n",
    "    \"\"\"\n",
    "    This function prints and plots the confusion matrix.\n",
    "    Normalization can be applied by setting `normalize=True`.\n",
    "    \"\"\"\n",
    "    plt.imshow(cm, interpolation='nearest', cmap=cmap)\n",
    "    plt.title(title)\n",
    "    plt.colorbar()\n",
    "    tick_marks = np.arange(len(classes))\n",
    "    plt.xticks(tick_marks, classes, rotation=45)\n",
    "    plt.yticks(tick_marks, classes)\n",
    "\n",
    "    if normalize:\n",
    "        cm = cm.astype('float') / cm.sum(axis=1)[:, np.newaxis]\n",
    "        print(\"Normalized confusion matrix\")\n",
    "    else:\n",
    "        print('Confusion matrix, without normalization')\n",
    "\n",
    "    print(cm)\n",
    "\n",
    "    thresh = cm.max() / 2.\n",
    "    for i, j in itertools.product(range(cm.shape[0]), range(cm.shape[1])):\n",
    "        plt.text(j, i, cm[i, j],\n",
    "                 horizontalalignment=\"center\",\n",
    "                 color=\"white\" if cm[i, j] > thresh else \"black\")\n",
    "\n",
    "    plt.tight_layout()\n",
    "    plt.ylabel('True label')\n",
    "    plt.xlabel('Predicted label')"
   ]
  },
  {
   "cell_type": "code",
   "execution_count": 6,
   "id": "da01fc3d-d7eb-4281-961b-93d49db72528",
   "metadata": {},
   "outputs": [],
   "source": [
    "continuos_cols = ['age', 'height', 'weight', 'ap_hi', 'ap_lo'] # Вещ. колонки\n",
    "cat_cols = ['gender', 'cholesterol'] # Категориальные фичи\n",
    "base_cols = ['gluc', 'smoke', 'alco', 'active'] # бинарные фичи"
   ]
  },
  {
   "cell_type": "code",
   "execution_count": 7,
   "id": "e5cfce74-1c13-4daa-b811-26845613b092",
   "metadata": {},
   "outputs": [],
   "source": [
    "continuos_transformers = []\n",
    "cat_transformers = []\n",
    "base_transformers = []\n",
    "\n",
    "for cont_col in continuos_cols:\n",
    "    transformer = Pipeline([\n",
    "        ('selector', NumberSelector(key=cont_col)),\n",
    "        ('standart', StandardScaler())\n",
    "    ])\n",
    "    continuos_transformers.append((cont_col, transformer))\n",
    "    \n",
    "for cat_col in cat_cols:\n",
    "    transformer = Pipeline([\n",
    "        ('selector', ColumnSelector(key=cat_col)),\n",
    "        ('OHE', OHEEncoder(key=cat_col))\n",
    "    ])\n",
    "    cat_transformers.append((cat_col, transformer))\n",
    "    \n",
    "for base_col in base_cols:\n",
    "    transformer = Pipeline([\n",
    "        ('selector', NumberSelector(key=base_col))\n",
    "    ])\n",
    "    base_transformers.append((base_col, transformer))\n",
    "    "
   ]
  },
  {
   "cell_type": "code",
   "execution_count": 8,
   "id": "560ffe25-2128-430b-8344-de7e83368ba5",
   "metadata": {},
   "outputs": [
    {
     "data": {
      "text/plain": [
       "array([[-1.10731706,  1.17399922,  0.47310859, ...,  1.        ,\n",
       "         0.        ,  1.        ],\n",
       "       [-1.29060327, -0.53310392,  1.86546924, ...,  0.        ,\n",
       "         0.        ,  1.        ],\n",
       "       [ 1.34701885,  0.07657577,  0.68196269, ...,  0.        ,\n",
       "         0.        ,  1.        ],\n",
       "       ...,\n",
       "       [ 0.10690352,  1.17399922,  0.12501843, ...,  0.        ,\n",
       "         0.        ,  1.        ],\n",
       "       [ 0.38324896, -0.53310392, -1.40657828, ...,  1.        ,\n",
       "         0.        ,  1.        ],\n",
       "       [ 1.6019202 ,  1.05206328,  0.61234466, ...,  0.        ,\n",
       "         0.        ,  0.        ]])"
      ]
     },
     "execution_count": 8,
     "metadata": {},
     "output_type": "execute_result"
    }
   ],
   "source": [
    "feats = FeatureUnion(continuos_transformers+cat_transformers+base_transformers)\n",
    "\n",
    "feature_processing = Pipeline([('feats', feats)])\n",
    "feature_processing.fit_transform(X_train)\n"
   ]
  },
  {
   "cell_type": "markdown",
   "id": "13381f30-333e-462e-ad68-6e62c8a2db20",
   "metadata": {},
   "source": [
    "Пусть:\n",
    "\n",
    "- стоимость лечения 15000р, если сделали тест и начали лечить вовремя\n",
    "- стоимость лечения 20000р, если упустили и начали лечить когда уже проявились все симптомы\n",
    "- стоимость теста 1400р\n",
    "\n",
    "\n",
    "\n",
    "- лишних тестов сделали FP = cnf_matrix[0][1]\n",
    "- пропустили больных FN = cnf_matrix[1][0]\n",
    "- правильных тестов сделали TP = cnf_matrix[1][1]\n",
    "\n",
    "Оценим расходы, если не делать тест и ждать симптомов:"
   ]
  },
  {
   "cell_type": "code",
   "execution_count": 10,
   "id": "05c3a7cd-1fe9-4c96-a195-ae3f93c53bbd",
   "metadata": {},
   "outputs": [],
   "source": [
    "def business_threshold_calibrate(y_test, y_score, thresholds,\n",
    "                                 rubl_test=100, rubl_early_treatment=100, rubl_late_treatment=1000):\n",
    "    business_threshold = 0\n",
    "    r_test_all_r_ML_ = 0\n",
    "\n",
    "    rubl_ML_ = 1_000_000_000 \n",
    "\n",
    "    rs = []\n",
    "    n = 20\n",
    "    for opt_buisness_tr in np.linspace(0, 1, n).tolist():\n",
    "        # подберем порог для улучшения бизнесс показателя\n",
    "\n",
    "        cnf_matrix = confusion_matrix(y_test, y_score > (opt_buisness_tr))\n",
    "        TN = cnf_matrix[0][0]\n",
    "        FN = cnf_matrix[1][0]\n",
    "        TP = cnf_matrix[1][1]\n",
    "        FP = cnf_matrix[0][1]\n",
    "\n",
    "        rubl_1 = (TP + FN) * rubl_late_treatment\n",
    "        rubl_test_all = np.sum(cnf_matrix) * rubl_test + (FN + TP) * rubl_early_treatment\n",
    "        rubl_ML = (TP + FP) * rubl_test + FN * rubl_late_treatment + TP * rubl_early_treatment\n",
    "        \n",
    "        r_test_all_r_ML = rubl_test_all - rubl_ML \n",
    "        \n",
    "        if rubl_ML < rubl_ML_:            \n",
    "            business_threshold = opt_buisness_tr\n",
    "            \n",
    "            rubl_ML_ = rubl_ML\n",
    "            \n",
    "        rs.append(rubl_ML)   \n",
    "            \n",
    "    print(\"\\nРасходы с оптимальной бизнес метрикой\")\n",
    "    print('Расходы \"решение не делать тесты - расходы с МL:\"', rubl_1 - rubl_ML_)\n",
    "    print('Расходы \"решение не делать тесты - расходы сделать тесты всем\":', rubl_1 - rubl_test_all)\n",
    "    print('Расходы \"сделать тесты всем - решение делать тесты ML\":', rubl_test_all - rubl_ML_)\n",
    "    \n",
    "    plt.title('Потери при МЛ решении')\n",
    "    plt.xlabel('Отсечка')\n",
    "    plt.ylabel('Потери')\n",
    "    plt.plot(np.linspace(0,1,n), rs)\n",
    "    plt.show()\n",
    "    return business_threshold"
   ]
  },
  {
   "cell_type": "code",
   "execution_count": 12,
   "id": "ca9ef0e2-d9a2-4114-a8fa-788bb4c0eb3d",
   "metadata": {},
   "outputs": [],
   "source": [
    "def test_model(model, X_train, y_train, X_test, y_test, model_name=None):\n",
    "    '''\n",
    "    Функция пробует модель и выводит нужные метрики\n",
    "    model_name: {'rf', 'gb', 'logreg'}\n",
    "    '''\n",
    "    print(f'\\n{model}\\n')\n",
    "    \n",
    "    classifier = Pipeline([\n",
    "        ('features', feats),\n",
    "        ('classifier', model),\n",
    "    ])\n",
    "\n",
    "    # запустим кросс-валидацию\n",
    "    cv_scores = cross_val_score(model, X_train, y_train, cv=7, scoring='roc_auc')\n",
    "    cv_score = np.mean(cv_scores)\n",
    "    cv_score_std = np.std(cv_scores)\n",
    "    print(f'CV score is {cv_score}+-{cv_score_std}\\n')\n",
    "\n",
    "    # обучим пайплайн на всем тренировочном датасете\n",
    "    classifier.fit(X_train, y_train)\n",
    "    y_score = classifier.predict_proba(X_test)[:, 1]\n",
    "    \n",
    "    b = 1\n",
    "    precision, recall, thresholds = precision_recall_curve(y_test.values, y_score)\n",
    "    fscore = (1 +b**2) * (precision * recall) / (b**2 * precision + recall)\n",
    "    # locate the index of the largest f score\n",
    "    ix = np.argmax(fscore)\n",
    "    print(f'Best Threshold={thresholds[ix]}, F-Score={fscore[ix]:.3f}, Precision={precision[ix]:.3f}, Recall={recall[ix]:.3f}\\n')\n",
    "    \n",
    "    print(f\"Train roc auc score: {roc_auc_score(y_train, classifier.predict_proba(X_train)[:, 1])}\")\n",
    "    print(f\"Test roc auc score: {roc_auc_score(y_test, classifier.predict_proba(X_test)[:, 1])}\\n\")\n",
    "    \n",
    "    # мы уже нашли ранее \"оптимальный\" порог, когда максимизировали f_score\n",
    "    font = {'size' : 15}\n",
    "\n",
    "    plt.rc('font', **font)\n",
    "\n",
    "    cnf_matrix = confusion_matrix(y_test, y_score > thresholds[ix])\n",
    "    plt.figure(figsize=(10, 8))\n",
    "    plot_confusion_matrix(cnf_matrix, classes=['cardio_0', 'cardio_1'],\n",
    "                          title='Confusion matrix')\n",
    "    plt.savefig(f\"conf_matrix_{model_name}.png\")\n",
    "    plt.show()\n",
    "    \n",
    "    TN = cnf_matrix[0][0]\n",
    "    FN = cnf_matrix[1][0]\n",
    "    TP = cnf_matrix[1][1]\n",
    "    FP = cnf_matrix[0][1]\n",
    "\n",
    "    TPR = TP / (TP+FN)\n",
    "    FPR = FP / (FN+TN)\n",
    "    TNR = TN / (FP+TN)\n",
    "    print(f'TPR = {TPR}\\nFPR = {FPR}\\nTNR = {TNR}')\n",
    "    \n",
    "    rubl_test = 1400\n",
    "    rubl_early_treatment = 15000\n",
    "    rubl_late_treatment = 20000\n",
    "\n",
    "    rubl_1 = (FN + TP) * rubl_late_treatment\n",
    "    rubl_test_all = np.sum(cnf_matrix) * rubl_test + (FN + TP) * rubl_early_treatment\n",
    "    rubl_ML = (FP + TP) * rubl_test + FN * rubl_late_treatment + TP * rubl_early_treatment\n",
    "    \n",
    "    print('\\nРасходы с оптимальной DS-метрикой')\n",
    "    print('Расходы \"решение не делать тесты - расходы с МL:\"', rubl_1 - rubl_ML)\n",
    "    print('Расходы \"решение не делать тесты - расходы сделать тесты всем\":', rubl_1 - rubl_test_all)\n",
    "    print('Расходы \"сделать тесты всем - решение делать тесты ML\":', rubl_test_all - rubl_ML)\n",
    "    print('\\n')\n",
    "    \n",
    "    \n",
    "    return y_score, thresholds[ix]"
   ]
  },
  {
   "cell_type": "markdown",
   "id": "98179693-f7fa-4308-baf0-6aceaca5a908",
   "metadata": {},
   "source": [
    "## RandomForestClassifier"
   ]
  },
  {
   "cell_type": "code",
   "execution_count": 13,
   "id": "631c9476-7640-41ff-a11f-ede25a384d02",
   "metadata": {},
   "outputs": [
    {
     "name": "stdout",
     "output_type": "stream",
     "text": [
      "\n",
      "RandomForestClassifier(max_depth=3, random_state=42)\n",
      "\n",
      "CV score is 0.7890427121734215+-0.004567514552962378\n",
      "\n",
      "Best Threshold=0.4062319003828128, F-Score=0.732, Precision=0.647, Recall=0.843\n",
      "\n",
      "Train roc auc score: 0.7893252351739053\n",
      "Test roc auc score: 0.7866707711412193\n",
      "\n",
      "Confusion matrix, without normalization\n",
      "[[4853 3990]\n",
      " [1356 7301]]\n"
     ]
    },
    {
     "data": {
      "image/png": "[encoded data removed]",
      "text/plain": [
       "<Figure size 720x576 with 2 Axes>"
      ]
     },
     "metadata": {
      "needs_background": "light"
     },
     "output_type": "display_data"
    },
    {
     "name": "stdout",
     "output_type": "stream",
     "text": [
      "TPR = 0.8433637518770937\n",
      "FPR = 0.6426155580608793\n",
      "TNR = 0.5487956575822684\n",
      "\n",
      "Расходы с оптимальной DS-метрикой\n",
      "Расходы \"решение не делать тесты - расходы с МL:\" 20697600\n",
      "Расходы \"решение не делать тесты - расходы сделать тесты всем\": 18785000\n",
      "Расходы \"сделать тесты всем - решение делать тесты ML\": 1912600\n",
      "\n",
      "\n"
     ]
    }
   ],
   "source": [
    "y_score_rf, threshold_rf = test_model(RandomForestClassifier(n_estimators=100, max_depth=3, random_state=42), X_train, y_train, X_test, y_test, 'rf')"
   ]
  },
  {
   "cell_type": "code",
   "execution_count": 14,
   "id": "fade6b59-1055-4ec8-9978-c93d73034808",
   "metadata": {},
   "outputs": [
    {
     "name": "stdout",
     "output_type": "stream",
     "text": [
      "\n",
      "Расходы с оптимальной бизнес метрикой\n",
      "Расходы \"решение не делать тесты - расходы с МL:\" 20703600\n",
      "Расходы \"решение не делать тесты - расходы сделать тесты всем\": 18785000\n",
      "Расходы \"сделать тесты всем - решение делать тесты ML\": 1918600\n"
     ]
    },
    {
     "data": {
      "image/png": "[encoded data removed]",
      "text/plain": [
       "<Figure size 432x288 with 1 Axes>"
      ]
     },
     "metadata": {
      "needs_background": "light"
     },
     "output_type": "display_data"
    },
    {
     "name": "stdout",
     "output_type": "stream",
     "text": [
      "уровень порога по бизнес метрике 0.3684210526315789\n",
      "уровень порога по f1 метрике 0.4062319003828128\n"
     ]
    }
   ],
   "source": [
    "busines_tr = business_threshold_calibrate(y_test, y_score_rf, \n",
    "                                          threshold_rf,\n",
    "                                          rubl_test=1400, \n",
    "                                          rubl_early_treatment=15000, \n",
    "                                          rubl_late_treatment=20000)\n",
    "\n",
    "print('уровень порога по бизнес метрике', busines_tr)\n",
    "print('уровень порога по f1 метрике', threshold_rf)"
   ]
  },
  {
   "cell_type": "markdown",
   "id": "5a59b9f6-f3ca-4327-bef9-5750e6d623df",
   "metadata": {},
   "source": [
    "## GradientBoostingClassifier"
   ]
  },
  {
   "cell_type": "code",
   "execution_count": 15,
   "id": "72cb9fd3-7e6c-4e7f-a283-747cf27a60bc",
   "metadata": {},
   "outputs": [
    {
     "name": "stdout",
     "output_type": "stream",
     "text": [
      "\n",
      "GradientBoostingClassifier(n_estimators=200, random_state=42)\n",
      "\n",
      "CV score is 0.8025959117598136+-0.0035340986512054106\n",
      "\n",
      "Best Threshold=0.3435122829469178, F-Score=0.740, Precision=0.659, Recall=0.843\n",
      "\n",
      "Train roc auc score: 0.811440393298139\n",
      "Test roc auc score: 0.8015971724270279\n",
      "\n",
      "Confusion matrix, without normalization\n",
      "[[5061 3782]\n",
      " [1360 7297]]\n"
     ]
    },
    {
     "data": {
      "image/png": "[encoded data removed]",
      "text/plain": [
       "<Figure size 720x576 with 2 Axes>"
      ]
     },
     "metadata": {
      "needs_background": "light"
     },
     "output_type": "display_data"
    },
    {
     "name": "stdout",
     "output_type": "stream",
     "text": [
      "TPR = 0.8429016980478226\n",
      "FPR = 0.5890048279084255\n",
      "TNR = 0.5723170869614385\n",
      "\n",
      "Расходы с оптимальной DS-метрикой\n",
      "Расходы \"решение не делать тесты - расходы с МL:\" 20974400\n",
      "Расходы \"решение не делать тесты - расходы сделать тесты всем\": 18785000\n",
      "Расходы \"сделать тесты всем - решение делать тесты ML\": 2189400\n",
      "\n",
      "\n"
     ]
    }
   ],
   "source": [
    "y_score_gb, threshold_gb = test_model(GradientBoostingClassifier(n_estimators=200, random_state=42), X_train, y_train, X_test, y_test, 'gb')"
   ]
  },
  {
   "cell_type": "code",
   "execution_count": 17,
   "id": "59065075-820b-410d-b9d9-a27ca64997fa",
   "metadata": {},
   "outputs": [
    {
     "name": "stdout",
     "output_type": "stream",
     "text": [
      "\n",
      "Расходы с оптимальной бизнес метрикой\n",
      "Расходы \"решение не делать тесты - расходы с МL:\" 21134000\n",
      "Расходы \"решение не делать тесты - расходы сделать тесты всем\": 18785000\n",
      "Расходы \"сделать тесты всем - решение делать тесты ML\": 2349000\n"
     ]
    },
    {
     "data": {
      "image/png": "[encoded data removed]",
      "text/plain": [
       "<Figure size 432x288 with 1 Axes>"
      ]
     },
     "metadata": {
      "needs_background": "light"
     },
     "output_type": "display_data"
    },
    {
     "name": "stdout",
     "output_type": "stream",
     "text": [
      "уровень порога по бизнес метрике 0.2631578947368421\n",
      "уровень порога по f1 метрике 0.3435122829469178\n"
     ]
    }
   ],
   "source": [
    "busines_tr = business_threshold_calibrate(y_test, y_score_gb, \n",
    "                                          threshold_gb,\n",
    "                                          rubl_test=1400, \n",
    "                                          rubl_early_treatment=15000, \n",
    "                                          rubl_late_treatment=20000)\n",
    "\n",
    "print('уровень порога по бизнес метрике', busines_tr)\n",
    "print('уровень порога по f1 метрике', threshold_gb)"
   ]
  },
  {
   "cell_type": "markdown",
   "id": "2ef577f4-ac78-4762-a15a-4063ec39d9bc",
   "metadata": {},
   "source": [
    "## LogisticRegression"
   ]
  },
  {
   "cell_type": "code",
   "execution_count": 18,
   "id": "dc85e0de-f04e-47f6-a5cc-b7817a35a67b",
   "metadata": {},
   "outputs": [
    {
     "name": "stdout",
     "output_type": "stream",
     "text": [
      "\n",
      "LogisticRegression(max_iter=1000, random_state=42)\n",
      "\n",
      "CV score is 0.7545825947678153+-0.004842072618404077\n",
      "\n",
      "Best Threshold=0.3987651061707421, F-Score=0.732, Precision=0.649, Recall=0.840\n",
      "\n",
      "Train roc auc score: 0.7825299499468632\n",
      "Test roc auc score: 0.7847753864139374\n",
      "\n",
      "Confusion matrix, without normalization\n",
      "[[4906 3937]\n",
      " [1388 7269]]\n"
     ]
    },
    {
     "data": {
      "image/png": "[encoded data removed]",
      "text/plain": [
       "<Figure size 720x576 with 2 Axes>"
      ]
     },
     "metadata": {
      "needs_background": "light"
     },
     "output_type": "display_data"
    },
    {
     "name": "stdout",
     "output_type": "stream",
     "text": [
      "TPR = 0.8396673212429248\n",
      "FPR = 0.6255163647918652\n",
      "TNR = 0.5547890987221531\n",
      "\n",
      "Расходы с оптимальной DS-метрикой\n",
      "Расходы \"решение не делать тесты - расходы с МL:\" 20656600\n",
      "Расходы \"решение не делать тесты - расходы сделать тесты всем\": 18785000\n",
      "Расходы \"сделать тесты всем - решение делать тесты ML\": 1871600\n",
      "\n",
      "\n"
     ]
    }
   ],
   "source": [
    "y_score_lr, threshold_lr = test_model(LogisticRegression(max_iter=1000, random_state=42), X_train, y_train, X_test, y_test, 'lr')"
   ]
  },
  {
   "cell_type": "code",
   "execution_count": 20,
   "id": "d70bdc61-a264-4e4e-9d45-b88852d7becf",
   "metadata": {},
   "outputs": [
    {
     "name": "stdout",
     "output_type": "stream",
     "text": [
      "\n",
      "Расходы с оптимальной бизнес метрикой\n",
      "Расходы \"решение не делать тесты - расходы с МL:\" 20879200\n",
      "Расходы \"решение не делать тесты - расходы сделать тесты всем\": 18785000\n",
      "Расходы \"сделать тесты всем - решение делать тесты ML\": 2094200\n"
     ]
    },
    {
     "data": {
      "image/png": "[encoded data removed]",
      "text/plain": [
       "<Figure size 432x288 with 1 Axes>"
      ]
     },
     "metadata": {
      "needs_background": "light"
     },
     "output_type": "display_data"
    },
    {
     "name": "stdout",
     "output_type": "stream",
     "text": [
      "уровень порога по бизнес метрике 0.3157894736842105\n",
      "уровень порога по f1 метрике 0.3987651061707421\n"
     ]
    }
   ],
   "source": [
    "busines_tr = business_threshold_calibrate(y_test, y_score_lr, \n",
    "                                          threshold_lr,\n",
    "                                          rubl_test=1400, \n",
    "                                          rubl_early_treatment=15000, \n",
    "                                          rubl_late_treatment=20000)\n",
    "\n",
    "print('уровень порога по бизнес метрике', busines_tr)\n",
    "print('уровень порога по f1 метрике', threshold_lr)"
   ]
  },
  {
   "cell_type": "markdown",
   "id": "e72d8471-10dc-4022-a058-994601e4dbba",
   "metadata": {},
   "source": [
    "**Вывод лучшее качество показывает GradientBoostingClassifier как DS метрика так и бизнес показатели выше, чем у других**"
   ]
  },
  {
   "cell_type": "code",
   "execution_count": null,
   "id": "a11d7f00-a22f-4cb3-bd05-a191e7e6fbd9",
   "metadata": {},
   "outputs": [],
   "source": []
  }
 ],
 "metadata": {
  "kernelspec": {
   "display_name": "Python 3",
   "language": "python",
   "name": "python3"
  },
  "language_info": {
   "codemirror_mode": {
    "name": "ipython",
    "version": 3
   },
   "file_extension": ".py",
   "mimetype": "text/x-python",
   "name": "python",
   "nbconvert_exporter": "python",
   "pygments_lexer": "ipython3",
   "version": "3.8.8"
  }
 },
 "nbformat": 4,
 "nbformat_minor": 5
}

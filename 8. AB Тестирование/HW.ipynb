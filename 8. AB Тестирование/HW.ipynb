{
 "cells": [
  {
   "cell_type": "code",
   "execution_count": 1,
   "id": "eaa5dfee-7a61-4033-bab5-47a485a68c06",
   "metadata": {},
   "outputs": [],
   "source": [
    "from statsmodels.stats import proportion\n",
    "import matplotlib.pyplot as plt\n",
    "import seaborn as sns\n",
    "import pandas as pd\n",
    "import numpy as np"
   ]
  },
  {
   "cell_type": "code",
   "execution_count": 2,
   "id": "7df2f606-81ea-4542-aedb-0b4d5c85ce0c",
   "metadata": {},
   "outputs": [
    {
     "data": {
      "text/html": [
       "<div>\n",
       "<style scoped>\n",
       "    .dataframe tbody tr th:only-of-type {\n",
       "        vertical-align: middle;\n",
       "    }\n",
       "\n",
       "    .dataframe tbody tr th {\n",
       "        vertical-align: top;\n",
       "    }\n",
       "\n",
       "    .dataframe thead th {\n",
       "        text-align: right;\n",
       "    }\n",
       "</style>\n",
       "<table border=\"1\" class=\"dataframe\">\n",
       "  <thead>\n",
       "    <tr style=\"text-align: right;\">\n",
       "      <th></th>\n",
       "      <th>user_id</th>\n",
       "      <th>date_served</th>\n",
       "      <th>marketing_channel</th>\n",
       "      <th>variant</th>\n",
       "      <th>language_displayed</th>\n",
       "      <th>converted</th>\n",
       "    </tr>\n",
       "  </thead>\n",
       "  <tbody>\n",
       "    <tr>\n",
       "      <th>0</th>\n",
       "      <td>a1000</td>\n",
       "      <td>1/1/18</td>\n",
       "      <td>House Ads</td>\n",
       "      <td>personalization</td>\n",
       "      <td>English</td>\n",
       "      <td>True</td>\n",
       "    </tr>\n",
       "    <tr>\n",
       "      <th>1</th>\n",
       "      <td>a1001</td>\n",
       "      <td>1/1/18</td>\n",
       "      <td>House Ads</td>\n",
       "      <td>personalization</td>\n",
       "      <td>English</td>\n",
       "      <td>True</td>\n",
       "    </tr>\n",
       "    <tr>\n",
       "      <th>2</th>\n",
       "      <td>a1002</td>\n",
       "      <td>1/1/18</td>\n",
       "      <td>House Ads</td>\n",
       "      <td>personalization</td>\n",
       "      <td>English</td>\n",
       "      <td>True</td>\n",
       "    </tr>\n",
       "  </tbody>\n",
       "</table>\n",
       "</div>"
      ],
      "text/plain": [
       "  user_id date_served marketing_channel          variant language_displayed  \\\n",
       "0   a1000      1/1/18         House Ads  personalization            English   \n",
       "1   a1001      1/1/18         House Ads  personalization            English   \n",
       "2   a1002      1/1/18         House Ads  personalization            English   \n",
       "\n",
       "  converted  \n",
       "0      True  \n",
       "1      True  \n",
       "2      True  "
      ]
     },
     "execution_count": 2,
     "metadata": {},
     "output_type": "execute_result"
    }
   ],
   "source": [
    "df = pd.read_csv(\"marketing_campaign.csv\")\n",
    "df.head(3)"
   ]
  },
  {
   "cell_type": "code",
   "execution_count": 3,
   "id": "c3b8c030-d39a-4d10-9c6e-ae15669d8883",
   "metadata": {},
   "outputs": [
    {
     "data": {
      "text/plain": [
       "control            5091\n",
       "personalization    4946\n",
       "Name: variant, dtype: int64"
      ]
     },
     "execution_count": 3,
     "metadata": {},
     "output_type": "execute_result"
    }
   ],
   "source": [
    "df['variant'].value_counts()"
   ]
  },
  {
   "cell_type": "code",
   "execution_count": 4,
   "id": "e73bcbf1-33f6-4f87-936d-05a2618bc986",
   "metadata": {},
   "outputs": [
    {
     "name": "stdout",
     "output_type": "stream",
     "text": [
      "<class 'pandas.core.frame.DataFrame'>\n",
      "RangeIndex: 10037 entries, 0 to 10036\n",
      "Data columns (total 6 columns):\n",
      " #   Column              Non-Null Count  Dtype \n",
      "---  ------              --------------  ----- \n",
      " 0   user_id             10037 non-null  object\n",
      " 1   date_served         10021 non-null  object\n",
      " 2   marketing_channel   10022 non-null  object\n",
      " 3   variant             10037 non-null  object\n",
      " 4   language_displayed  10037 non-null  object\n",
      " 5   converted           10022 non-null  object\n",
      "dtypes: object(6)\n",
      "memory usage: 470.6+ KB\n"
     ]
    }
   ],
   "source": [
    "df.info()"
   ]
  },
  {
   "cell_type": "code",
   "execution_count": 5,
   "id": "e132e982-b203-4af3-a01f-88cd954b2d42",
   "metadata": {},
   "outputs": [
    {
     "data": {
      "text/html": [
       "<div>\n",
       "<style scoped>\n",
       "    .dataframe tbody tr th:only-of-type {\n",
       "        vertical-align: middle;\n",
       "    }\n",
       "\n",
       "    .dataframe tbody tr th {\n",
       "        vertical-align: top;\n",
       "    }\n",
       "\n",
       "    .dataframe thead th {\n",
       "        text-align: right;\n",
       "    }\n",
       "</style>\n",
       "<table border=\"1\" class=\"dataframe\">\n",
       "  <thead>\n",
       "    <tr style=\"text-align: right;\">\n",
       "      <th></th>\n",
       "      <th>user_id</th>\n",
       "      <th>date_served</th>\n",
       "      <th>marketing_channel</th>\n",
       "      <th>variant</th>\n",
       "      <th>language_displayed</th>\n",
       "      <th>converted</th>\n",
       "    </tr>\n",
       "  </thead>\n",
       "  <tbody>\n",
       "    <tr>\n",
       "      <th>0</th>\n",
       "      <td>a1000</td>\n",
       "      <td>1/1/18</td>\n",
       "      <td>House Ads</td>\n",
       "      <td>personalization</td>\n",
       "      <td>English</td>\n",
       "      <td>1</td>\n",
       "    </tr>\n",
       "    <tr>\n",
       "      <th>1</th>\n",
       "      <td>a1001</td>\n",
       "      <td>1/1/18</td>\n",
       "      <td>House Ads</td>\n",
       "      <td>personalization</td>\n",
       "      <td>English</td>\n",
       "      <td>1</td>\n",
       "    </tr>\n",
       "    <tr>\n",
       "      <th>2</th>\n",
       "      <td>a1002</td>\n",
       "      <td>1/1/18</td>\n",
       "      <td>House Ads</td>\n",
       "      <td>personalization</td>\n",
       "      <td>English</td>\n",
       "      <td>1</td>\n",
       "    </tr>\n",
       "  </tbody>\n",
       "</table>\n",
       "</div>"
      ],
      "text/plain": [
       "  user_id date_served marketing_channel          variant language_displayed  \\\n",
       "0   a1000      1/1/18         House Ads  personalization            English   \n",
       "1   a1001      1/1/18         House Ads  personalization            English   \n",
       "2   a1002      1/1/18         House Ads  personalization            English   \n",
       "\n",
       "   converted  \n",
       "0          1  \n",
       "1          1  \n",
       "2          1  "
      ]
     },
     "execution_count": 5,
     "metadata": {},
     "output_type": "execute_result"
    }
   ],
   "source": [
    "converted = list()\n",
    "for value in df['converted'].values:\n",
    "    if value == True:\n",
    "        converted.append(1)\n",
    "    else:\n",
    "        converted.append(0)\n",
    "df['converted'] = converted\n",
    "df.head(3)"
   ]
  },
  {
   "cell_type": "code",
   "execution_count": 6,
   "id": "c1ddce16-f27f-49a3-834c-e74e3f334ded",
   "metadata": {},
   "outputs": [
    {
     "data": {
      "text/plain": [
       "<AxesSubplot:xlabel='marketing_channel', ylabel='converted'>"
      ]
     },
     "execution_count": 6,
     "metadata": {},
     "output_type": "execute_result"
    },
    {
     "data": {
      "image/png": "[encoded data removed]",
      "text/plain": [
       "<Figure size 432x288 with 1 Axes>"
      ]
     },
     "metadata": {},
     "output_type": "display_data"
    }
   ],
   "source": [
    "sns.set_theme(style=\"whitegrid\")\n",
    "sns.barplot(data=df[df['variant'] == 'control'], x='marketing_channel', y='converted', hue='marketing_channel')"
   ]
  },
  {
   "cell_type": "code",
   "execution_count": 7,
   "id": "c84ea27b-8f4a-4106-8482-f434b891295f",
   "metadata": {},
   "outputs": [
    {
     "data": {
      "text/plain": [
       "<AxesSubplot:xlabel='marketing_channel', ylabel='converted'>"
      ]
     },
     "execution_count": 7,
     "metadata": {},
     "output_type": "execute_result"
    },
    {
     "data": {
      "image/png": "[encoded data removed]",
      "text/plain": [
       "<Figure size 432x288 with 1 Axes>"
      ]
     },
     "metadata": {},
     "output_type": "display_data"
    }
   ],
   "source": [
    "sns.barplot(data=df[df['variant'] == 'personalization'], x='marketing_channel', y='converted', hue='marketing_channel')"
   ]
  },
  {
   "cell_type": "code",
   "execution_count": 8,
   "id": "2138ab9b-c408-49c2-aeb6-815240f42f23",
   "metadata": {},
   "outputs": [
    {
     "data": {
      "text/plain": [
       "English    9793\n",
       "Spanish     136\n",
       "German       81\n",
       "Arabic       27\n",
       "Name: language_displayed, dtype: int64"
      ]
     },
     "execution_count": 8,
     "metadata": {},
     "output_type": "execute_result"
    }
   ],
   "source": [
    "df['language_displayed'].value_counts()"
   ]
  },
  {
   "cell_type": "code",
   "execution_count": 9,
   "id": "27557a74-f4d9-4af7-819c-276e36526af1",
   "metadata": {},
   "outputs": [
    {
     "data": {
      "text/plain": [
       "English    987\n",
       "German      53\n",
       "Spanish     24\n",
       "Arabic      12\n",
       "Name: language_displayed, dtype: int64"
      ]
     },
     "execution_count": 9,
     "metadata": {},
     "output_type": "execute_result"
    }
   ],
   "source": [
    "df[df['converted'] == 1]['language_displayed'].value_counts()"
   ]
  },
  {
   "cell_type": "code",
   "execution_count": 10,
   "id": "42b043c2-62ab-42ce-8a18-293d69e75fee",
   "metadata": {},
   "outputs": [
    {
     "data": {
      "text/plain": [
       "0    8961\n",
       "1    1076\n",
       "Name: converted, dtype: int64"
      ]
     },
     "execution_count": 10,
     "metadata": {},
     "output_type": "execute_result"
    }
   ],
   "source": [
    "df['converted'].value_counts()"
   ]
  },
  {
   "cell_type": "code",
   "execution_count": 11,
   "id": "27b42b5c-ce70-459e-a22b-31e1b194f388",
   "metadata": {},
   "outputs": [
    {
     "data": {
      "text/html": [
       "<div>\n",
       "<style scoped>\n",
       "    .dataframe tbody tr th:only-of-type {\n",
       "        vertical-align: middle;\n",
       "    }\n",
       "\n",
       "    .dataframe tbody tr th {\n",
       "        vertical-align: top;\n",
       "    }\n",
       "\n",
       "    .dataframe thead tr th {\n",
       "        text-align: left;\n",
       "    }\n",
       "\n",
       "    .dataframe thead tr:last-of-type th {\n",
       "        text-align: right;\n",
       "    }\n",
       "</style>\n",
       "<table border=\"1\" class=\"dataframe\">\n",
       "  <thead>\n",
       "    <tr>\n",
       "      <th></th>\n",
       "      <th>sum</th>\n",
       "      <th>count</th>\n",
       "    </tr>\n",
       "    <tr>\n",
       "      <th></th>\n",
       "      <th>converted</th>\n",
       "      <th>converted</th>\n",
       "    </tr>\n",
       "    <tr>\n",
       "      <th>variant</th>\n",
       "      <th></th>\n",
       "      <th></th>\n",
       "    </tr>\n",
       "  </thead>\n",
       "  <tbody>\n",
       "    <tr>\n",
       "      <th>control</th>\n",
       "      <td>371</td>\n",
       "      <td>5091</td>\n",
       "    </tr>\n",
       "    <tr>\n",
       "      <th>personalization</th>\n",
       "      <td>705</td>\n",
       "      <td>4946</td>\n",
       "    </tr>\n",
       "  </tbody>\n",
       "</table>\n",
       "</div>"
      ],
      "text/plain": [
       "                      sum     count\n",
       "                converted converted\n",
       "variant                            \n",
       "control               371      5091\n",
       "personalization       705      4946"
      ]
     },
     "execution_count": 11,
     "metadata": {},
     "output_type": "execute_result"
    }
   ],
   "source": [
    "grouped = df.pivot_table(values='converted', index='variant', aggfunc=['sum', 'count'])\n",
    "grouped"
   ]
  },
  {
   "cell_type": "code",
   "execution_count": 12,
   "id": "e29d6ef0-a0f1-4a4d-9721-070c2d0bfe38",
   "metadata": {},
   "outputs": [
    {
     "data": {
      "text/plain": [
       "(371, 4720)"
      ]
     },
     "execution_count": 12,
     "metadata": {},
     "output_type": "execute_result"
    }
   ],
   "source": [
    "df[df['variant'] == 'control']['converted'].value_counts()[1], df[df['variant'] == 'control']['converted'].value_counts()[0]"
   ]
  },
  {
   "cell_type": "code",
   "execution_count": 13,
   "id": "bae9a861-4e33-4062-8543-3d89020921c6",
   "metadata": {},
   "outputs": [
    {
     "data": {
      "text/plain": [
       "(705, 4241)"
      ]
     },
     "execution_count": 13,
     "metadata": {},
     "output_type": "execute_result"
    }
   ],
   "source": [
    "df[df['variant'] == 'personalization']['converted'].value_counts()[1], df[df['variant'] == 'personalization']['converted'].value_counts()[0]"
   ]
  },
  {
   "cell_type": "code",
   "execution_count": 14,
   "id": "27a17574-a064-4239-b6ad-a18897684369",
   "metadata": {},
   "outputs": [
    {
     "data": {
      "text/plain": [
       "(0.07287369868395208, 0.14253942579862516)"
      ]
     },
     "execution_count": 14,
     "metadata": {},
     "output_type": "execute_result"
    }
   ],
   "source": [
    "conv_A = df[df['variant'] == 'control']['converted'].value_counts()[1] / df[df['variant'] == 'control'].shape[0]\n",
    "conv_B = df[df['variant'] == 'personalization']['converted'].value_counts()[1] / df[df['variant'] == 'personalization'].shape[0]\n",
    "conv_A, conv_B"
   ]
  },
  {
   "cell_type": "markdown",
   "id": "29bf0470-fa31-4b19-8ab3-d56a626026e9",
   "metadata": {},
   "source": [
    "Видим что в группе персонализации конверсия больше, проверим это с помощью статистических тестов"
   ]
  },
  {
   "cell_type": "markdown",
   "id": "c83a015e-e76b-4f3f-829f-d92fbf0bd8b1",
   "metadata": {},
   "source": [
    "H0: Конверсия одинаковая у группы А(контрольная) и группы Б(персонализированная)\n",
    "\n",
    "H1: Конверсия различается"
   ]
  },
  {
   "cell_type": "code",
   "execution_count": 15,
   "id": "4e98695b-883b-4cfa-9974-d868363685bb",
   "metadata": {},
   "outputs": [
    {
     "data": {
      "text/plain": [
       "(371, 5091, 705, 4946)"
      ]
     },
     "execution_count": 15,
     "metadata": {},
     "output_type": "execute_result"
    }
   ],
   "source": [
    "z_crit_value = 1.96 # соответствует доверительному интервалу в 95%\n",
    "k1 = df[df['variant']=='control']['converted'].sum()\n",
    "n1 = df[df['variant']=='control'].shape[0]\n",
    "k2 = df[df['variant']=='personalization']['converted'].sum()\n",
    "n2 = df[df['variant']=='personalization'].shape[0]\n",
    "\n",
    "k1, n1, k2, n2"
   ]
  },
  {
   "cell_type": "code",
   "execution_count": 16,
   "id": "009bf8f9-f1d0-4265-bb8d-54241db76082",
   "metadata": {},
   "outputs": [
    {
     "name": "stdout",
     "output_type": "stream",
     "text": [
      "Results are z_score=-11.279 pvalue=0.000\n"
     ]
    }
   ],
   "source": [
    "z_score, z_pvalue = proportion.proportions_ztest(np.array([k1, k2]), \n",
    "                                                 np.array([n1, n2]))\n",
    "\n",
    "print(f'Results are z_score={z_score:.3f} pvalue={z_pvalue:.3f}')"
   ]
  },
  {
   "cell_type": "code",
   "execution_count": 17,
   "id": "59d68f3c-c04c-4d3c-a36c-70f09e4c9e05",
   "metadata": {},
   "outputs": [
    {
     "name": "stdout",
     "output_type": "stream",
     "text": [
      "Results are chisq=127.213 pvalue=0.000\n"
     ]
    }
   ],
   "source": [
    "chisq, pvalue, table = proportion.proportions_chisquare(np.array([k1, k2]), \n",
    "                                                        np.array([n1, n2]))\n",
    "\n",
    "print(f'Results are chisq={chisq:.3f} pvalue={pvalue:.3f}')"
   ]
  },
  {
   "cell_type": "markdown",
   "id": "1a12eb0f-b39f-4d20-a003-8af5a418cf53",
   "metadata": {},
   "source": [
    "По результатом двух тестов мы отвергаем нулевую гипотезу. В персонализированной группе конверсия статистически больше"
   ]
  },
  {
   "cell_type": "code",
   "execution_count": null,
   "id": "338c38f8-92cb-4420-b6dc-2350e8392fd2",
   "metadata": {},
   "outputs": [],
   "source": []
  }
 ],
 "metadata": {
  "kernelspec": {
   "display_name": "Python 3",
   "language": "python",
   "name": "python3"
  },
  "language_info": {
   "codemirror_mode": {
    "name": "ipython",
    "version": 3
   },
   "file_extension": ".py",
   "mimetype": "text/x-python",
   "name": "python",
   "nbconvert_exporter": "python",
   "pygments_lexer": "ipython3",
   "version": "3.8.8"
  }
 },
 "nbformat": 4,
 "nbformat_minor": 5
}

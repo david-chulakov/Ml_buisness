{
 "cells": [
  {
   "cell_type": "code",
   "execution_count": 7,
   "id": "896fbcde-f66b-4424-968f-2c5c135e7ce3",
   "metadata": {},
   "outputs": [],
   "source": [
    "import numpy as np\n",
    "import pandas as pd\n",
    "from sklearn.pipeline import Pipeline, make_pipeline\n",
    "from sklearn.base import BaseEstimator, TransformerMixin\n",
    "from sklearn.linear_model import LogisticRegression\n",
    "from sklearn.ensemble import RandomForestClassifier\n",
    "from sklearn.model_selection import train_test_split\n",
    "from sklearn.feature_extraction.text import TfidfVectorizer\n",
    "import itertools\n",
    "\n",
    "%matplotlib inline\n",
    "import matplotlib.pyplot as plt\n"
   ]
  },
  {
   "cell_type": "code",
   "execution_count": 8,
   "id": "1bc5d23c-0072-4ebb-904c-4915e0554f3c",
   "metadata": {},
   "outputs": [
    {
     "data": {
      "text/html": [
       "<div>\n",
       "<style scoped>\n",
       "    .dataframe tbody tr th:only-of-type {\n",
       "        vertical-align: middle;\n",
       "    }\n",
       "\n",
       "    .dataframe tbody tr th {\n",
       "        vertical-align: top;\n",
       "    }\n",
       "\n",
       "    .dataframe thead th {\n",
       "        text-align: right;\n",
       "    }\n",
       "</style>\n",
       "<table border=\"1\" class=\"dataframe\">\n",
       "  <thead>\n",
       "    <tr style=\"text-align: right;\">\n",
       "      <th></th>\n",
       "      <th>Name</th>\n",
       "      <th>item_category</th>\n",
       "      <th>item_brand</th>\n",
       "      <th>item_weight</th>\n",
       "      <th>item_type</th>\n",
       "    </tr>\n",
       "  </thead>\n",
       "  <tbody>\n",
       "    <tr>\n",
       "      <th>0</th>\n",
       "      <td>зубная паста лакалют актив 75мл</td>\n",
       "      <td>Красота, гигиена, бытовая химия</td>\n",
       "      <td>splat</td>\n",
       "      <td>75мл</td>\n",
       "      <td>зубная паста</td>\n",
       "    </tr>\n",
       "    <tr>\n",
       "      <th>1</th>\n",
       "      <td>зубная паста лакалют сенситив 75мл</td>\n",
       "      <td>Красота, гигиена, бытовая химия</td>\n",
       "      <td>splat</td>\n",
       "      <td>75мл</td>\n",
       "      <td>зубная паста</td>\n",
       "    </tr>\n",
       "    <tr>\n",
       "      <th>2</th>\n",
       "      <td>зубная паста лесной бальзам ромашка и облепиха...</td>\n",
       "      <td>Красота, гигиена, бытовая химия</td>\n",
       "      <td>лесной бальзам</td>\n",
       "      <td>NaN</td>\n",
       "      <td>зубная паста</td>\n",
       "    </tr>\n",
       "    <tr>\n",
       "      <th>3</th>\n",
       "      <td>зубная паста лесной бальзам с экстрактом коры ...</td>\n",
       "      <td>Красота, гигиена, бытовая химия</td>\n",
       "      <td>лесной бальзам</td>\n",
       "      <td>NaN</td>\n",
       "      <td>зубная паста</td>\n",
       "    </tr>\n",
       "    <tr>\n",
       "      <th>4</th>\n",
       "      <td>колбаса молочная вязанка вареная мини 0,5кг (с...</td>\n",
       "      <td>Птица, мясо, деликатесы</td>\n",
       "      <td>вязанка</td>\n",
       "      <td>5кг</td>\n",
       "      <td>колбаса</td>\n",
       "    </tr>\n",
       "  </tbody>\n",
       "</table>\n",
       "</div>"
      ],
      "text/plain": [
       "                                                Name  \\\n",
       "0                    зубная паста лакалют актив 75мл   \n",
       "1                 зубная паста лакалют сенситив 75мл   \n",
       "2  зубная паста лесной бальзам ромашка и облепиха...   \n",
       "3  зубная паста лесной бальзам с экстрактом коры ...   \n",
       "4  колбаса молочная вязанка вареная мини 0,5кг (с...   \n",
       "\n",
       "                     item_category      item_brand item_weight     item_type  \n",
       "0  Красота, гигиена, бытовая химия           splat        75мл  зубная паста  \n",
       "1  Красота, гигиена, бытовая химия           splat        75мл  зубная паста  \n",
       "2  Красота, гигиена, бытовая химия  лесной бальзам         NaN  зубная паста  \n",
       "3  Красота, гигиена, бытовая химия  лесной бальзам         NaN  зубная паста  \n",
       "4          Птица, мясо, деликатесы         вязанка         5кг       колбаса  "
      ]
     },
     "execution_count": 8,
     "metadata": {},
     "output_type": "execute_result"
    }
   ],
   "source": [
    "items = pd.read_csv('items.csv')\n",
    "items.head()"
   ]
  },
  {
   "cell_type": "code",
   "execution_count": 9,
   "id": "a85ca0df-4105-4036-a092-9c8f50d4d788",
   "metadata": {},
   "outputs": [
    {
     "data": {
      "text/plain": [
       "array(['зубная паста', 'колбаса', 'кофе', 'напиток', 'пюре', 'сыр', 'чай',\n",
       "       'шампунь', 'шоколад', 'корм'], dtype=object)"
      ]
     },
     "execution_count": 9,
     "metadata": {},
     "output_type": "execute_result"
    }
   ],
   "source": [
    "items['item_type'].unique()"
   ]
  },
  {
   "cell_type": "code",
   "execution_count": 10,
   "id": "e07dddb1-4a79-497d-bc77-d3369a614ebf",
   "metadata": {},
   "outputs": [
    {
     "data": {
      "text/html": [
       "<div>\n",
       "<style scoped>\n",
       "    .dataframe tbody tr th:only-of-type {\n",
       "        vertical-align: middle;\n",
       "    }\n",
       "\n",
       "    .dataframe tbody tr th {\n",
       "        vertical-align: top;\n",
       "    }\n",
       "\n",
       "    .dataframe thead th {\n",
       "        text-align: right;\n",
       "    }\n",
       "</style>\n",
       "<table border=\"1\" class=\"dataframe\">\n",
       "  <thead>\n",
       "    <tr style=\"text-align: right;\">\n",
       "      <th></th>\n",
       "      <th>user_id</th>\n",
       "      <th>item</th>\n",
       "    </tr>\n",
       "  </thead>\n",
       "  <tbody>\n",
       "    <tr>\n",
       "      <th>0</th>\n",
       "      <td>ed6b1aaf-21df-5b75-9b7f-ed67926cd17c</td>\n",
       "      <td>шоколад \"alpen gold\" белый с миндалем и кокосо...</td>\n",
       "    </tr>\n",
       "    <tr>\n",
       "      <th>1</th>\n",
       "      <td>ba82ad84-3a19-5a91-8e1e-7fd87628afb4</td>\n",
       "      <td>пюре тема говядина с гречкой с 8 месяцев</td>\n",
       "    </tr>\n",
       "    <tr>\n",
       "      <th>2</th>\n",
       "      <td>74a2856d-f0ec-59a6-89f3-1f80b294e852</td>\n",
       "      <td>колбаса микоян сервелат кремлевский варено-коп...</td>\n",
       "    </tr>\n",
       "    <tr>\n",
       "      <th>3</th>\n",
       "      <td>bbd344a2-a095-5910-b2e7-66d6971e1b76</td>\n",
       "      <td>сыр колбасный город сыра гурманский копченый г...</td>\n",
       "    </tr>\n",
       "    <tr>\n",
       "      <th>4</th>\n",
       "      <td>5ec2fc2a-c327-5f59-b920-fda229cd8175</td>\n",
       "      <td>колбаса папа может мясная вареная, 500г</td>\n",
       "    </tr>\n",
       "  </tbody>\n",
       "</table>\n",
       "</div>"
      ],
      "text/plain": [
       "                                user_id  \\\n",
       "0  ed6b1aaf-21df-5b75-9b7f-ed67926cd17c   \n",
       "1  ba82ad84-3a19-5a91-8e1e-7fd87628afb4   \n",
       "2  74a2856d-f0ec-59a6-89f3-1f80b294e852   \n",
       "3  bbd344a2-a095-5910-b2e7-66d6971e1b76   \n",
       "4  5ec2fc2a-c327-5f59-b920-fda229cd8175   \n",
       "\n",
       "                                                item  \n",
       "0  шоколад \"alpen gold\" белый с миндалем и кокосо...  \n",
       "1           пюре тема говядина с гречкой с 8 месяцев  \n",
       "2  колбаса микоян сервелат кремлевский варено-коп...  \n",
       "3  сыр колбасный город сыра гурманский копченый г...  \n",
       "4            колбаса папа может мясная вареная, 500г  "
      ]
     },
     "execution_count": 10,
     "metadata": {},
     "output_type": "execute_result"
    }
   ],
   "source": [
    "purchases = pd.read_csv('purchases.csv')\n",
    "purchases.head()"
   ]
  },
  {
   "cell_type": "code",
   "execution_count": 11,
   "id": "4ccbe3c6-ba05-4055-905a-134d4386730e",
   "metadata": {},
   "outputs": [],
   "source": [
    "purchases = pd.merge(purchases, items, left_on='item', right_on='Name')\n"
   ]
  },
  {
   "cell_type": "code",
   "execution_count": 12,
   "id": "779754bb-8a3c-4e2f-8977-914a7d4f9705",
   "metadata": {},
   "outputs": [
    {
     "data": {
      "text/html": [
       "<div>\n",
       "<style scoped>\n",
       "    .dataframe tbody tr th:only-of-type {\n",
       "        vertical-align: middle;\n",
       "    }\n",
       "\n",
       "    .dataframe tbody tr th {\n",
       "        vertical-align: top;\n",
       "    }\n",
       "\n",
       "    .dataframe thead th {\n",
       "        text-align: right;\n",
       "    }\n",
       "</style>\n",
       "<table border=\"1\" class=\"dataframe\">\n",
       "  <thead>\n",
       "    <tr style=\"text-align: right;\">\n",
       "      <th></th>\n",
       "      <th>user_id</th>\n",
       "      <th>Name</th>\n",
       "      <th>item_category</th>\n",
       "      <th>item_brand</th>\n",
       "      <th>item_weight</th>\n",
       "      <th>item_type</th>\n",
       "    </tr>\n",
       "  </thead>\n",
       "  <tbody>\n",
       "    <tr>\n",
       "      <th>0</th>\n",
       "      <td>ed6b1aaf-21df-5b75-9b7f-ed67926cd17c</td>\n",
       "      <td>шоколад \"alpen gold\" белый с миндалем и кокосо...</td>\n",
       "      <td>Хлеб, сладости, снеки</td>\n",
       "      <td>alpen gold</td>\n",
       "      <td>90г</td>\n",
       "      <td>шоколад</td>\n",
       "    </tr>\n",
       "    <tr>\n",
       "      <th>1</th>\n",
       "      <td>b4a10859-3f8c-5dc1-8d5d-5977f9aa8bde</td>\n",
       "      <td>шоколад \"alpen gold\" белый с миндалем и кокосо...</td>\n",
       "      <td>Хлеб, сладости, снеки</td>\n",
       "      <td>alpen gold</td>\n",
       "      <td>90г</td>\n",
       "      <td>шоколад</td>\n",
       "    </tr>\n",
       "    <tr>\n",
       "      <th>2</th>\n",
       "      <td>464053f2-ead4-500e-8486-9d5d66c1bbd7</td>\n",
       "      <td>шоколад \"alpen gold\" белый с миндалем и кокосо...</td>\n",
       "      <td>Хлеб, сладости, снеки</td>\n",
       "      <td>alpen gold</td>\n",
       "      <td>90г</td>\n",
       "      <td>шоколад</td>\n",
       "    </tr>\n",
       "    <tr>\n",
       "      <th>3</th>\n",
       "      <td>baf7d53b-3170-5984-b05c-c5d2b8788d57</td>\n",
       "      <td>шоколад \"alpen gold\" белый с миндалем и кокосо...</td>\n",
       "      <td>Хлеб, сладости, снеки</td>\n",
       "      <td>alpen gold</td>\n",
       "      <td>90г</td>\n",
       "      <td>шоколад</td>\n",
       "    </tr>\n",
       "    <tr>\n",
       "      <th>4</th>\n",
       "      <td>ef6beb0e-a09e-5372-aa91-eb467f117aa8</td>\n",
       "      <td>шоколад \"alpen gold\" белый с миндалем и кокосо...</td>\n",
       "      <td>Хлеб, сладости, снеки</td>\n",
       "      <td>alpen gold</td>\n",
       "      <td>90г</td>\n",
       "      <td>шоколад</td>\n",
       "    </tr>\n",
       "  </tbody>\n",
       "</table>\n",
       "</div>"
      ],
      "text/plain": [
       "                                user_id  \\\n",
       "0  ed6b1aaf-21df-5b75-9b7f-ed67926cd17c   \n",
       "1  b4a10859-3f8c-5dc1-8d5d-5977f9aa8bde   \n",
       "2  464053f2-ead4-500e-8486-9d5d66c1bbd7   \n",
       "3  baf7d53b-3170-5984-b05c-c5d2b8788d57   \n",
       "4  ef6beb0e-a09e-5372-aa91-eb467f117aa8   \n",
       "\n",
       "                                                Name          item_category  \\\n",
       "0  шоколад \"alpen gold\" белый с миндалем и кокосо...  Хлеб, сладости, снеки   \n",
       "1  шоколад \"alpen gold\" белый с миндалем и кокосо...  Хлеб, сладости, снеки   \n",
       "2  шоколад \"alpen gold\" белый с миндалем и кокосо...  Хлеб, сладости, снеки   \n",
       "3  шоколад \"alpen gold\" белый с миндалем и кокосо...  Хлеб, сладости, снеки   \n",
       "4  шоколад \"alpen gold\" белый с миндалем и кокосо...  Хлеб, сладости, снеки   \n",
       "\n",
       "   item_brand item_weight item_type  \n",
       "0  alpen gold         90г   шоколад  \n",
       "1  alpen gold         90г   шоколад  \n",
       "2  alpen gold         90г   шоколад  \n",
       "3  alpen gold         90г   шоколад  \n",
       "4  alpen gold         90г   шоколад  "
      ]
     },
     "execution_count": 12,
     "metadata": {},
     "output_type": "execute_result"
    }
   ],
   "source": [
    "purchases.drop('item', axis=1, inplace=True)\n",
    "purchases.head()"
   ]
  },
  {
   "cell_type": "code",
   "execution_count": 13,
   "id": "1349257e-eac2-4d7c-bf9d-3722d0ab5d67",
   "metadata": {},
   "outputs": [],
   "source": [
    "purchases['y'] = purchases['item_type'].apply(lambda x: 1 if x == 'чай' else 0)"
   ]
  },
  {
   "cell_type": "code",
   "execution_count": 14,
   "id": "21891c4c-42fa-4619-80ec-47d8d3381791",
   "metadata": {},
   "outputs": [
    {
     "data": {
      "text/html": [
       "<div>\n",
       "<style scoped>\n",
       "    .dataframe tbody tr th:only-of-type {\n",
       "        vertical-align: middle;\n",
       "    }\n",
       "\n",
       "    .dataframe tbody tr th {\n",
       "        vertical-align: top;\n",
       "    }\n",
       "\n",
       "    .dataframe thead th {\n",
       "        text-align: right;\n",
       "    }\n",
       "</style>\n",
       "<table border=\"1\" class=\"dataframe\">\n",
       "  <thead>\n",
       "    <tr style=\"text-align: right;\">\n",
       "      <th></th>\n",
       "      <th>user_id</th>\n",
       "      <th>purchases</th>\n",
       "      <th>y</th>\n",
       "    </tr>\n",
       "  </thead>\n",
       "  <tbody>\n",
       "    <tr>\n",
       "      <th>0</th>\n",
       "      <td>00002f01-66e4-5ab8-8d1a-1562a4ddd418</td>\n",
       "      <td>[зубная паста splat stress off антистресс 75мл...</td>\n",
       "      <td>0</td>\n",
       "    </tr>\n",
       "    <tr>\n",
       "      <th>1</th>\n",
       "      <td>0000fed8-b063-51ef-8ca4-c42c5bd022ad</td>\n",
       "      <td>[шоколад schogetten black &amp; white молочный с к...</td>\n",
       "      <td>0</td>\n",
       "    </tr>\n",
       "    <tr>\n",
       "      <th>2</th>\n",
       "      <td>0004cfe8-bcb2-5a2c-904b-643e0469cbe3</td>\n",
       "      <td>[шоколад воздушный темный 85г, сыр белебеевски...</td>\n",
       "      <td>0</td>\n",
       "    </tr>\n",
       "  </tbody>\n",
       "</table>\n",
       "</div>"
      ],
      "text/plain": [
       "                                user_id  \\\n",
       "0  00002f01-66e4-5ab8-8d1a-1562a4ddd418   \n",
       "1  0000fed8-b063-51ef-8ca4-c42c5bd022ad   \n",
       "2  0004cfe8-bcb2-5a2c-904b-643e0469cbe3   \n",
       "\n",
       "                                           purchases  y  \n",
       "0  [зубная паста splat stress off антистресс 75мл...  0  \n",
       "1  [шоколад schogetten black & white молочный с к...  0  \n",
       "2  [шоколад воздушный темный 85г, сыр белебеевски...  0  "
      ]
     },
     "execution_count": 14,
     "metadata": {},
     "output_type": "execute_result"
    }
   ],
   "source": [
    "X = purchases.groupby(['user_id']).agg({\n",
    "    'Name': lambda x: list(x),\n",
    "    'y': lambda x: max(x)\n",
    "})\n",
    "\n",
    "X['user_id'] = [i for i in X.index.values]\n",
    "X.columns = ['purchases', 'y', 'user_id']\n",
    "X = X[['user_id', 'purchases', 'y']]\n",
    "X.index = range(len(X))\n",
    "X.head(3)"
   ]
  },
  {
   "cell_type": "code",
   "execution_count": 15,
   "id": "c200c393-a62d-4c77-b4e4-eb9708001bbc",
   "metadata": {},
   "outputs": [
    {
     "data": {
      "text/plain": [
       "['зубная паста splat stress off антистресс 75мл',\n",
       " 'зубная паста splat junior карамельная груша 55мл',\n",
       " 'зубная паста president kids lollipop со вкусом леденца 50мл',\n",
       " 'корм purina one для собак с курицей',\n",
       " 'зубная паста splat special wonder white, 75мл']"
      ]
     },
     "execution_count": 15,
     "metadata": {},
     "output_type": "execute_result"
    }
   ],
   "source": [
    "X['purchases'].values[0]"
   ]
  },
  {
   "cell_type": "code",
   "execution_count": 16,
   "id": "b0ca9934-5416-4bfe-a369-f545e76c83a8",
   "metadata": {},
   "outputs": [],
   "source": [
    "import nltk\n",
    "from nltk.corpus import stopwords\n",
    "import re\n",
    "from razdel import tokenize  # сегментация русскоязычного текста на токены и предложения https://github.com/natasha/razdel\n",
    "import pymorphy2  # Морфологический анализатор"
   ]
  },
  {
   "cell_type": "code",
   "execution_count": 17,
   "id": "f164f7c7-6a0d-4805-8ba9-479bf6de4351",
   "metadata": {},
   "outputs": [
    {
     "name": "stdout",
     "output_type": "stream",
     "text": [
      "151\n"
     ]
    },
    {
     "name": "stderr",
     "output_type": "stream",
     "text": [
      "[nltk_data] Downloading package stopwords to\n",
      "[nltk_data]     C:\\Users\\David\\AppData\\Roaming\\nltk_data...\n",
      "[nltk_data]   Package stopwords is already up-to-date!\n"
     ]
    },
    {
     "data": {
      "text/plain": [
       "955"
      ]
     },
     "execution_count": 17,
     "metadata": {},
     "output_type": "execute_result"
    }
   ],
   "source": [
    "# Русские стоп слова из nltk\n",
    "nltk.download('stopwords')\n",
    "stopword_ru = stopwords.words('russian')\n",
    "stopword_eng = stopwords.words('english')\n",
    "print(len(stopword_ru))\n",
    "\n",
    "with open('stopwords.txt') as f:\n",
    "    additional_stopwords = [w.strip() for w in f.readlines() if w]\n",
    "    \n",
    "stopword_ru = additional_stopwords + stopword_eng + stopword_ru\n",
    "len(stopword_ru)"
   ]
  },
  {
   "cell_type": "code",
   "execution_count": 18,
   "id": "dbac285c-2c72-4a5c-8eb6-a9828ade88b7",
   "metadata": {},
   "outputs": [],
   "source": [
    "def clean_text(text):\n",
    "    '''\n",
    "    очистка текста\n",
    "    \n",
    "    на выходе очищеный текст\n",
    "    '''\n",
    "    if not isinstance(text, str):\n",
    "        text = str(text)\n",
    "    \n",
    "    text = text.lower()\n",
    "    text = text.strip('\\n').strip('\\r').strip('\\t')\n",
    "    text = re.sub(\"-\\s\\r\\n\\|-\\s\\r\\n|\\r\\n\", '', str(text))\n",
    "\n",
    "    text = re.sub(\"[0-9]|[-—.,:;_%©«»?*!@#№$^•·&()]|[+=]|[[]|[]]|[/]|\", '', text)\n",
    "    text = re.sub(r\"\\r\\n\\t|\\n|\\\\s|\\r\\t|\\\\n\", ' ', text)\n",
    "    text = re.sub(r'[\\xad]|[\\s+]', ' ', text.strip())\n",
    "    text = re.sub('n', ' ', text)\n",
    "    \n",
    "    return text\n",
    "\n",
    "cache = {}\n",
    "morph = pymorphy2.MorphAnalyzer()\n",
    "\n",
    "def lemmatization(text):    \n",
    "    '''\n",
    "    лемматизация\n",
    "        [0] если зашел тип не `str` делаем его `str`\n",
    "        [1] токенизация предложения через razdel\n",
    "        [2] проверка есть ли в начале слова '-'\n",
    "        [3] проверка токена с одного символа\n",
    "        [4] проверка есть ли данное слово в кэше\n",
    "        [5] лемматизация слова\n",
    "        [6] проверка на стоп-слова\n",
    "\n",
    "    на выходе лист лемматизированых токенов\n",
    "    '''\n",
    "\n",
    "    # [0]\n",
    "    if not isinstance(text, str):\n",
    "        text = str(text)\n",
    "    \n",
    "    # [1]\n",
    "    tokens = list(tokenize(text))\n",
    "    words = [_.text for _ in tokens]\n",
    "\n",
    "    words_lem = []\n",
    "    for w in words:\n",
    "        if w[0] == '-': # [2]\n",
    "            w = w[1:]\n",
    "        if len(w) > 1: # [3]\n",
    "            if w in cache: # [4]\n",
    "                words_lem.append(cache[w])\n",
    "            else: # [5]\n",
    "                temp_cach = cache[w] = morph.parse(w)[0].normal_form\n",
    "                words_lem.append(temp_cach)\n",
    "    \n",
    "    words_lem_without_stopwords = [i for i in words_lem if not i in stopword_ru] # [6]\n",
    "    \n",
    "    return words_lem_without_stopwords"
   ]
  },
  {
   "cell_type": "code",
   "execution_count": 19,
   "id": "daccefc6-1d9a-47a5-bfc5-e529da81ce88",
   "metadata": {},
   "outputs": [
    {
     "name": "stderr",
     "output_type": "stream",
     "text": [
      "<ipython-input-18-898b573b2830>:14: FutureWarning: Possible nested set at position 39\n",
      "  text = re.sub(\"[0-9]|[-—.,:;_%©«»?*!@#№$^•·&()]|[+=]|[[]|[]]|[/]|\", '', text)\n"
     ]
    }
   ],
   "source": [
    "X['purchases'] = X['purchases'].apply(lambda x: clean_text(x))"
   ]
  },
  {
   "cell_type": "code",
   "execution_count": 20,
   "id": "87032cd9-9892-4c4c-b7d1-766cfa313c3b",
   "metadata": {},
   "outputs": [],
   "source": [
    "X['purchases'] = X['purchases'].apply(lambda x: lemmatization(x))"
   ]
  },
  {
   "cell_type": "code",
   "execution_count": 21,
   "id": "b71860eb-3a48-482e-ba0f-d1c296f2a011",
   "metadata": {},
   "outputs": [],
   "source": [
    "X['purchases'] = X['purchases'].apply(lambda x: ' '.join(x))"
   ]
  },
  {
   "cell_type": "code",
   "execution_count": 22,
   "id": "fda26425-a503-495e-b69b-9ac6e7357db1",
   "metadata": {},
   "outputs": [
    {
     "data": {
      "text/html": [
       "<div>\n",
       "<style scoped>\n",
       "    .dataframe tbody tr th:only-of-type {\n",
       "        vertical-align: middle;\n",
       "    }\n",
       "\n",
       "    .dataframe tbody tr th {\n",
       "        vertical-align: top;\n",
       "    }\n",
       "\n",
       "    .dataframe thead th {\n",
       "        text-align: right;\n",
       "    }\n",
       "</style>\n",
       "<table border=\"1\" class=\"dataframe\">\n",
       "  <thead>\n",
       "    <tr style=\"text-align: right;\">\n",
       "      <th></th>\n",
       "      <th>user_id</th>\n",
       "      <th>purchases</th>\n",
       "      <th>y</th>\n",
       "    </tr>\n",
       "  </thead>\n",
       "  <tbody>\n",
       "    <tr>\n",
       "      <th>0</th>\n",
       "      <td>00002f01-66e4-5ab8-8d1a-1562a4ddd418</td>\n",
       "      <td>зубной паста splat stress антистресс мл зубной...</td>\n",
       "      <td>0</td>\n",
       "    </tr>\n",
       "    <tr>\n",
       "      <th>1</th>\n",
       "      <td>0000fed8-b063-51ef-8ca4-c42c5bd022ad</td>\n",
       "      <td>шоколад schogette black white молочный кусочек...</td>\n",
       "      <td>0</td>\n",
       "    </tr>\n",
       "    <tr>\n",
       "      <th>2</th>\n",
       "      <td>0004cfe8-bcb2-5a2c-904b-643e0469cbe3</td>\n",
       "      <td>шоколад воздушный тёмный сыр белебеевский башк...</td>\n",
       "      <td>0</td>\n",
       "    </tr>\n",
       "    <tr>\n",
       "      <th>3</th>\n",
       "      <td>000b8172-b96d-5c99-a418-fe1ca156bee1</td>\n",
       "      <td>шампунь pa te prov интенсивный восстановление ...</td>\n",
       "      <td>0</td>\n",
       "    </tr>\n",
       "    <tr>\n",
       "      <th>4</th>\n",
       "      <td>000bf80e-219c-53b7-a000-6c3474c2bd14</td>\n",
       "      <td>шоколад schogette black white молочный кусочек...</td>\n",
       "      <td>0</td>\n",
       "    </tr>\n",
       "  </tbody>\n",
       "</table>\n",
       "</div>"
      ],
      "text/plain": [
       "                                user_id  \\\n",
       "0  00002f01-66e4-5ab8-8d1a-1562a4ddd418   \n",
       "1  0000fed8-b063-51ef-8ca4-c42c5bd022ad   \n",
       "2  0004cfe8-bcb2-5a2c-904b-643e0469cbe3   \n",
       "3  000b8172-b96d-5c99-a418-fe1ca156bee1   \n",
       "4  000bf80e-219c-53b7-a000-6c3474c2bd14   \n",
       "\n",
       "                                           purchases  y  \n",
       "0  зубной паста splat stress антистресс мл зубной...  0  \n",
       "1  шоколад schogette black white молочный кусочек...  0  \n",
       "2  шоколад воздушный тёмный сыр белебеевский башк...  0  \n",
       "3  шампунь pa te prov интенсивный восстановление ...  0  \n",
       "4  шоколад schogette black white молочный кусочек...  0  "
      ]
     },
     "execution_count": 22,
     "metadata": {},
     "output_type": "execute_result"
    }
   ],
   "source": [
    "X.head(5)"
   ]
  },
  {
   "cell_type": "code",
   "execution_count": 23,
   "id": "adef20d8-a6ea-4b7e-a1ab-67c5179f30ac",
   "metadata": {},
   "outputs": [
    {
     "data": {
      "text/html": [
       "<div>\n",
       "<style scoped>\n",
       "    .dataframe tbody tr th:only-of-type {\n",
       "        vertical-align: middle;\n",
       "    }\n",
       "\n",
       "    .dataframe tbody tr th {\n",
       "        vertical-align: top;\n",
       "    }\n",
       "\n",
       "    .dataframe thead th {\n",
       "        text-align: right;\n",
       "    }\n",
       "</style>\n",
       "<table border=\"1\" class=\"dataframe\">\n",
       "  <thead>\n",
       "    <tr style=\"text-align: right;\">\n",
       "      <th></th>\n",
       "      <th>user_id</th>\n",
       "      <th>purchases</th>\n",
       "      <th>y</th>\n",
       "    </tr>\n",
       "  </thead>\n",
       "  <tbody>\n",
       "    <tr>\n",
       "      <th>0</th>\n",
       "      <td>00002f01-66e4-5ab8-8d1a-1562a4ddd418</td>\n",
       "      <td>зубной паста splat stress антистресс мл зубной...</td>\n",
       "      <td>0</td>\n",
       "    </tr>\n",
       "    <tr>\n",
       "      <th>1</th>\n",
       "      <td>0000fed8-b063-51ef-8ca4-c42c5bd022ad</td>\n",
       "      <td>шоколад schogette black white молочный кусочек...</td>\n",
       "      <td>0</td>\n",
       "    </tr>\n",
       "    <tr>\n",
       "      <th>2</th>\n",
       "      <td>0004cfe8-bcb2-5a2c-904b-643e0469cbe3</td>\n",
       "      <td>шоколад воздушный тёмный сыр белебеевский башк...</td>\n",
       "      <td>0</td>\n",
       "    </tr>\n",
       "    <tr>\n",
       "      <th>3</th>\n",
       "      <td>000b8172-b96d-5c99-a418-fe1ca156bee1</td>\n",
       "      <td>шампунь pa te prov интенсивный восстановление ...</td>\n",
       "      <td>0</td>\n",
       "    </tr>\n",
       "    <tr>\n",
       "      <th>4</th>\n",
       "      <td>000bf80e-219c-53b7-a000-6c3474c2bd14</td>\n",
       "      <td>шоколад schogette black white молочный кусочек...</td>\n",
       "      <td>0</td>\n",
       "    </tr>\n",
       "    <tr>\n",
       "      <th>...</th>\n",
       "      <td>...</td>\n",
       "      <td>...</td>\n",
       "      <td>...</td>\n",
       "    </tr>\n",
       "    <tr>\n",
       "      <th>31995</th>\n",
       "      <td>fff4348d-4028-5775-9616-9acdd6fbb0aa</td>\n",
       "      <td>зубной паста лесной бальзам дчувствительный зу...</td>\n",
       "      <td>0</td>\n",
       "    </tr>\n",
       "    <tr>\n",
       "      <th>31996</th>\n",
       "      <td>fff575de-27be-54e3-bb84-dfc65eeb0cb2</td>\n",
       "      <td>зубной паста colgate optic white искриться бел...</td>\n",
       "      <td>0</td>\n",
       "    </tr>\n",
       "    <tr>\n",
       "      <th>31997</th>\n",
       "      <td>fff5a1c6-3aa2-5684-b2d6-7037aad1736f</td>\n",
       "      <td>шоколад россия щедрый душа золотой марк дуэт г...</td>\n",
       "      <td>0</td>\n",
       "    </tr>\n",
       "    <tr>\n",
       "      <th>31998</th>\n",
       "      <td>fff83aec-4b5a-5bff-95bc-3b4543d97cf6</td>\n",
       "      <td>колбаса рублёвский краковский полукопчёный зуб...</td>\n",
       "      <td>0</td>\n",
       "    </tr>\n",
       "    <tr>\n",
       "      <th>31999</th>\n",
       "      <td>fffcb2ba-2995-51af-8492-3b14a5bcce7c</td>\n",
       "      <td>зубной паста splat professio al se sitive мл з...</td>\n",
       "      <td>0</td>\n",
       "    </tr>\n",
       "  </tbody>\n",
       "</table>\n",
       "<p>32000 rows × 3 columns</p>\n",
       "</div>"
      ],
      "text/plain": [
       "                                    user_id  \\\n",
       "0      00002f01-66e4-5ab8-8d1a-1562a4ddd418   \n",
       "1      0000fed8-b063-51ef-8ca4-c42c5bd022ad   \n",
       "2      0004cfe8-bcb2-5a2c-904b-643e0469cbe3   \n",
       "3      000b8172-b96d-5c99-a418-fe1ca156bee1   \n",
       "4      000bf80e-219c-53b7-a000-6c3474c2bd14   \n",
       "...                                     ...   \n",
       "31995  fff4348d-4028-5775-9616-9acdd6fbb0aa   \n",
       "31996  fff575de-27be-54e3-bb84-dfc65eeb0cb2   \n",
       "31997  fff5a1c6-3aa2-5684-b2d6-7037aad1736f   \n",
       "31998  fff83aec-4b5a-5bff-95bc-3b4543d97cf6   \n",
       "31999  fffcb2ba-2995-51af-8492-3b14a5bcce7c   \n",
       "\n",
       "                                               purchases  y  \n",
       "0      зубной паста splat stress антистресс мл зубной...  0  \n",
       "1      шоколад schogette black white молочный кусочек...  0  \n",
       "2      шоколад воздушный тёмный сыр белебеевский башк...  0  \n",
       "3      шампунь pa te prov интенсивный восстановление ...  0  \n",
       "4      шоколад schogette black white молочный кусочек...  0  \n",
       "...                                                  ... ..  \n",
       "31995  зубной паста лесной бальзам дчувствительный зу...  0  \n",
       "31996  зубной паста colgate optic white искриться бел...  0  \n",
       "31997  шоколад россия щедрый душа золотой марк дуэт г...  0  \n",
       "31998  колбаса рублёвский краковский полукопчёный зуб...  0  \n",
       "31999  зубной паста splat professio al se sitive мл з...  0  \n",
       "\n",
       "[32000 rows x 3 columns]"
      ]
     },
     "execution_count": 23,
     "metadata": {},
     "output_type": "execute_result"
    }
   ],
   "source": [
    "X"
   ]
  },
  {
   "cell_type": "code",
   "execution_count": 24,
   "id": "689e1200-d204-4afd-a877-8ab29f1519b7",
   "metadata": {},
   "outputs": [],
   "source": [
    "X.drop('user_id', axis=1, inplace=True)"
   ]
  },
  {
   "cell_type": "code",
   "execution_count": 25,
   "id": "2cccff7c-d4ec-48eb-a841-9ce53a3a8ea4",
   "metadata": {},
   "outputs": [],
   "source": [
    "from sklearn.metrics import recall_score, precision_score, roc_auc_score, accuracy_score, f1_score\n",
    "\n",
    "def evaluate_results(y_test, y_predict):\n",
    "    print('Classification results:')\n",
    "    f1 = f1_score(y_test, y_predict)\n",
    "    print(f\"f1: {f1 * 100.0:.2f}%\") \n",
    "    rec = recall_score(y_test, y_predict, average='binary')\n",
    "    print(f\"recall: {rec * 100.0:.2f}%\") \n",
    "    prc = precision_score(y_test, y_predict, average='binary')\n",
    "    print(f\"precision: {prc * 100.0:.2f}%\" ) "
   ]
  },
  {
   "cell_type": "code",
   "execution_count": 26,
   "id": "09932695-1da9-4e3f-a106-5c1be7752a88",
   "metadata": {},
   "outputs": [],
   "source": [
    "# соберем наш простой pipeline, но нам понадобится написать класс для выбора нужного поля\n",
    "\n",
    "class FeatureSelector(BaseEstimator, TransformerMixin):\n",
    "    def __init__(self, column):\n",
    "        self.column = column\n",
    "\n",
    "    def fit(self, X, y=None):\n",
    "        return self\n",
    "\n",
    "    def transform(self, X, y=None):\n",
    "        return X[self.column]\n",
    "\n",
    "pipeline1 = Pipeline([('purchases_selector', FeatureSelector(column='purchases')), \n",
    "                     ('purchases_tfidf', TfidfVectorizer()), \n",
    "                     ('clf', RandomForestClassifier())])"
   ]
  },
  {
   "cell_type": "code",
   "execution_count": 27,
   "id": "0f329887-6709-4fb9-be87-031a3dd79c6d",
   "metadata": {},
   "outputs": [
    {
     "name": "stdout",
     "output_type": "stream",
     "text": [
      "Classification results:\n",
      "f1: 96.30%\n",
      "recall: 93.26%\n",
      "precision: 99.54%\n"
     ]
    }
   ],
   "source": [
    "X_train, X_test, y_train, y_test = train_test_split(X, X['y'], test_size=0.33, random_state=1)\n",
    "pipeline1.fit(X_train, y_train)\n",
    "y_predict1 = pipeline1.predict(X_test)\n",
    "evaluate_results(y_test, y_predict1)"
   ]
  },
  {
   "cell_type": "code",
   "execution_count": 28,
   "id": "c13a540b-c07d-4f2c-9dfe-cd25af03b254",
   "metadata": {},
   "outputs": [
    {
     "data": {
      "text/plain": [
       "0    30640\n",
       "1     1360\n",
       "Name: y, dtype: int64"
      ]
     },
     "execution_count": 28,
     "metadata": {},
     "output_type": "execute_result"
    }
   ],
   "source": [
    "X['y'].value_counts()"
   ]
  },
  {
   "cell_type": "code",
   "execution_count": 29,
   "id": "ec7a6108-dd40-4958-b867-d655696742a2",
   "metadata": {},
   "outputs": [],
   "source": [
    "p = 0.5\n",
    "pos = int(np.ceil(p * len(X[X['y'] == 1])))\n",
    "X_pos = X[X['y'] == 1][:pos]\n",
    "X_unlabeled = X[X['y'] == 0][:pos]\n",
    "X_test = X.sample(frac=1)[:pos*2]\n",
    "y_test = X_test['y']\n",
    "X_test.drop('y', axis=1, inplace=True)"
   ]
  },
  {
   "cell_type": "code",
   "execution_count": 30,
   "id": "a1c5a388-97e8-4139-ba8e-ecf826b8a345",
   "metadata": {},
   "outputs": [
    {
     "data": {
      "text/plain": [
       "((680, 2), (680, 2), (1360, 1))"
      ]
     },
     "execution_count": 30,
     "metadata": {},
     "output_type": "execute_result"
    }
   ],
   "source": [
    "X_pos.shape, X_unlabeled.shape, X_test.shape"
   ]
  },
  {
   "cell_type": "code",
   "execution_count": 31,
   "id": "cc914538-5faf-458e-a591-d054579730f5",
   "metadata": {},
   "outputs": [],
   "source": [
    "\n",
    "\n",
    "pipeline2 = Pipeline([('purchases_selector', FeatureSelector(column='purchases')), \n",
    "                     ('purchases_tfidf', TfidfVectorizer()), \n",
    "                     ('clf', RandomForestClassifier())])"
   ]
  },
  {
   "cell_type": "code",
   "execution_count": 35,
   "id": "64d6ff79-14d7-4bf8-afe1-600ac4a71d5e",
   "metadata": {},
   "outputs": [],
   "source": [
    "X = pd.concat([X_pos, X_unlabeled]).sample(frac=1)"
   ]
  },
  {
   "cell_type": "code",
   "execution_count": 36,
   "id": "1ac569f6-0b72-472c-ba46-8c4ee628a821",
   "metadata": {},
   "outputs": [
    {
     "data": {
      "text/plain": [
       "Pipeline(steps=[('purchases_selector', FeatureSelector(column='purchases')),\n",
       "                ('purchases_tfidf', TfidfVectorizer()),\n",
       "                ('clf', RandomForestClassifier())])"
      ]
     },
     "execution_count": 36,
     "metadata": {},
     "output_type": "execute_result"
    }
   ],
   "source": [
    "pipeline2.fit(X.drop(columns=['y']), \n",
    "          X['y'])"
   ]
  },
  {
   "cell_type": "code",
   "execution_count": 37,
   "id": "a2d0eb8d-40dc-4e4d-ae21-41132dfd4829",
   "metadata": {},
   "outputs": [
    {
     "name": "stdout",
     "output_type": "stream",
     "text": [
      "Classification results:\n",
      "f1: 83.97%\n",
      "recall: 100.00%\n",
      "precision: 72.37%\n"
     ]
    }
   ],
   "source": [
    "y_predict2 = pipeline2.predict(X_test)\n",
    "evaluate_results(y_test, y_predict2)"
   ]
  },
  {
   "cell_type": "code",
   "execution_count": 39,
   "id": "76430fbf-5248-4d30-8043-4a96d7ec798f",
   "metadata": {},
   "outputs": [
    {
     "data": {
      "text/html": [
       "<div>\n",
       "<style scoped>\n",
       "    .dataframe tbody tr th:only-of-type {\n",
       "        vertical-align: middle;\n",
       "    }\n",
       "\n",
       "    .dataframe tbody tr th {\n",
       "        vertical-align: top;\n",
       "    }\n",
       "\n",
       "    .dataframe thead th {\n",
       "        text-align: right;\n",
       "    }\n",
       "</style>\n",
       "<table border=\"1\" class=\"dataframe\">\n",
       "  <thead>\n",
       "    <tr style=\"text-align: right;\">\n",
       "      <th></th>\n",
       "      <th>metrics</th>\n",
       "      <th>Default learning</th>\n",
       "      <th>PU learning</th>\n",
       "    </tr>\n",
       "  </thead>\n",
       "  <tbody>\n",
       "    <tr>\n",
       "      <th>0</th>\n",
       "      <td>f1</td>\n",
       "      <td>0.963</td>\n",
       "      <td>0.8397</td>\n",
       "    </tr>\n",
       "    <tr>\n",
       "      <th>1</th>\n",
       "      <td>recall</td>\n",
       "      <td>0.932</td>\n",
       "      <td>1.00</td>\n",
       "    </tr>\n",
       "    <tr>\n",
       "      <th>2</th>\n",
       "      <td>precision</td>\n",
       "      <td>0.9954</td>\n",
       "      <td>0.7237</td>\n",
       "    </tr>\n",
       "  </tbody>\n",
       "</table>\n",
       "</div>"
      ],
      "text/plain": [
       "     metrics Default learning PU learning\n",
       "0         f1            0.963      0.8397\n",
       "1     recall            0.932        1.00\n",
       "2  precision           0.9954      0.7237"
      ]
     },
     "execution_count": 39,
     "metadata": {},
     "output_type": "execute_result"
    }
   ],
   "source": [
    "pd.DataFrame({'metrics': ['f1', 'recall', 'precision'], 'Default learning': ['0.963', '0.932', '0.9954'], 'PU learning': ['0.8397', '1.00', '0.7237']})"
   ]
  },
  {
   "cell_type": "code",
   "execution_count": null,
   "id": "56955fe0-658b-40a0-b659-8d7afc39de7e",
   "metadata": {},
   "outputs": [],
   "source": []
  }
 ],
 "metadata": {
  "kernelspec": {
   "display_name": "Python 3",
   "language": "python",
   "name": "python3"
  },
  "language_info": {
   "codemirror_mode": {
    "name": "ipython",
    "version": 3
   },
   "file_extension": ".py",
   "mimetype": "text/x-python",
   "name": "python",
   "nbconvert_exporter": "python",
   "pygments_lexer": "ipython3",
   "version": "3.8.8"
  }
 },
 "nbformat": 4,
 "nbformat_minor": 5
}

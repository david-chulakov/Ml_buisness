{
 "cells": [
  {
   "cell_type": "code",
   "execution_count": 1,
   "id": "ecce61b0-c665-4d75-91fb-6dc6af30e8bc",
   "metadata": {},
   "outputs": [],
   "source": [
    "import pandas as pd\n",
    "import numpy as np\n",
    "from sklearn.pipeline import Pipeline, make_pipeline, FeatureUnion\n",
    "from sklearn.base import BaseEstimator, TransformerMixin\n",
    "from sklearn.linear_model import LogisticRegression\n",
    "from sklearn.model_selection import train_test_split\n",
    "from sklearn.ensemble import GradientBoostingClassifier\n",
    "from catboost import CatBoostClassifier\n",
    "import itertools\n",
    "\n",
    "import matplotlib.pyplot as plt\n",
    "\n",
    "%matplotlib inline"
   ]
  },
  {
   "cell_type": "code",
   "execution_count": 2,
   "id": "7a367eb8-2029-4451-b532-3c15752f2d0a",
   "metadata": {},
   "outputs": [
    {
     "data": {
      "text/html": [
       "<div>\n",
       "<style scoped>\n",
       "    .dataframe tbody tr th:only-of-type {\n",
       "        vertical-align: middle;\n",
       "    }\n",
       "\n",
       "    .dataframe tbody tr th {\n",
       "        vertical-align: top;\n",
       "    }\n",
       "\n",
       "    .dataframe thead th {\n",
       "        text-align: right;\n",
       "    }\n",
       "</style>\n",
       "<table border=\"1\" class=\"dataframe\">\n",
       "  <thead>\n",
       "    <tr style=\"text-align: right;\">\n",
       "      <th></th>\n",
       "      <th>RowNumber</th>\n",
       "      <th>CustomerId</th>\n",
       "      <th>Surname</th>\n",
       "      <th>CreditScore</th>\n",
       "      <th>Geography</th>\n",
       "      <th>Gender</th>\n",
       "      <th>Age</th>\n",
       "      <th>Tenure</th>\n",
       "      <th>Balance</th>\n",
       "      <th>NumOfProducts</th>\n",
       "      <th>HasCrCard</th>\n",
       "      <th>IsActiveMember</th>\n",
       "      <th>EstimatedSalary</th>\n",
       "      <th>Exited</th>\n",
       "    </tr>\n",
       "  </thead>\n",
       "  <tbody>\n",
       "    <tr>\n",
       "      <th>0</th>\n",
       "      <td>1</td>\n",
       "      <td>15634602</td>\n",
       "      <td>Hargrave</td>\n",
       "      <td>619</td>\n",
       "      <td>France</td>\n",
       "      <td>Female</td>\n",
       "      <td>42</td>\n",
       "      <td>2</td>\n",
       "      <td>0.00</td>\n",
       "      <td>1</td>\n",
       "      <td>1</td>\n",
       "      <td>1</td>\n",
       "      <td>101348.88</td>\n",
       "      <td>1</td>\n",
       "    </tr>\n",
       "    <tr>\n",
       "      <th>1</th>\n",
       "      <td>2</td>\n",
       "      <td>15647311</td>\n",
       "      <td>Hill</td>\n",
       "      <td>608</td>\n",
       "      <td>Spain</td>\n",
       "      <td>Female</td>\n",
       "      <td>41</td>\n",
       "      <td>1</td>\n",
       "      <td>83807.86</td>\n",
       "      <td>1</td>\n",
       "      <td>0</td>\n",
       "      <td>1</td>\n",
       "      <td>112542.58</td>\n",
       "      <td>0</td>\n",
       "    </tr>\n",
       "    <tr>\n",
       "      <th>2</th>\n",
       "      <td>3</td>\n",
       "      <td>15619304</td>\n",
       "      <td>Onio</td>\n",
       "      <td>502</td>\n",
       "      <td>France</td>\n",
       "      <td>Female</td>\n",
       "      <td>42</td>\n",
       "      <td>8</td>\n",
       "      <td>159660.80</td>\n",
       "      <td>3</td>\n",
       "      <td>1</td>\n",
       "      <td>0</td>\n",
       "      <td>113931.57</td>\n",
       "      <td>1</td>\n",
       "    </tr>\n",
       "  </tbody>\n",
       "</table>\n",
       "</div>"
      ],
      "text/plain": [
       "   RowNumber  CustomerId   Surname  CreditScore Geography  Gender  Age  \\\n",
       "0          1    15634602  Hargrave          619    France  Female   42   \n",
       "1          2    15647311      Hill          608     Spain  Female   41   \n",
       "2          3    15619304      Onio          502    France  Female   42   \n",
       "\n",
       "   Tenure    Balance  NumOfProducts  HasCrCard  IsActiveMember  \\\n",
       "0       2       0.00              1          1               1   \n",
       "1       1   83807.86              1          0               1   \n",
       "2       8  159660.80              3          1               0   \n",
       "\n",
       "   EstimatedSalary  Exited  \n",
       "0        101348.88       1  \n",
       "1        112542.58       0  \n",
       "2        113931.57       1  "
      ]
     },
     "execution_count": 2,
     "metadata": {},
     "output_type": "execute_result"
    }
   ],
   "source": [
    "df = pd.read_csv(\"churn_data.csv\")\n",
    "df.head(3)"
   ]
  },
  {
   "cell_type": "code",
   "execution_count": 3,
   "id": "1deabc57-32fa-498a-8858-89d42808d2cc",
   "metadata": {},
   "outputs": [],
   "source": [
    "y = df.pop('Exited')"
   ]
  },
  {
   "cell_type": "code",
   "execution_count": 4,
   "id": "1e1e790d-1c71-40d0-9f10-d9a3a54ccaca",
   "metadata": {},
   "outputs": [],
   "source": [
    "X_train, X_test, y_train, y_test = train_test_split(df, y, random_state=1234)"
   ]
  },
  {
   "cell_type": "code",
   "execution_count": 5,
   "id": "fff7b342-13e4-4004-be99-debf3b5b2a85",
   "metadata": {},
   "outputs": [],
   "source": [
    "#соберем наш простой pipeline, но нам понадобится написать класс для выбора нужного поля\n",
    "class FeatureSelector(BaseEstimator, TransformerMixin):\n",
    "    def __init__(self, column):\n",
    "        self.column = column\n",
    "\n",
    "    def fit(self, X, y=None):\n",
    "        return self\n",
    "\n",
    "    def transform(self, X, y=None):\n",
    "        return X[self.column]\n",
    "    \n",
    "\n",
    "class NumberSelector(BaseEstimator, TransformerMixin):\n",
    "    \"\"\"\n",
    "    Transformer to select a single column from the data frame to perform additional transformations on\n",
    "    Use on numeric columns in the data\n",
    "    \"\"\"\n",
    "    def __init__(self, key):\n",
    "        self.key = key\n",
    "\n",
    "    def fit(self, X, y=None):\n",
    "        return self\n",
    "\n",
    "    def transform(self, X):\n",
    "        return X[[self.key]]\n",
    "    \n",
    "    \n",
    "class OHEEncoder(BaseEstimator, TransformerMixin):\n",
    "    def __init__(self, key):\n",
    "        self.key = key\n",
    "        self.columns = []\n",
    "\n",
    "    def fit(self, X, y=None):\n",
    "        self.columns = [col for col in pd.get_dummies(X, prefix=self.key).columns]\n",
    "        return self\n",
    "\n",
    "    def transform(self, X):\n",
    "        X = pd.get_dummies(X, prefix=self.key)\n",
    "        test_columns = [col for col in X.columns]\n",
    "        \n",
    "        for col_ in self.columns:\n",
    "            if col_ not in test_columns:\n",
    "                X[col_] = 0\n",
    "        return X[self.columns]"
   ]
  },
  {
   "cell_type": "code",
   "execution_count": 6,
   "id": "297dd18e-9ff2-4a6c-8764-1f561164d0ab",
   "metadata": {},
   "outputs": [],
   "source": [
    "categorical_columns = ['Geography', 'Gender', 'Tenure', 'HasCrCard', 'IsActiveMember']\n",
    "continuous_columns = ['CreditScore', 'Age', 'Balance', 'NumOfProducts', 'EstimatedSalary']"
   ]
  },
  {
   "cell_type": "code",
   "execution_count": 7,
   "id": "55a53b57-6fee-49fd-90a8-4f36593353a5",
   "metadata": {},
   "outputs": [],
   "source": [
    "final_transformers = list()\n",
    "\n",
    "for cat_col in categorical_columns:\n",
    "    cat_transformer = Pipeline([\n",
    "                ('selector', FeatureSelector(column=cat_col)),\n",
    "                ('ohe', OHEEncoder(key=cat_col))\n",
    "            ])\n",
    "    \n",
    "    final_transformers.append((cat_col, cat_transformer))\n",
    "    \n",
    "for cont_col in continuous_columns:\n",
    "    cont_transformer = Pipeline([\n",
    "                ('selector', NumberSelector(key=cont_col))\n",
    "            ])\n",
    "    \n",
    "    final_transformers.append((cont_col, cont_transformer))"
   ]
  },
  {
   "cell_type": "code",
   "execution_count": 8,
   "id": "665d3818-78e5-419a-9600-ce639b9d5a26",
   "metadata": {},
   "outputs": [],
   "source": [
    "feats = FeatureUnion(final_transformers)\n",
    "\n",
    "feature_processing = Pipeline([('feats', feats)])"
   ]
  },
  {
   "cell_type": "code",
   "execution_count": 9,
   "id": "44d4e42c-f111-4299-a518-a83c7bed3c81",
   "metadata": {},
   "outputs": [],
   "source": [
    "def plot_confusion_matrix(cm, classes,\n",
    "                          normalize=False,\n",
    "                          title='Confusion matrix',\n",
    "                          cmap=plt.cm.Blues):\n",
    "    \"\"\"\n",
    "    This function prints and plots the confusion matrix.\n",
    "    Normalization can be applied by setting `normalize=True`.\n",
    "    \"\"\"\n",
    "    plt.imshow(cm, interpolation='nearest', cmap=cmap)\n",
    "    plt.title(title)\n",
    "    plt.colorbar()\n",
    "    tick_marks = np.arange(len(classes))\n",
    "    plt.xticks(tick_marks, classes, rotation=45)\n",
    "    plt.yticks(tick_marks, classes)\n",
    "\n",
    "    if normalize:\n",
    "        cm = cm.astype('float') / cm.sum(axis=1)[:, np.newaxis]\n",
    "        print(\"Normalized confusion matrix\")\n",
    "    else:\n",
    "        print('Confusion matrix, without normalization')\n",
    "\n",
    "    print(cm)\n",
    "\n",
    "    thresh = cm.max() / 2.\n",
    "    for i, j in itertools.product(range(cm.shape[0]), range(cm.shape[1])):\n",
    "        plt.text(j, i, cm[i, j],\n",
    "                 horizontalalignment=\"center\",\n",
    "                 color=\"white\" if cm[i, j] > thresh else \"black\")\n",
    "\n",
    "    plt.tight_layout()\n",
    "    plt.ylabel('True label')\n",
    "    plt.xlabel('Predicted label')"
   ]
  },
  {
   "cell_type": "code",
   "execution_count": 10,
   "id": "16417501-5333-4a09-8885-a7e8d656641a",
   "metadata": {},
   "outputs": [
    {
     "name": "stdout",
     "output_type": "stream",
     "text": [
      "Best Threshold=0.3072333069642994, F-Score=0.629, Precision=0.641, Recall=0.617\n"
     ]
    }
   ],
   "source": [
    "from sklearn.metrics import f1_score, roc_auc_score, precision_score, classification_report, precision_recall_curve, confusion_matrix\n",
    "pipeline1 = Pipeline([\n",
    "    ('features', feats),\n",
    "    ('classifier', GradientBoostingClassifier(random_state=42)),\n",
    "])\n",
    "\n",
    "pipeline1.fit(X_train, y_train)\n",
    "preds1 = pipeline1.predict_proba(X_test)[:, 1]\n",
    "\n",
    "precision, recall, thresholds1 = precision_recall_curve(y_test, preds1)\n",
    "\n",
    "fscore = (2 * precision * recall) / (precision + recall)\n",
    "# locate the index of the largest f score\n",
    "ix = np.argmax(fscore)\n",
    "print(f'Best Threshold={thresholds1[ix]}, F-Score={fscore[ix]:.3f}, Precision={precision[ix]:.3f}, Recall={recall[ix]:.3f}')"
   ]
  },
  {
   "cell_type": "code",
   "execution_count": 11,
   "id": "f1befc27-e7ce-465a-95dd-da8123f4de6c",
   "metadata": {},
   "outputs": [
    {
     "name": "stdout",
     "output_type": "stream",
     "text": [
      "Confusion matrix, without normalization\n",
      "[[1818  175]\n",
      " [ 195  312]]\n"
     ]
    },
    {
     "data": {
      "image/png": "[encoded data removed]",
      "text/plain": [
       "<Figure size 432x288 with 2 Axes>"
      ]
     },
     "metadata": {
      "needs_background": "light"
     },
     "output_type": "display_data"
    }
   ],
   "source": [
    "# мы уже нашли ранее \"оптимальный\" порог, когда максимизировали f_score\n",
    "font = {'size' : 15}\n",
    "\n",
    "plt.rc('font', **font)\n",
    "\n",
    "cnf_matrix = confusion_matrix(y_test, preds1 > thresholds1[ix])\n",
    "plt.figure(figsize=(6, 4))\n",
    "plot_confusion_matrix(cnf_matrix, classes=['NonChurn', 'Churn'],\n",
    "                      title='Confusion matrix')\n",
    "plt.show()"
   ]
  },
  {
   "cell_type": "code",
   "execution_count": 12,
   "id": "0c267903-6e42-458f-9da3-f260d3f5b4a5",
   "metadata": {},
   "outputs": [
    {
     "data": {
      "text/plain": [
       "137"
      ]
     },
     "execution_count": 12,
     "metadata": {},
     "output_type": "execute_result"
    }
   ],
   "source": [
    "TN = cnf_matrix[0][0]\n",
    "FP = cnf_matrix[0][1]\n",
    "FN = cnf_matrix[1][0]\n",
    "TP = cnf_matrix[1][1]\n",
    "\n",
    "\n",
    "retain_sum = (FP + TP) * 1\n",
    "income = TP * 2\n",
    "\n",
    "income - retain_sum"
   ]
  },
  {
   "cell_type": "code",
   "execution_count": 13,
   "id": "a902fcff-6b3e-48f8-b2c1-1961c0d1fa3e",
   "metadata": {},
   "outputs": [
    {
     "name": "stdout",
     "output_type": "stream",
     "text": [
      "Best Threshold=0.23246643847705775, F-Score=0.625, Precision=0.563, Recall=0.702\n"
     ]
    }
   ],
   "source": [
    "pipeline2 = Pipeline([\n",
    "    ('features', feats),\n",
    "    ('classifier', CatBoostClassifier(silent=True, random_state=42)),\n",
    "])\n",
    "\n",
    "pipeline2.fit(X_train, y_train)\n",
    "preds2 = pipeline2.predict_proba(X_test)[:, 1]\n",
    "\n",
    "precision, recall, thresholds2 = precision_recall_curve(y_test, preds2)\n",
    "\n",
    "fscore = (2 * precision * recall) / (precision + recall)\n",
    "# locate the index of the largest f score\n",
    "ix = np.argmax(fscore)\n",
    "print(f'Best Threshold={thresholds2[ix]}, F-Score={fscore[ix]:.3f}, Precision={precision[ix]:.3f}, Recall={recall[ix]:.3f}')"
   ]
  },
  {
   "cell_type": "code",
   "execution_count": 14,
   "id": "a8eccc3b-0340-4583-a626-df2b78126af2",
   "metadata": {},
   "outputs": [
    {
     "name": "stdout",
     "output_type": "stream",
     "text": [
      "Confusion matrix, without normalization\n",
      "[[1717  276]\n",
      " [ 152  355]]\n"
     ]
    },
    {
     "data": {
      "image/png": "[encoded data removed]",
      "text/plain": [
       "<Figure size 432x288 with 2 Axes>"
      ]
     },
     "metadata": {
      "needs_background": "light"
     },
     "output_type": "display_data"
    }
   ],
   "source": [
    "font = {'size' : 15}\n",
    "\n",
    "plt.rc('font', **font)\n",
    "\n",
    "cnf_matrix = confusion_matrix(y_test, preds2 > thresholds2[ix])\n",
    "plt.figure(figsize=(6, 4))\n",
    "plot_confusion_matrix(cnf_matrix, classes=['NonChurn', 'Churn'],\n",
    "                      title='Confusion matrix')\n",
    "plt.show()"
   ]
  },
  {
   "cell_type": "code",
   "execution_count": 15,
   "id": "ee2ff8d5-c69d-4642-80f1-fe9263122dfa",
   "metadata": {},
   "outputs": [
    {
     "data": {
      "text/plain": [
       "79"
      ]
     },
     "execution_count": 15,
     "metadata": {},
     "output_type": "execute_result"
    }
   ],
   "source": [
    "TN = cnf_matrix[0][0]\n",
    "FP = cnf_matrix[0][1]\n",
    "FN = cnf_matrix[1][0]\n",
    "TP = cnf_matrix[1][1]\n",
    "\n",
    "\n",
    "retain_sum = (FP + TP) * 1\n",
    "income = TP * 2\n",
    "\n",
    "income - retain_sum"
   ]
  },
  {
   "cell_type": "code",
   "execution_count": 16,
   "id": "605329e1-e56c-4475-9c43-52f3e156dfdd",
   "metadata": {},
   "outputs": [
    {
     "name": "stdout",
     "output_type": "stream",
     "text": [
      "Best Threshold=0.19896555797339313, F-Score=0.406, Precision=0.295, Recall=0.651\n"
     ]
    }
   ],
   "source": [
    "pipeline3 = Pipeline([\n",
    "    ('features', feats),\n",
    "    ('classifier', LogisticRegression(random_state=42)),\n",
    "])\n",
    "\n",
    "pipeline3.fit(X_train, y_train)\n",
    "preds3 = pipeline3.predict_proba(X_test)[:, 1]\n",
    "\n",
    "precision, recall, thresholds3 = precision_recall_curve(y_test, preds3)\n",
    "\n",
    "fscore = (2 * precision * recall) / (precision + recall)\n",
    "# locate the index of the largest f score\n",
    "ix = np.argmax(fscore)\n",
    "print(f'Best Threshold={thresholds3[ix]}, F-Score={fscore[ix]:.3f}, Precision={precision[ix]:.3f}, Recall={recall[ix]:.3f}')"
   ]
  },
  {
   "cell_type": "code",
   "execution_count": 17,
   "id": "83cc3bb3-fa9d-4f1a-935b-99f14f2f609f",
   "metadata": {},
   "outputs": [
    {
     "name": "stdout",
     "output_type": "stream",
     "text": [
      "Confusion matrix, without normalization\n",
      "[[1204  789]\n",
      " [ 178  329]]\n"
     ]
    },
    {
     "data": {
      "image/png": "[encoded data removed]",
      "text/plain": [
       "<Figure size 432x288 with 2 Axes>"
      ]
     },
     "metadata": {
      "needs_background": "light"
     },
     "output_type": "display_data"
    }
   ],
   "source": [
    "font = {'size' : 15}\n",
    "\n",
    "plt.rc('font', **font)\n",
    "\n",
    "cnf_matrix = confusion_matrix(y_test, preds3 > thresholds3[ix])\n",
    "plt.figure(figsize=(6, 4))\n",
    "plot_confusion_matrix(cnf_matrix, classes=['NonChurn', 'Churn'],\n",
    "                      title='Confusion matrix')\n",
    "plt.show()"
   ]
  },
  {
   "cell_type": "code",
   "execution_count": 18,
   "id": "7d666849-724c-4e57-810c-3a5f4acc00fa",
   "metadata": {},
   "outputs": [
    {
     "data": {
      "text/plain": [
       "-460"
      ]
     },
     "execution_count": 18,
     "metadata": {},
     "output_type": "execute_result"
    }
   ],
   "source": [
    "TN = cnf_matrix[0][0]\n",
    "FP = cnf_matrix[0][1]\n",
    "FN = cnf_matrix[1][0]\n",
    "TP = cnf_matrix[1][1]\n",
    "\n",
    "\n",
    "retain_sum = (FP + TP) * 1\n",
    "income = TP * 2\n",
    "\n",
    "income - retain_sum"
   ]
  },
  {
   "cell_type": "code",
   "execution_count": null,
   "id": "2a755de3-bc8e-4e73-8610-98cc0c65b0c8",
   "metadata": {},
   "outputs": [],
   "source": [
    "from sklearn.model_selection import GridSearchCV"
   ]
  },
  {
   "cell_type": "code",
   "execution_count": 22,
   "id": "254faaab-4493-4eb1-9f75-55085757a40a",
   "metadata": {},
   "outputs": [
    {
     "name": "stdout",
     "output_type": "stream",
     "text": [
      "Fitting 6 folds for each of 12 candidates, totalling 72 fits\n",
      "[CV 1/6] END classifier__max_features=0.3, classifier__min_samples_leaf=2, classifier__n_estimators=100; total time=   0.2s\n",
      "[CV 2/6] END classifier__max_features=0.3, classifier__min_samples_leaf=2, classifier__n_estimators=100; total time=   0.2s\n",
      "[CV 3/6] END classifier__max_features=0.3, classifier__min_samples_leaf=2, classifier__n_estimators=100; total time=   0.2s\n",
      "[CV 4/6] END classifier__max_features=0.3, classifier__min_samples_leaf=2, classifier__n_estimators=100; total time=   0.2s\n",
      "[CV 5/6] END classifier__max_features=0.3, classifier__min_samples_leaf=2, classifier__n_estimators=100; total time=   0.2s\n",
      "[CV 6/6] END classifier__max_features=0.3, classifier__min_samples_leaf=2, classifier__n_estimators=100; total time=   0.2s\n",
      "[CV 1/6] END classifier__max_features=0.3, classifier__min_samples_leaf=2, classifier__n_estimators=200; total time=   0.5s\n",
      "[CV 2/6] END classifier__max_features=0.3, classifier__min_samples_leaf=2, classifier__n_estimators=200; total time=   0.5s\n",
      "[CV 3/6] END classifier__max_features=0.3, classifier__min_samples_leaf=2, classifier__n_estimators=200; total time=   0.5s\n",
      "[CV 4/6] END classifier__max_features=0.3, classifier__min_samples_leaf=2, classifier__n_estimators=200; total time=   0.5s\n",
      "[CV 5/6] END classifier__max_features=0.3, classifier__min_samples_leaf=2, classifier__n_estimators=200; total time=   0.5s\n",
      "[CV 6/6] END classifier__max_features=0.3, classifier__min_samples_leaf=2, classifier__n_estimators=200; total time=   0.5s\n",
      "[CV 1/6] END classifier__max_features=0.3, classifier__min_samples_leaf=3, classifier__n_estimators=100; total time=   0.2s\n",
      "[CV 2/6] END classifier__max_features=0.3, classifier__min_samples_leaf=3, classifier__n_estimators=100; total time=   0.2s\n",
      "[CV 3/6] END classifier__max_features=0.3, classifier__min_samples_leaf=3, classifier__n_estimators=100; total time=   0.2s\n",
      "[CV 4/6] END classifier__max_features=0.3, classifier__min_samples_leaf=3, classifier__n_estimators=100; total time=   0.2s\n",
      "[CV 5/6] END classifier__max_features=0.3, classifier__min_samples_leaf=3, classifier__n_estimators=100; total time=   0.2s\n",
      "[CV 6/6] END classifier__max_features=0.3, classifier__min_samples_leaf=3, classifier__n_estimators=100; total time=   0.2s\n",
      "[CV 1/6] END classifier__max_features=0.3, classifier__min_samples_leaf=3, classifier__n_estimators=200; total time=   0.5s\n",
      "[CV 2/6] END classifier__max_features=0.3, classifier__min_samples_leaf=3, classifier__n_estimators=200; total time=   0.5s\n",
      "[CV 3/6] END classifier__max_features=0.3, classifier__min_samples_leaf=3, classifier__n_estimators=200; total time=   0.5s\n",
      "[CV 4/6] END classifier__max_features=0.3, classifier__min_samples_leaf=3, classifier__n_estimators=200; total time=   0.5s\n",
      "[CV 5/6] END classifier__max_features=0.3, classifier__min_samples_leaf=3, classifier__n_estimators=200; total time=   0.5s\n",
      "[CV 6/6] END classifier__max_features=0.3, classifier__min_samples_leaf=3, classifier__n_estimators=200; total time=   0.5s\n",
      "[CV 1/6] END classifier__max_features=0.5, classifier__min_samples_leaf=2, classifier__n_estimators=100; total time=   0.4s\n",
      "[CV 2/6] END classifier__max_features=0.5, classifier__min_samples_leaf=2, classifier__n_estimators=100; total time=   0.4s\n",
      "[CV 3/6] END classifier__max_features=0.5, classifier__min_samples_leaf=2, classifier__n_estimators=100; total time=   0.4s\n",
      "[CV 4/6] END classifier__max_features=0.5, classifier__min_samples_leaf=2, classifier__n_estimators=100; total time=   0.4s\n",
      "[CV 5/6] END classifier__max_features=0.5, classifier__min_samples_leaf=2, classifier__n_estimators=100; total time=   0.4s\n",
      "[CV 6/6] END classifier__max_features=0.5, classifier__min_samples_leaf=2, classifier__n_estimators=100; total time=   0.4s\n",
      "[CV 1/6] END classifier__max_features=0.5, classifier__min_samples_leaf=2, classifier__n_estimators=200; total time=   0.8s\n",
      "[CV 2/6] END classifier__max_features=0.5, classifier__min_samples_leaf=2, classifier__n_estimators=200; total time=   0.8s\n",
      "[CV 3/6] END classifier__max_features=0.5, classifier__min_samples_leaf=2, classifier__n_estimators=200; total time=   0.8s\n",
      "[CV 4/6] END classifier__max_features=0.5, classifier__min_samples_leaf=2, classifier__n_estimators=200; total time=   0.8s\n",
      "[CV 5/6] END classifier__max_features=0.5, classifier__min_samples_leaf=2, classifier__n_estimators=200; total time=   0.8s\n",
      "[CV 6/6] END classifier__max_features=0.5, classifier__min_samples_leaf=2, classifier__n_estimators=200; total time=   0.8s\n",
      "[CV 1/6] END classifier__max_features=0.5, classifier__min_samples_leaf=3, classifier__n_estimators=100; total time=   0.4s\n",
      "[CV 2/6] END classifier__max_features=0.5, classifier__min_samples_leaf=3, classifier__n_estimators=100; total time=   0.4s\n",
      "[CV 3/6] END classifier__max_features=0.5, classifier__min_samples_leaf=3, classifier__n_estimators=100; total time=   0.4s\n",
      "[CV 4/6] END classifier__max_features=0.5, classifier__min_samples_leaf=3, classifier__n_estimators=100; total time=   0.4s\n",
      "[CV 5/6] END classifier__max_features=0.5, classifier__min_samples_leaf=3, classifier__n_estimators=100; total time=   0.4s\n",
      "[CV 6/6] END classifier__max_features=0.5, classifier__min_samples_leaf=3, classifier__n_estimators=100; total time=   0.4s\n",
      "[CV 1/6] END classifier__max_features=0.5, classifier__min_samples_leaf=3, classifier__n_estimators=200; total time=   0.8s\n",
      "[CV 2/6] END classifier__max_features=0.5, classifier__min_samples_leaf=3, classifier__n_estimators=200; total time=   0.8s\n",
      "[CV 3/6] END classifier__max_features=0.5, classifier__min_samples_leaf=3, classifier__n_estimators=200; total time=   0.8s\n",
      "[CV 4/6] END classifier__max_features=0.5, classifier__min_samples_leaf=3, classifier__n_estimators=200; total time=   0.8s\n",
      "[CV 5/6] END classifier__max_features=0.5, classifier__min_samples_leaf=3, classifier__n_estimators=200; total time=   0.8s\n",
      "[CV 6/6] END classifier__max_features=0.5, classifier__min_samples_leaf=3, classifier__n_estimators=200; total time=   0.8s\n",
      "[CV 1/6] END classifier__max_features=0.7, classifier__min_samples_leaf=2, classifier__n_estimators=100; total time=   0.5s\n",
      "[CV 2/6] END classifier__max_features=0.7, classifier__min_samples_leaf=2, classifier__n_estimators=100; total time=   0.5s\n",
      "[CV 3/6] END classifier__max_features=0.7, classifier__min_samples_leaf=2, classifier__n_estimators=100; total time=   0.5s\n",
      "[CV 4/6] END classifier__max_features=0.7, classifier__min_samples_leaf=2, classifier__n_estimators=100; total time=   0.5s\n",
      "[CV 5/6] END classifier__max_features=0.7, classifier__min_samples_leaf=2, classifier__n_estimators=100; total time=   0.5s\n",
      "[CV 6/6] END classifier__max_features=0.7, classifier__min_samples_leaf=2, classifier__n_estimators=100; total time=   0.5s\n",
      "[CV 1/6] END classifier__max_features=0.7, classifier__min_samples_leaf=2, classifier__n_estimators=200; total time=   1.1s\n",
      "[CV 2/6] END classifier__max_features=0.7, classifier__min_samples_leaf=2, classifier__n_estimators=200; total time=   1.0s\n",
      "[CV 3/6] END classifier__max_features=0.7, classifier__min_samples_leaf=2, classifier__n_estimators=200; total time=   1.1s\n",
      "[CV 4/6] END classifier__max_features=0.7, classifier__min_samples_leaf=2, classifier__n_estimators=200; total time=   1.1s\n",
      "[CV 5/6] END classifier__max_features=0.7, classifier__min_samples_leaf=2, classifier__n_estimators=200; total time=   1.0s\n",
      "[CV 6/6] END classifier__max_features=0.7, classifier__min_samples_leaf=2, classifier__n_estimators=200; total time=   1.1s\n",
      "[CV 1/6] END classifier__max_features=0.7, classifier__min_samples_leaf=3, classifier__n_estimators=100; total time=   0.5s\n",
      "[CV 2/6] END classifier__max_features=0.7, classifier__min_samples_leaf=3, classifier__n_estimators=100; total time=   0.5s\n",
      "[CV 3/6] END classifier__max_features=0.7, classifier__min_samples_leaf=3, classifier__n_estimators=100; total time=   0.5s\n",
      "[CV 4/6] END classifier__max_features=0.7, classifier__min_samples_leaf=3, classifier__n_estimators=100; total time=   0.5s\n",
      "[CV 5/6] END classifier__max_features=0.7, classifier__min_samples_leaf=3, classifier__n_estimators=100; total time=   0.5s\n",
      "[CV 6/6] END classifier__max_features=0.7, classifier__min_samples_leaf=3, classifier__n_estimators=100; total time=   0.5s\n",
      "[CV 1/6] END classifier__max_features=0.7, classifier__min_samples_leaf=3, classifier__n_estimators=200; total time=   1.1s\n",
      "[CV 2/6] END classifier__max_features=0.7, classifier__min_samples_leaf=3, classifier__n_estimators=200; total time=   1.0s\n",
      "[CV 3/6] END classifier__max_features=0.7, classifier__min_samples_leaf=3, classifier__n_estimators=200; total time=   1.1s\n",
      "[CV 4/6] END classifier__max_features=0.7, classifier__min_samples_leaf=3, classifier__n_estimators=200; total time=   1.1s\n",
      "[CV 5/6] END classifier__max_features=0.7, classifier__min_samples_leaf=3, classifier__n_estimators=200; total time=   1.1s\n",
      "[CV 6/6] END classifier__max_features=0.7, classifier__min_samples_leaf=3, classifier__n_estimators=200; total time=   1.0s\n",
      "Wall time: 48.7 s\n"
     ]
    },
    {
     "data": {
      "text/plain": [
       "{'classifier__max_features': 0.7,\n",
       " 'classifier__min_samples_leaf': 3,\n",
       " 'classifier__n_estimators': 200}"
      ]
     },
     "execution_count": 22,
     "metadata": {},
     "output_type": "execute_result"
    }
   ],
   "source": [
    "%%time\n",
    "params = {\n",
    "    'classifier__n_estimators': [100, 200],\n",
    "    'classifier__max_features':[0.3, 0.5, 0.7],\n",
    "    'classifier__min_samples_leaf':[2, 3]\n",
    "}\n",
    "\n",
    "grid = GridSearchCV(pipeline1,\n",
    "                    param_grid=params,\n",
    "                    cv=6,\n",
    "                    refit=False,\n",
    "                    verbose=3)\n",
    "\n",
    "search = grid.fit(X_train, y_train)\n",
    "search.best_params_"
   ]
  },
  {
   "cell_type": "code",
   "execution_count": 23,
   "id": "9d23018f-cd07-4802-bb6e-dc0eacdfe7d9",
   "metadata": {},
   "outputs": [
    {
     "data": {
      "text/plain": [
       "Pipeline(steps=[('features',\n",
       "                 FeatureUnion(transformer_list=[('Geography',\n",
       "                                                 Pipeline(steps=[('selector',\n",
       "                                                                  FeatureSelector(column='Geography')),\n",
       "                                                                 ('ohe',\n",
       "                                                                  OHEEncoder(key='Geography'))])),\n",
       "                                                ('Gender',\n",
       "                                                 Pipeline(steps=[('selector',\n",
       "                                                                  FeatureSelector(column='Gender')),\n",
       "                                                                 ('ohe',\n",
       "                                                                  OHEEncoder(key='Gender'))])),\n",
       "                                                ('Tenure',\n",
       "                                                 Pipeline(steps=[('selector',\n",
       "                                                                  FeatureSelector(column='Tenu...\n",
       "                                                 Pipeline(steps=[('selector',\n",
       "                                                                  NumberSelector(key='Balance'))])),\n",
       "                                                ('NumOfProducts',\n",
       "                                                 Pipeline(steps=[('selector',\n",
       "                                                                  NumberSelector(key='NumOfProducts'))])),\n",
       "                                                ('EstimatedSalary',\n",
       "                                                 Pipeline(steps=[('selector',\n",
       "                                                                  NumberSelector(key='EstimatedSalary'))]))])),\n",
       "                ('classifier',\n",
       "                 GradientBoostingClassifier(max_features=0.7,\n",
       "                                            min_samples_leaf=3,\n",
       "                                            n_estimators=200,\n",
       "                                            random_state=42))])"
      ]
     },
     "execution_count": 23,
     "metadata": {},
     "output_type": "execute_result"
    }
   ],
   "source": [
    "pipeline = Pipeline([\n",
    "    ('features', feats),\n",
    "    ('classifier', GradientBoostingClassifier(n_estimators=200, max_features=0.7, \n",
    "                                          min_samples_leaf=3, random_state=42)),\n",
    "])\n",
    "pipeline.fit(X_train, y_train)"
   ]
  },
  {
   "cell_type": "code",
   "execution_count": 24,
   "id": "e7126784-f8e0-4177-8250-be6c2e5da003",
   "metadata": {},
   "outputs": [
    {
     "name": "stdout",
     "output_type": "stream",
     "text": [
      "Best Threshold=0.32313093010309585, F-Score=0.629, Precision=0.651, Recall=0.607\n",
      "Confusion matrix, without normalization\n",
      "[[1828  165]\n",
      " [ 200  307]]\n"
     ]
    },
    {
     "data": {
      "image/png": "[encoded data removed]",
      "text/plain": [
       "<Figure size 432x288 with 2 Axes>"
      ]
     },
     "metadata": {
      "needs_background": "light"
     },
     "output_type": "display_data"
    }
   ],
   "source": [
    "preds = pipeline.predict_proba(X_test)[:, 1]\n",
    "precision, recall, thresholds = precision_recall_curve(y_test, preds)\n",
    "\n",
    "fscore = (2 * precision * recall) / (precision + recall)\n",
    "# locate the index of the largest f score\n",
    "ix = np.argmax(fscore)\n",
    "print(f'Best Threshold={thresholds[ix]}, F-Score={fscore[ix]:.3f}, Precision={precision[ix]:.3f}, Recall={recall[ix]:.3f}')\n",
    "\n",
    "#мы уже нашли ранее \"оптимальный\" порог, когда максимизировали f_score\n",
    "font = {'size' : 15}\n",
    "\n",
    "plt.rc('font', **font)\n",
    "\n",
    "cnf_matrix = confusion_matrix(y_test, preds>thresholds[ix])\n",
    "plt.figure(figsize=(6, 4))\n",
    "plot_confusion_matrix(cnf_matrix, classes=['NonChurn', 'Churn'],\n",
    "                      title='Confusion matrix')\n",
    "plt.show()"
   ]
  },
  {
   "cell_type": "code",
   "execution_count": 25,
   "id": "73a22957-2cc8-4a79-9942-f777c31cd73d",
   "metadata": {},
   "outputs": [
    {
     "data": {
      "text/plain": [
       "142"
      ]
     },
     "execution_count": 25,
     "metadata": {},
     "output_type": "execute_result"
    }
   ],
   "source": [
    "TN = cnf_matrix[0][0]\n",
    "FP = cnf_matrix[0][1]\n",
    "FN = cnf_matrix[1][0]\n",
    "TP = cnf_matrix[1][1]\n",
    "\n",
    "\n",
    "retain_sum = (FP + TP) * 1\n",
    "income = TP * 2\n",
    "\n",
    "income - retain_sum"
   ]
  },
  {
   "cell_type": "markdown",
   "id": "76c8ed8d-c473-4571-983a-9b05b168bc59",
   "metadata": {},
   "source": [
    "**Градиентный бустинг победил. Без настройки гипрепараметров получаем 137 долларов, с настройкой 142**"
   ]
  },
  {
   "cell_type": "code",
   "execution_count": null,
   "id": "7c024a9b-4eb1-414a-9c83-bf60d50f2a27",
   "metadata": {},
   "outputs": [],
   "source": []
  }
 ],
 "metadata": {
  "kernelspec": {
   "display_name": "Python 3",
   "language": "python",
   "name": "python3"
  },
  "language_info": {
   "codemirror_mode": {
    "name": "ipython",
    "version": 3
   },
   "file_extension": ".py",
   "mimetype": "text/x-python",
   "name": "python",
   "nbconvert_exporter": "python",
   "pygments_lexer": "ipython3",
   "version": "3.8.8"
  }
 },
 "nbformat": 4,
 "nbformat_minor": 5
}

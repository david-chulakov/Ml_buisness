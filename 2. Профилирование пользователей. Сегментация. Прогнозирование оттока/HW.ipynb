{
 "cells": [
  {
   "cell_type": "markdown",
   "id": "8a8a81f3-cf1d-496b-b1b3-999194454fe1",
   "metadata": {},
   "source": [
    "Прогнозирование оттока"
   ]
  },
  {
   "cell_type": "code",
   "execution_count": 1,
   "id": "6410b93a-76c5-4052-a67d-f9e98f211c13",
   "metadata": {},
   "outputs": [],
   "source": [
    "# Импортируем библиотеки\n",
    "import pandas as pd\n",
    "import matplotlib.pyplot as plt\n",
    "\n",
    "# Библиотеки для предобработки\n",
    "import re\n",
    "import numpy as np\n",
    "from gensim.corpora.dictionary import Dictionary\n",
    "from razdel import tokenize  # сегментация русскоязычного текста на токены и предложения https://github.com/natasha/razdel\n",
    "import pymorphy2  # Морфологический анализатор\n",
    "import nltk\n",
    "from nltk.corpus import stopwords\n",
    "\n",
    "# LDA\n",
    "from gensim.models import LdaModel\n",
    "from gensim.test.utils import datapath\n",
    "\n",
    "# Логистическая регрессия\n",
    "from sklearn.linear_model import LogisticRegression\n",
    "from sklearn.model_selection import train_test_split\n",
    "\n",
    "# Метрики\n",
    "from sklearn.metrics import (f1_score, roc_auc_score, precision_score,\n",
    "                             classification_report, precision_recall_curve, confusion_matrix)"
   ]
  },
  {
   "cell_type": "code",
   "execution_count": 2,
   "id": "50b4c956-2763-4b7d-9f82-163648524e3e",
   "metadata": {},
   "outputs": [
    {
     "name": "stdout",
     "output_type": "stream",
     "text": [
      "(27000, 2)\n"
     ]
    },
    {
     "data": {
      "text/html": [
       "<div>\n",
       "<style scoped>\n",
       "    .dataframe tbody tr th:only-of-type {\n",
       "        vertical-align: middle;\n",
       "    }\n",
       "\n",
       "    .dataframe tbody tr th {\n",
       "        vertical-align: top;\n",
       "    }\n",
       "\n",
       "    .dataframe thead th {\n",
       "        text-align: right;\n",
       "    }\n",
       "</style>\n",
       "<table border=\"1\" class=\"dataframe\">\n",
       "  <thead>\n",
       "    <tr style=\"text-align: right;\">\n",
       "      <th></th>\n",
       "      <th>doc_id</th>\n",
       "      <th>title</th>\n",
       "    </tr>\n",
       "  </thead>\n",
       "  <tbody>\n",
       "    <tr>\n",
       "      <th>0</th>\n",
       "      <td>6</td>\n",
       "      <td>Заместитель председателяnправительства РФnСерг...</td>\n",
       "    </tr>\n",
       "    <tr>\n",
       "      <th>1</th>\n",
       "      <td>4896</td>\n",
       "      <td>Матч 1/16 финала Кубка России по футболу был п...</td>\n",
       "    </tr>\n",
       "    <tr>\n",
       "      <th>2</th>\n",
       "      <td>4897</td>\n",
       "      <td>Форвард «Авангарда» Томаш Заборский прокоммент...</td>\n",
       "    </tr>\n",
       "  </tbody>\n",
       "</table>\n",
       "</div>"
      ],
      "text/plain": [
       "   doc_id                                              title\n",
       "0       6  Заместитель председателяnправительства РФnСерг...\n",
       "1    4896  Матч 1/16 финала Кубка России по футболу был п...\n",
       "2    4897  Форвард «Авангарда» Томаш Заборский прокоммент..."
      ]
     },
     "execution_count": 2,
     "metadata": {},
     "output_type": "execute_result"
    }
   ],
   "source": [
    "news = pd.read_csv(\"articles.csv\")\n",
    "print(news.shape)\n",
    "news.head(3)"
   ]
  },
  {
   "cell_type": "code",
   "execution_count": 3,
   "id": "f2e4889d-7c24-42a1-ba75-22409e90b6a7",
   "metadata": {},
   "outputs": [
    {
     "name": "stdout",
     "output_type": "stream",
     "text": [
      "(8000, 2)\n"
     ]
    },
    {
     "data": {
      "text/html": [
       "<div>\n",
       "<style scoped>\n",
       "    .dataframe tbody tr th:only-of-type {\n",
       "        vertical-align: middle;\n",
       "    }\n",
       "\n",
       "    .dataframe tbody tr th {\n",
       "        vertical-align: top;\n",
       "    }\n",
       "\n",
       "    .dataframe thead th {\n",
       "        text-align: right;\n",
       "    }\n",
       "</style>\n",
       "<table border=\"1\" class=\"dataframe\">\n",
       "  <thead>\n",
       "    <tr style=\"text-align: right;\">\n",
       "      <th></th>\n",
       "      <th>uid</th>\n",
       "      <th>articles</th>\n",
       "    </tr>\n",
       "  </thead>\n",
       "  <tbody>\n",
       "    <tr>\n",
       "      <th>0</th>\n",
       "      <td>u105138</td>\n",
       "      <td>[293672, 293328, 293001, 293622, 293126, 1852]</td>\n",
       "    </tr>\n",
       "    <tr>\n",
       "      <th>1</th>\n",
       "      <td>u108690</td>\n",
       "      <td>[3405, 1739, 2972, 1158, 1599, 322665]</td>\n",
       "    </tr>\n",
       "    <tr>\n",
       "      <th>2</th>\n",
       "      <td>u108339</td>\n",
       "      <td>[1845, 2009, 2356, 1424, 2939, 323389]</td>\n",
       "    </tr>\n",
       "  </tbody>\n",
       "</table>\n",
       "</div>"
      ],
      "text/plain": [
       "       uid                                        articles\n",
       "0  u105138  [293672, 293328, 293001, 293622, 293126, 1852]\n",
       "1  u108690          [3405, 1739, 2972, 1158, 1599, 322665]\n",
       "2  u108339          [1845, 2009, 2356, 1424, 2939, 323389]"
      ]
     },
     "execution_count": 3,
     "metadata": {},
     "output_type": "execute_result"
    }
   ],
   "source": [
    "users = pd.read_csv(\"users_articles.csv\")\n",
    "print(users.shape)\n",
    "users.head(3)"
   ]
  },
  {
   "cell_type": "code",
   "execution_count": 4,
   "id": "85771e5f-e9db-4f61-8a65-2ce216f496a3",
   "metadata": {},
   "outputs": [
    {
     "name": "stdout",
     "output_type": "stream",
     "text": [
      "151\n"
     ]
    },
    {
     "name": "stderr",
     "output_type": "stream",
     "text": [
      "[nltk_data] Downloading package stopwords to\n",
      "[nltk_data]     C:\\Users\\David\\AppData\\Roaming\\nltk_data...\n",
      "[nltk_data]   Package stopwords is already up-to-date!\n"
     ]
    }
   ],
   "source": [
    "# Русские стоп слова из nltk\n",
    "nltk.download('stopwords')\n",
    "stopword_ru = stopwords.words('russian')\n",
    "print(len(stopword_ru))"
   ]
  },
  {
   "cell_type": "code",
   "execution_count": 5,
   "id": "737bbc6e-6e67-4370-b61d-e0f128c390c6",
   "metadata": {},
   "outputs": [],
   "source": [
    "# Дополнительные стоп слова\n",
    "with open('stopwords.txt') as f:\n",
    "    additional_stopwords = [w.strip() for w in f.readlines() if w]"
   ]
  },
  {
   "cell_type": "code",
   "execution_count": 6,
   "id": "01511b6d-ef78-46fa-9e1f-1fb5fb25aeee",
   "metadata": {},
   "outputs": [
    {
     "data": {
      "text/plain": [
       "776"
      ]
     },
     "execution_count": 6,
     "metadata": {},
     "output_type": "execute_result"
    }
   ],
   "source": [
    "stopword_ru += additional_stopwords\n",
    "len(stopword_ru)"
   ]
  },
  {
   "cell_type": "code",
   "execution_count": 7,
   "id": "62bc9ece-465d-4753-9bfe-601e33744a16",
   "metadata": {},
   "outputs": [],
   "source": [
    "def clean_text(text):\n",
    "    '''\n",
    "    очистка текста\n",
    "    \n",
    "    на выходе очищеный текст\n",
    "    '''\n",
    "    if not isinstance(text, str):\n",
    "        text = str(text)\n",
    "    \n",
    "    text = text.lower()\n",
    "    text = text.strip('\\n').strip('\\r').strip('\\t')\n",
    "    text = re.sub(\"-\\s\\r\\n\\|-\\s\\r\\n|\\r\\n\", '', str(text))\n",
    "\n",
    "    text = re.sub(\"[0-9]|[-—.,:;_%©«»?*!@#№$^•·&()]|[+=]|[[]|[]]|[/]|\", '', text)\n",
    "    text = re.sub(r\"\\r\\n\\t|\\n|\\\\s|\\r\\t|\\\\n\", ' ', text)\n",
    "    text = re.sub(r'[\\xad]|[\\s+]', ' ', text.strip())\n",
    "    text = re.sub('n', ' ', text)\n",
    "    \n",
    "    return text\n",
    "\n",
    "cache = {}\n",
    "morph = pymorphy2.MorphAnalyzer()\n",
    "\n",
    "def lemmatization(text):    \n",
    "    '''\n",
    "    лемматизация\n",
    "        [0] если зашел тип не `str` делаем его `str`\n",
    "        [1] токенизация предложения через razdel\n",
    "        [2] проверка есть ли в начале слова '-'\n",
    "        [3] проверка токена с одного символа\n",
    "        [4] проверка есть ли данное слово в кэше\n",
    "        [5] лемматизация слова\n",
    "        [6] проверка на стоп-слова\n",
    "\n",
    "    на выходе лист лемматизированых токенов\n",
    "    '''\n",
    "\n",
    "    # [0]\n",
    "    if not isinstance(text, str):\n",
    "        text = str(text)\n",
    "    \n",
    "    # [1]\n",
    "    tokens = list(tokenize(text))\n",
    "    words = [_.text for _ in tokens]\n",
    "\n",
    "    words_lem = []\n",
    "    for w in words:\n",
    "        if w[0] == '-': # [2]\n",
    "            w = w[1:]\n",
    "        if len(w) > 1: # [3]\n",
    "            if w in cache: # [4]\n",
    "                words_lem.append(cache[w])\n",
    "            else: # [5]\n",
    "                temp_cach = cache[w] = morph.parse(w)[0].normal_form\n",
    "                words_lem.append(temp_cach)\n",
    "    \n",
    "    words_lem_without_stopwords = [i for i in words_lem if not i in stopword_ru] # [6]\n",
    "    \n",
    "    return words_lem_without_stopwords"
   ]
  },
  {
   "cell_type": "code",
   "execution_count": 8,
   "id": "69969a33-f9cb-4e4d-bd0e-830a625e83fa",
   "metadata": {},
   "outputs": [
    {
     "name": "stderr",
     "output_type": "stream",
     "text": [
      "  0%|          | 0/27000 [00:00<?, ?it/s]<ipython-input-7-898b573b2830>:14: FutureWarning: Possible nested set at position 39\n",
      "  text = re.sub(\"[0-9]|[-—.,:;_%©«»?*!@#№$^•·&()]|[+=]|[[]|[]]|[/]|\", '', text)\n",
      "100%|██████████| 27000/27000 [00:22<00:00, 1206.70it/s]"
     ]
    },
    {
     "name": "stdout",
     "output_type": "stream",
     "text": [
      "Wall time: 22.4 s\n"
     ]
    },
    {
     "name": "stderr",
     "output_type": "stream",
     "text": [
      "\n"
     ]
    }
   ],
   "source": [
    "%%time\n",
    "from tqdm import tqdm\n",
    "tqdm.pandas()\n",
    "\n",
    "# Запускаем очистку текста. Будет долго...\n",
    "news['title'] = news['title'].progress_apply(lambda x: clean_text(x))"
   ]
  },
  {
   "cell_type": "code",
   "execution_count": 9,
   "id": "92349b47-5ba3-401b-b256-b13d35205e8e",
   "metadata": {},
   "outputs": [
    {
     "name": "stderr",
     "output_type": "stream",
     "text": [
      "100%|██████████| 27000/27000 [02:56<00:00, 152.79it/s]"
     ]
    },
    {
     "name": "stdout",
     "output_type": "stream",
     "text": [
      "Wall time: 2min 56s\n"
     ]
    },
    {
     "name": "stderr",
     "output_type": "stream",
     "text": [
      "\n"
     ]
    }
   ],
   "source": [
    "%%time\n",
    "# Запускаем лемматизацию текста. Будет очень долго...\n",
    "news['title'] = news['title'].progress_apply(lambda x: lemmatization(x))"
   ]
  },
  {
   "cell_type": "code",
   "execution_count": 11,
   "id": "4ddfbb12-7cb3-4475-97a7-fc90e485510b",
   "metadata": {},
   "outputs": [],
   "source": [
    "# сформируем список наших текстов\n",
    "texts = list(news['title'].values)\n",
    "\n",
    "# Создадим корпус из списка с текстами\n",
    "common_dictionary = Dictionary(texts)\n",
    "common_corpus = [common_dictionary.doc2bow(text) for text in texts]"
   ]
  },
  {
   "cell_type": "code",
   "execution_count": 15,
   "id": "5ee608b5-5b7a-453b-a9b6-51d6edca7258",
   "metadata": {},
   "outputs": [],
   "source": [
    "N_topic = 20\n",
    "# Обучаем модель на корпусе\n",
    "lda = LdaModel(common_corpus, num_topics=N_topic, id2word=common_dictionary, passes=3)"
   ]
  },
  {
   "cell_type": "code",
   "execution_count": 16,
   "id": "dc8ec2c8-46ed-41f3-9b0b-0ff8bb23f8ca",
   "metadata": {},
   "outputs": [],
   "source": [
    "# Сохраняем модель на диск\n",
    "temp_file = datapath(\"model.lda\")\n",
    "lda.save(temp_file)"
   ]
  },
  {
   "cell_type": "code",
   "execution_count": 17,
   "id": "c55cf7a6-e1b7-4b84-adcf-8b7a176790bf",
   "metadata": {},
   "outputs": [],
   "source": [
    "# Загружаем обученную модель с диска\n",
    "lda = LdaModel.load(temp_file)"
   ]
  },
  {
   "cell_type": "code",
   "execution_count": 18,
   "id": "9c4b8598-22d3-43d8-8824-df12be7dba41",
   "metadata": {},
   "outputs": [
    {
     "name": "stdout",
     "output_type": "stream",
     "text": [
      "['форвард', 'авангард', 'томаш', 'заборский', 'прокомментировать', 'игра', 'свой', 'команда', 'матч', 'чемпионат', 'кхл', 'против', 'атланта', 'провести', 'плохой', 'матч', 'нижний', 'новгород', 'против', 'торпедо', 'настраиваться', 'первый', 'минута', 'включиться', 'работа', 'сказать', 'заборский', 'получиться', 'забросить', 'быстрый', 'гол', 'задать', 'хороший', 'темп', 'поединок', 'мочь', 'играть', 'ещё', 'хороший', 'сторона', 'пять', 'очко', 'выезд', 'девять', 'это', 'хороший']\n"
     ]
    },
    {
     "data": {
      "text/plain": [
       "[(1, 0.036883887),\n",
       " (4, 0.30030417),\n",
       " (12, 0.1970034),\n",
       " (13, 0.35100695),\n",
       " (14, 0.097893484)]"
      ]
     },
     "execution_count": 18,
     "metadata": {},
     "output_type": "execute_result"
    }
   ],
   "source": [
    "other_texts = list(news['title'].iloc[:3])\n",
    "other_corpus = [common_dictionary.doc2bow(text) for text in other_texts]\n",
    "\n",
    "unseen_doc = other_corpus[2]\n",
    "print(other_texts[2])\n",
    "lda[unseen_doc] "
   ]
  },
  {
   "cell_type": "code",
   "execution_count": 19,
   "id": "c2aa5360-720c-4e8d-85aa-ccc79f20f507",
   "metadata": {},
   "outputs": [
    {
     "name": "stdout",
     "output_type": "stream",
     "text": [
      "topic_0: это россия мочь год система рынок российский\n",
      "topic_1: человек ребёнок женщина мужчина который университет врач\n",
      "topic_2: конкурс офицер мальчик супруг reuters лауреат сон\n",
      "topic_3: газ препарат сократиться письмо анализ употребление журнал\n",
      "topic_4: команда игра золото калифорния хороший адмирал матч\n",
      "topic_5: налог бизнесмен ирландия взорваться грузовик тереза фунт\n",
      "topic_6: ракета экипаж миссия запуск объект система российский\n",
      "topic_7: украина украинский киев след украинец донбасс германия\n",
      "topic_8: земля день район вода температура пострадать двигатель\n",
      "topic_9: писать британский тур великобритания свидетель мэй ведение\n",
      "topic_10: год компания проект млрд работа москва новый\n",
      "topic_11: рубль банк суд дело сумма доллар млн\n",
      "topic_12: обнаружить тело полиция напомнить свой который произойти\n",
      "topic_13: это который год мочь всё весь человек\n",
      "topic_14: день россия путин русский пройти мероприятие наука\n",
      "topic_15: россия год президент правительство это гражданин который\n",
      "topic_16: сша военный американский фонд российский страна россия\n",
      "topic_17: исследование статья население рост вырасти прогноз доля\n",
      "topic_18: который год это свой заявить россия также\n",
      "topic_19: год тыс млн журнал погибнуть стать составить\n"
     ]
    }
   ],
   "source": [
    "x = lda.show_topics(num_topics=N_topic, num_words=7, formatted=False)\n",
    "topics_words = [(tp[0], [wd[0] for wd in tp[1]]) for tp in x]\n",
    "\n",
    "# Печатаем только слова\n",
    "for topic, words in topics_words:\n",
    "    print(f\"topic_{topic}: \" + \" \".join(words))"
   ]
  },
  {
   "cell_type": "code",
   "execution_count": 20,
   "id": "0744aa71-7fd6-49f1-a006-067ba93f3a85",
   "metadata": {},
   "outputs": [],
   "source": [
    "def get_lda_vector(lda, text):\n",
    "    unseen_doc = common_dictionary.doc2bow(text)\n",
    "    lda_tuple = lda[unseen_doc]\n",
    "\n",
    "    not_null_topics = dict(zip([i[0] for i in lda_tuple], [i[1] for i in lda_tuple]))\n",
    "\n",
    "    output_vector = []\n",
    "    for i in range(N_topic):\n",
    "        if i not in not_null_topics:\n",
    "            output_vector.append(0)\n",
    "        else:\n",
    "            output_vector.append(not_null_topics[i])\n",
    "    return np.array(output_vector)"
   ]
  },
  {
   "cell_type": "code",
   "execution_count": 21,
   "id": "3ca22d26-7eb7-44a5-b1fd-6267fbc2f20b",
   "metadata": {},
   "outputs": [
    {
     "name": "stdout",
     "output_type": "stream",
     "text": [
      "Wall time: 27.1 s\n"
     ]
    },
    {
     "data": {
      "text/html": [
       "<div>\n",
       "<style scoped>\n",
       "    .dataframe tbody tr th:only-of-type {\n",
       "        vertical-align: middle;\n",
       "    }\n",
       "\n",
       "    .dataframe tbody tr th {\n",
       "        vertical-align: top;\n",
       "    }\n",
       "\n",
       "    .dataframe thead th {\n",
       "        text-align: right;\n",
       "    }\n",
       "</style>\n",
       "<table border=\"1\" class=\"dataframe\">\n",
       "  <thead>\n",
       "    <tr style=\"text-align: right;\">\n",
       "      <th></th>\n",
       "      <th>doc_id</th>\n",
       "      <th>topic_0</th>\n",
       "      <th>topic_1</th>\n",
       "      <th>topic_2</th>\n",
       "      <th>topic_3</th>\n",
       "      <th>topic_4</th>\n",
       "      <th>topic_5</th>\n",
       "      <th>topic_6</th>\n",
       "      <th>topic_7</th>\n",
       "      <th>topic_8</th>\n",
       "      <th>...</th>\n",
       "      <th>topic_10</th>\n",
       "      <th>topic_11</th>\n",
       "      <th>topic_12</th>\n",
       "      <th>topic_13</th>\n",
       "      <th>topic_14</th>\n",
       "      <th>topic_15</th>\n",
       "      <th>topic_16</th>\n",
       "      <th>topic_17</th>\n",
       "      <th>topic_18</th>\n",
       "      <th>topic_19</th>\n",
       "    </tr>\n",
       "  </thead>\n",
       "  <tbody>\n",
       "    <tr>\n",
       "      <th>0</th>\n",
       "      <td>6</td>\n",
       "      <td>0.0</td>\n",
       "      <td>0.000000</td>\n",
       "      <td>0.0</td>\n",
       "      <td>0.0</td>\n",
       "      <td>0.121426</td>\n",
       "      <td>0.0</td>\n",
       "      <td>0.0</td>\n",
       "      <td>0.0</td>\n",
       "      <td>0.0</td>\n",
       "      <td>...</td>\n",
       "      <td>0.601104</td>\n",
       "      <td>0.0</td>\n",
       "      <td>0.000000</td>\n",
       "      <td>0.017401</td>\n",
       "      <td>0.000000</td>\n",
       "      <td>0.252396</td>\n",
       "      <td>0.0</td>\n",
       "      <td>0.0</td>\n",
       "      <td>0.000000</td>\n",
       "      <td>0.0</td>\n",
       "    </tr>\n",
       "    <tr>\n",
       "      <th>1</th>\n",
       "      <td>4896</td>\n",
       "      <td>0.0</td>\n",
       "      <td>0.433944</td>\n",
       "      <td>0.0</td>\n",
       "      <td>0.0</td>\n",
       "      <td>0.224752</td>\n",
       "      <td>0.0</td>\n",
       "      <td>0.0</td>\n",
       "      <td>0.0</td>\n",
       "      <td>0.0</td>\n",
       "      <td>...</td>\n",
       "      <td>0.000000</td>\n",
       "      <td>0.0</td>\n",
       "      <td>0.000000</td>\n",
       "      <td>0.000000</td>\n",
       "      <td>0.000000</td>\n",
       "      <td>0.000000</td>\n",
       "      <td>0.0</td>\n",
       "      <td>0.0</td>\n",
       "      <td>0.227337</td>\n",
       "      <td>0.0</td>\n",
       "    </tr>\n",
       "    <tr>\n",
       "      <th>2</th>\n",
       "      <td>4897</td>\n",
       "      <td>0.0</td>\n",
       "      <td>0.036810</td>\n",
       "      <td>0.0</td>\n",
       "      <td>0.0</td>\n",
       "      <td>0.300308</td>\n",
       "      <td>0.0</td>\n",
       "      <td>0.0</td>\n",
       "      <td>0.0</td>\n",
       "      <td>0.0</td>\n",
       "      <td>...</td>\n",
       "      <td>0.000000</td>\n",
       "      <td>0.0</td>\n",
       "      <td>0.197026</td>\n",
       "      <td>0.351023</td>\n",
       "      <td>0.097925</td>\n",
       "      <td>0.000000</td>\n",
       "      <td>0.0</td>\n",
       "      <td>0.0</td>\n",
       "      <td>0.000000</td>\n",
       "      <td>0.0</td>\n",
       "    </tr>\n",
       "    <tr>\n",
       "      <th>3</th>\n",
       "      <td>4898</td>\n",
       "      <td>0.0</td>\n",
       "      <td>0.000000</td>\n",
       "      <td>0.0</td>\n",
       "      <td>0.0</td>\n",
       "      <td>0.136207</td>\n",
       "      <td>0.0</td>\n",
       "      <td>0.0</td>\n",
       "      <td>0.0</td>\n",
       "      <td>0.0</td>\n",
       "      <td>...</td>\n",
       "      <td>0.000000</td>\n",
       "      <td>0.0</td>\n",
       "      <td>0.130728</td>\n",
       "      <td>0.684893</td>\n",
       "      <td>0.000000</td>\n",
       "      <td>0.022877</td>\n",
       "      <td>0.0</td>\n",
       "      <td>0.0</td>\n",
       "      <td>0.000000</td>\n",
       "      <td>0.0</td>\n",
       "    </tr>\n",
       "    <tr>\n",
       "      <th>4</th>\n",
       "      <td>4899</td>\n",
       "      <td>0.0</td>\n",
       "      <td>0.000000</td>\n",
       "      <td>0.0</td>\n",
       "      <td>0.0</td>\n",
       "      <td>0.130851</td>\n",
       "      <td>0.0</td>\n",
       "      <td>0.0</td>\n",
       "      <td>0.0</td>\n",
       "      <td>0.0</td>\n",
       "      <td>...</td>\n",
       "      <td>0.498499</td>\n",
       "      <td>0.0</td>\n",
       "      <td>0.000000</td>\n",
       "      <td>0.000000</td>\n",
       "      <td>0.000000</td>\n",
       "      <td>0.347014</td>\n",
       "      <td>0.0</td>\n",
       "      <td>0.0</td>\n",
       "      <td>0.000000</td>\n",
       "      <td>0.0</td>\n",
       "    </tr>\n",
       "  </tbody>\n",
       "</table>\n",
       "<p>5 rows × 21 columns</p>\n",
       "</div>"
      ],
      "text/plain": [
       "   doc_id  topic_0   topic_1  topic_2  topic_3   topic_4  topic_5  topic_6  \\\n",
       "0       6      0.0  0.000000      0.0      0.0  0.121426      0.0      0.0   \n",
       "1    4896      0.0  0.433944      0.0      0.0  0.224752      0.0      0.0   \n",
       "2    4897      0.0  0.036810      0.0      0.0  0.300308      0.0      0.0   \n",
       "3    4898      0.0  0.000000      0.0      0.0  0.136207      0.0      0.0   \n",
       "4    4899      0.0  0.000000      0.0      0.0  0.130851      0.0      0.0   \n",
       "\n",
       "   topic_7  topic_8  ...  topic_10  topic_11  topic_12  topic_13  topic_14  \\\n",
       "0      0.0      0.0  ...  0.601104       0.0  0.000000  0.017401  0.000000   \n",
       "1      0.0      0.0  ...  0.000000       0.0  0.000000  0.000000  0.000000   \n",
       "2      0.0      0.0  ...  0.000000       0.0  0.197026  0.351023  0.097925   \n",
       "3      0.0      0.0  ...  0.000000       0.0  0.130728  0.684893  0.000000   \n",
       "4      0.0      0.0  ...  0.498499       0.0  0.000000  0.000000  0.000000   \n",
       "\n",
       "   topic_15  topic_16  topic_17  topic_18  topic_19  \n",
       "0  0.252396       0.0       0.0  0.000000       0.0  \n",
       "1  0.000000       0.0       0.0  0.227337       0.0  \n",
       "2  0.000000       0.0       0.0  0.000000       0.0  \n",
       "3  0.022877       0.0       0.0  0.000000       0.0  \n",
       "4  0.347014       0.0       0.0  0.000000       0.0  \n",
       "\n",
       "[5 rows x 21 columns]"
      ]
     },
     "execution_count": 21,
     "metadata": {},
     "output_type": "execute_result"
    }
   ],
   "source": [
    "%%time\n",
    "topic_matrix = pd.DataFrame([get_lda_vector(lda, text) for text in news['title'].values])\n",
    "topic_matrix.columns = [f'topic_{i}' for i in range(N_topic)]\n",
    "topic_matrix['doc_id'] = news['doc_id'].values\n",
    "topic_matrix = topic_matrix[['doc_id']+[f'topic_{i}' for i in range(N_topic)]]\n",
    "topic_matrix.head(5)"
   ]
  },
  {
   "cell_type": "code",
   "execution_count": 98,
   "id": "74d8bad9-d68f-4967-96b9-76b9c8cb514a",
   "metadata": {},
   "outputs": [],
   "source": [
    "doc_dict = dict(zip(topic_matrix['doc_id'].values, topic_matrix[[f'topic_{i}' for i in range(N_topic)]].values))\n",
    "\n",
    "import math\n",
    "import numpy as np\n",
    "def compute_idf(word, docs):\n",
    "    return math.log10(len(docs)/sum([1.0 for i in docs if word in i]))\n",
    "\n",
    "def get_user_embedding(user_articles_list, doc_dict, mode):\n",
    "    '''\n",
    "    mode: {'mean', 'max', 'median', 'idf'}\n",
    "    '''\n",
    "    user_articles_list = eval(user_articles_list)\n",
    "    user_vector = np.array([doc_dict[doc_id] for doc_id in user_articles_list])\n",
    "    \n",
    "    #print(user_vector)\n",
    "    \n",
    "    if mode == 'mean':\n",
    "        user_vector = np.mean(user_vector, 0)\n",
    "    elif mode == 'median':\n",
    "        user_vector = np.median(user_vector, 0)\n",
    "    elif mode == 'max':\n",
    "        user_vector = np.max(user_vector, 0)\n",
    "    else:\n",
    "        # Получаем тексты статьей читаемых пользователем\n",
    "        docs = []\n",
    "        for text_num in user_articles_list:\n",
    "            docs.append(news[news['doc_id'] == text_num]['title'].values[0])\n",
    "        \n",
    "        # Считаем идф слов в статьях и берем среднее значение под документу\n",
    "        idfs = []\n",
    "        for text in docs:\n",
    "            idfs_per_text = []\n",
    "            for word in text:\n",
    "                idfs_per_text.append(compute_idf(word, docs))\n",
    "            idfs.append(np.array(idfs_per_text).mean())\n",
    "        \n",
    "        #print(idfs)\n",
    "        # Создаем вектор умножая значение lda на idf и берем среднее/медиану/макс по статьям\n",
    "        new_user_vector = []\n",
    "        for i in range(6):\n",
    "            user_vector_per_text = []\n",
    "            for value in user_vector[i]:\n",
    "                user_vector_per_text.append(value * idfs[i])\n",
    "            new_user_vector.append(user_vector_per_text)\n",
    "        return np.max(new_user_vector, 0)\n",
    "    return user_vector"
   ]
  },
  {
   "cell_type": "code",
   "execution_count": 99,
   "id": "55e2c35d-fe58-4b0e-a67b-e73c7547eb3d",
   "metadata": {},
   "outputs": [
    {
     "name": "stderr",
     "output_type": "stream",
     "text": [
      "100%|██████████| 8000/8000 [02:50<00:00, 46.98it/s]"
     ]
    },
    {
     "name": "stdout",
     "output_type": "stream",
     "text": [
      "Wall time: 2min 50s\n"
     ]
    },
    {
     "name": "stderr",
     "output_type": "stream",
     "text": [
      "\n"
     ]
    },
    {
     "data": {
      "text/html": [
       "<div>\n",
       "<style scoped>\n",
       "    .dataframe tbody tr th:only-of-type {\n",
       "        vertical-align: middle;\n",
       "    }\n",
       "\n",
       "    .dataframe tbody tr th {\n",
       "        vertical-align: top;\n",
       "    }\n",
       "\n",
       "    .dataframe thead th {\n",
       "        text-align: right;\n",
       "    }\n",
       "</style>\n",
       "<table border=\"1\" class=\"dataframe\">\n",
       "  <thead>\n",
       "    <tr style=\"text-align: right;\">\n",
       "      <th></th>\n",
       "      <th>uid</th>\n",
       "      <th>topic_0</th>\n",
       "      <th>topic_1</th>\n",
       "      <th>topic_2</th>\n",
       "      <th>topic_3</th>\n",
       "      <th>topic_4</th>\n",
       "      <th>topic_5</th>\n",
       "      <th>topic_6</th>\n",
       "      <th>topic_7</th>\n",
       "      <th>topic_8</th>\n",
       "      <th>...</th>\n",
       "      <th>topic_10</th>\n",
       "      <th>topic_11</th>\n",
       "      <th>topic_12</th>\n",
       "      <th>topic_13</th>\n",
       "      <th>topic_14</th>\n",
       "      <th>topic_15</th>\n",
       "      <th>topic_16</th>\n",
       "      <th>topic_17</th>\n",
       "      <th>topic_18</th>\n",
       "      <th>topic_19</th>\n",
       "    </tr>\n",
       "  </thead>\n",
       "  <tbody>\n",
       "    <tr>\n",
       "      <th>0</th>\n",
       "      <td>u105138</td>\n",
       "      <td>0.144383</td>\n",
       "      <td>0.195769</td>\n",
       "      <td>0.032628</td>\n",
       "      <td>0.000000</td>\n",
       "      <td>0.027734</td>\n",
       "      <td>0.0</td>\n",
       "      <td>0.016719</td>\n",
       "      <td>0.135533</td>\n",
       "      <td>0.018369</td>\n",
       "      <td>...</td>\n",
       "      <td>0.360550</td>\n",
       "      <td>0.000000</td>\n",
       "      <td>0.136737</td>\n",
       "      <td>0.103107</td>\n",
       "      <td>0.350773</td>\n",
       "      <td>0.120625</td>\n",
       "      <td>0.086382</td>\n",
       "      <td>0.065186</td>\n",
       "      <td>0.313087</td>\n",
       "      <td>0.123692</td>\n",
       "    </tr>\n",
       "    <tr>\n",
       "      <th>1</th>\n",
       "      <td>u108690</td>\n",
       "      <td>0.089847</td>\n",
       "      <td>0.145926</td>\n",
       "      <td>0.015918</td>\n",
       "      <td>0.000000</td>\n",
       "      <td>0.000000</td>\n",
       "      <td>0.0</td>\n",
       "      <td>0.059535</td>\n",
       "      <td>0.086770</td>\n",
       "      <td>0.024746</td>\n",
       "      <td>...</td>\n",
       "      <td>0.060879</td>\n",
       "      <td>0.029462</td>\n",
       "      <td>0.090693</td>\n",
       "      <td>0.153003</td>\n",
       "      <td>0.111607</td>\n",
       "      <td>0.135079</td>\n",
       "      <td>0.133915</td>\n",
       "      <td>0.050196</td>\n",
       "      <td>0.227666</td>\n",
       "      <td>0.051404</td>\n",
       "    </tr>\n",
       "    <tr>\n",
       "      <th>2</th>\n",
       "      <td>u108339</td>\n",
       "      <td>0.045980</td>\n",
       "      <td>0.107368</td>\n",
       "      <td>0.083513</td>\n",
       "      <td>0.022464</td>\n",
       "      <td>0.000000</td>\n",
       "      <td>0.0</td>\n",
       "      <td>0.012897</td>\n",
       "      <td>0.000000</td>\n",
       "      <td>0.121250</td>\n",
       "      <td>...</td>\n",
       "      <td>0.158692</td>\n",
       "      <td>0.044444</td>\n",
       "      <td>0.088800</td>\n",
       "      <td>0.059475</td>\n",
       "      <td>0.070382</td>\n",
       "      <td>0.130459</td>\n",
       "      <td>0.107454</td>\n",
       "      <td>0.020592</td>\n",
       "      <td>0.241438</td>\n",
       "      <td>0.044274</td>\n",
       "    </tr>\n",
       "  </tbody>\n",
       "</table>\n",
       "<p>3 rows × 21 columns</p>\n",
       "</div>"
      ],
      "text/plain": [
       "       uid   topic_0   topic_1   topic_2   topic_3   topic_4  topic_5  \\\n",
       "0  u105138  0.144383  0.195769  0.032628  0.000000  0.027734      0.0   \n",
       "1  u108690  0.089847  0.145926  0.015918  0.000000  0.000000      0.0   \n",
       "2  u108339  0.045980  0.107368  0.083513  0.022464  0.000000      0.0   \n",
       "\n",
       "    topic_6   topic_7   topic_8  ...  topic_10  topic_11  topic_12  topic_13  \\\n",
       "0  0.016719  0.135533  0.018369  ...  0.360550  0.000000  0.136737  0.103107   \n",
       "1  0.059535  0.086770  0.024746  ...  0.060879  0.029462  0.090693  0.153003   \n",
       "2  0.012897  0.000000  0.121250  ...  0.158692  0.044444  0.088800  0.059475   \n",
       "\n",
       "   topic_14  topic_15  topic_16  topic_17  topic_18  topic_19  \n",
       "0  0.350773  0.120625  0.086382  0.065186  0.313087  0.123692  \n",
       "1  0.111607  0.135079  0.133915  0.050196  0.227666  0.051404  \n",
       "2  0.070382  0.130459  0.107454  0.020592  0.241438  0.044274  \n",
       "\n",
       "[3 rows x 21 columns]"
      ]
     },
     "execution_count": 99,
     "metadata": {},
     "output_type": "execute_result"
    }
   ],
   "source": [
    "%%time\n",
    "user_embeddings = pd.DataFrame([i for i in users['articles'].progress_apply(lambda x: get_user_embedding(x, doc_dict, 'idf'))])\n",
    "user_embeddings.columns = [f'topic_{i}' for i in range(N_topic)]\n",
    "user_embeddings['uid'] = users['uid'].values\n",
    "user_embeddings = user_embeddings[['uid']+[f'topic_{i}' for i in range(N_topic)]]\n",
    "user_embeddings.head(3)\n"
   ]
  },
  {
   "cell_type": "code",
   "execution_count": 100,
   "id": "bc39e1ac-87ee-4bd0-a24e-0f74421a3f7f",
   "metadata": {},
   "outputs": [
    {
     "data": {
      "text/html": [
       "<div>\n",
       "<style scoped>\n",
       "    .dataframe tbody tr th:only-of-type {\n",
       "        vertical-align: middle;\n",
       "    }\n",
       "\n",
       "    .dataframe tbody tr th {\n",
       "        vertical-align: top;\n",
       "    }\n",
       "\n",
       "    .dataframe thead th {\n",
       "        text-align: right;\n",
       "    }\n",
       "</style>\n",
       "<table border=\"1\" class=\"dataframe\">\n",
       "  <thead>\n",
       "    <tr style=\"text-align: right;\">\n",
       "      <th></th>\n",
       "      <th>uid</th>\n",
       "      <th>churn</th>\n",
       "    </tr>\n",
       "  </thead>\n",
       "  <tbody>\n",
       "    <tr>\n",
       "      <th>0</th>\n",
       "      <td>u107120</td>\n",
       "      <td>0</td>\n",
       "    </tr>\n",
       "    <tr>\n",
       "      <th>1</th>\n",
       "      <td>u102277</td>\n",
       "      <td>0</td>\n",
       "    </tr>\n",
       "    <tr>\n",
       "      <th>2</th>\n",
       "      <td>u102444</td>\n",
       "      <td>0</td>\n",
       "    </tr>\n",
       "  </tbody>\n",
       "</table>\n",
       "</div>"
      ],
      "text/plain": [
       "       uid  churn\n",
       "0  u107120      0\n",
       "1  u102277      0\n",
       "2  u102444      0"
      ]
     },
     "execution_count": 100,
     "metadata": {},
     "output_type": "execute_result"
    }
   ],
   "source": [
    "target = pd.read_csv(\"users_churn.csv\")\n",
    "target.head(3)"
   ]
  },
  {
   "cell_type": "code",
   "execution_count": 101,
   "id": "c60bf182-615c-4251-af98-47a38376c1fa",
   "metadata": {},
   "outputs": [],
   "source": [
    "X = pd.merge(user_embeddings, target, 'left')"
   ]
  },
  {
   "cell_type": "code",
   "execution_count": 102,
   "id": "46e706e8-89cc-41a6-93dc-39d816674c1d",
   "metadata": {},
   "outputs": [],
   "source": [
    "# разделим данные на train/test\n",
    "X_train, X_test, y_train, y_test = train_test_split(X[[f'topic_{i}' for i in range(N_topic)]], \n",
    "                                                    X['churn'], random_state=0)\n"
   ]
  },
  {
   "cell_type": "code",
   "execution_count": 103,
   "id": "4d942c70-df22-405e-bade-2e4bd4d5847f",
   "metadata": {},
   "outputs": [
    {
     "data": {
      "text/plain": [
       "LogisticRegression()"
      ]
     },
     "execution_count": 103,
     "metadata": {},
     "output_type": "execute_result"
    }
   ],
   "source": [
    "logreg = LogisticRegression()\n",
    "# обучим \n",
    "logreg.fit(X_train, y_train)"
   ]
  },
  {
   "cell_type": "code",
   "execution_count": 104,
   "id": "0ab8591f-1fb4-487a-bf21-fecc8a562c5d",
   "metadata": {},
   "outputs": [
    {
     "data": {
      "text/plain": [
       "array([0.12329622, 0.0022529 , 0.83138388, 0.18026469, 0.01341148,\n",
       "       0.00091646, 0.05228388, 0.03036213, 0.0120015 , 0.11802075])"
      ]
     },
     "execution_count": 104,
     "metadata": {},
     "output_type": "execute_result"
    }
   ],
   "source": [
    "preds = logreg.predict_proba(X_test)[:, 1]\n",
    "preds[:10]"
   ]
  },
  {
   "cell_type": "code",
   "execution_count": 105,
   "id": "91f8fdf6-a659-4532-bd5d-aed177732617",
   "metadata": {},
   "outputs": [
    {
     "data": {
      "image/png": "[encoded data removed]",
      "text/plain": [
       "<Figure size 720x432 with 1 Axes>"
      ]
     },
     "metadata": {
      "needs_background": "light"
     },
     "output_type": "display_data"
    }
   ],
   "source": [
    "n = 50\n",
    "plt.figure(figsize=(10, 6))\n",
    "plt.plot(preds[:n], label='predict')\n",
    "plt.plot(y_test.values[:n], label='true')\n",
    "plt.title('ответ модели')\n",
    "plt.xlabel('№ примера')\n",
    "plt.ylabel('выход')\n",
    "plt.legend()\n",
    "plt.grid('On')\n",
    "plt.show()"
   ]
  },
  {
   "cell_type": "code",
   "execution_count": 106,
   "id": "98053215-a399-45bc-bd14-d8051c0b5c9e",
   "metadata": {},
   "outputs": [
    {
     "name": "stdout",
     "output_type": "stream",
     "text": [
      "Best Threshold=0.3642523632501589, F-Score=0.910, Precision=0.935, Recall=0.886\n"
     ]
    }
   ],
   "source": [
    "precision, recall, thresholds = precision_recall_curve(y_test, preds)\n",
    "fscore = (2 * precision * recall) / (precision + recall)\n",
    "# locate the index of the largest f score\n",
    "ix = np.argmax(fscore)\n",
    "print(f'Best Threshold={thresholds[ix]}, F-Score={fscore[ix]:.3f}, Precision={precision[ix]:.3f}, Recall={recall[ix]:.3f}')                                                                        "
   ]
  },
  {
   "cell_type": "code",
   "execution_count": 107,
   "id": "db0eed79-0664-46e3-99f7-49f46d2edf70",
   "metadata": {},
   "outputs": [],
   "source": [
    "def plot_confusion_matrix(cm, classes,\n",
    "                          normalize=False,\n",
    "                          title='Confusion matrix',\n",
    "                          cmap=plt.cm.Blues):\n",
    "    \"\"\"\n",
    "    This function prints and plots the confusion matrix.\n",
    "    Normalization can be applied by setting `normalize=True`.\n",
    "    \"\"\"\n",
    "    plt.imshow(cm, interpolation='nearest', cmap=cmap)\n",
    "    plt.title(title)\n",
    "    plt.colorbar()\n",
    "    tick_marks = np.arange(len(classes))\n",
    "    plt.xticks(tick_marks, classes, rotation=45)\n",
    "    plt.yticks(tick_marks, classes)\n",
    "\n",
    "    if normalize:\n",
    "        cm = cm.astype('float') / cm.sum(axis=1)[:, np.newaxis]\n",
    "        print(\"Normalized confusion matrix\")\n",
    "    else:\n",
    "        print('Confusion matrix, without normalization')\n",
    "\n",
    "    print(cm)\n",
    "\n",
    "    thresh = cm.max() / 2.\n",
    "    for i, j in itertools.product(range(cm.shape[0]), range(cm.shape[1])):\n",
    "        plt.text(j, i, cm[i, j],\n",
    "                 horizontalalignment=\"center\",\n",
    "                 color=\"white\" if cm[i, j] > thresh else \"black\")\n",
    "\n",
    "    plt.tight_layout()\n",
    "    plt.ylabel('True label')\n",
    "    plt.xlabel('Predicted label')"
   ]
  },
  {
   "cell_type": "code",
   "execution_count": 108,
   "id": "8163ae63-bffc-4da5-a957-eabc726010ac",
   "metadata": {},
   "outputs": [
    {
     "name": "stdout",
     "output_type": "stream",
     "text": [
      "Confusion matrix, without normalization\n",
      "[[1740   15]\n",
      " [  29  216]]\n"
     ]
    },
    {
     "data": {
      "image/png": "[encoded data removed]",
      "text/plain": [
       "<Figure size 720x576 with 2 Axes>"
      ]
     },
     "metadata": {
      "needs_background": "light"
     },
     "output_type": "display_data"
    }
   ],
   "source": [
    "import itertools\n",
    "# мы уже нашли ранее \"оптимальный\" порог, когда максимизировали f_score\n",
    "font = {'size' : 15}\n",
    "\n",
    "plt.rc('font', **font)\n",
    "\n",
    "cnf_matrix = confusion_matrix(y_test, preds > thresholds[ix])\n",
    "\n",
    "plt.figure(figsize=(10, 8))\n",
    "plot_confusion_matrix(cnf_matrix, classes=['Non-Churn', 'churn'],\n",
    "                      title='Confusion matrix')\n",
    "plt.savefig(\"conf_matrix.png\")\n",
    "plt.show()"
   ]
  },
  {
   "cell_type": "code",
   "execution_count": 109,
   "id": "87947461-6cb9-493f-afa5-87b3b8b78a5e",
   "metadata": {},
   "outputs": [
    {
     "data": {
      "text/plain": [
       "0.9939042967614395"
      ]
     },
     "execution_count": 109,
     "metadata": {},
     "output_type": "execute_result"
    }
   ],
   "source": [
    "roc_auc_score(y_test, preds)"
   ]
  },
  {
   "cell_type": "markdown",
   "id": "ff5dd4b6-3607-4b6b-aafd-e066ab2580d7",
   "metadata": {},
   "source": [
    "1) Mean **Best Threshold**=0.24644266448167254, **F-Score**=0.698, **Precision**=0.618, **Recall**=0.800 **ROC-AUC** = 0.9556\n",
    "2) Median **Best Threshold**=0.2601163410529342, **F-Score**=0.726, **Precision**=0.672, **Recall**=0.788 **ROC-AUC** = 0.9639\n",
    "3) Max **Best Threshold**=0.33659804956012207, **F-Score**=0.723, **Precision**=0.697, **Recall**=0.751 **ROC-AUC** = 0.9560\n",
    "4) idf mean **Best Threshold**=0.2560487978323971, **F-Score**=0.837, **Precision**=0.858, **Recall**=0.816 **ROC-AUC** = 0.9845\n",
    "5) idf max **Best Threshold**=0.3642523632501589, **F-Score**=0.910, **Precision**=0.935, **Recall**=0.886 **ROC-AUC** = 0.9939"
   ]
  },
  {
   "cell_type": "markdown",
   "id": "16a471e6-33d1-4d98-a60d-aea882f25fa4",
   "metadata": {},
   "source": [
    "Вывод: самая точная классификация происходит при взятии весов idf, умножении их на lda и максимизации по статьям. Этот метод оказался эффективнее, так как мы считали idf из-за чего важность некоторых статьей стала больше/меньше."
   ]
  },
  {
   "cell_type": "code",
   "execution_count": null,
   "id": "72262977-26c8-4156-bfeb-23cda9c77720",
   "metadata": {},
   "outputs": [],
   "source": []
  }
 ],
 "metadata": {
  "kernelspec": {
   "display_name": "Python 3",
   "language": "python",
   "name": "python3"
  },
  "language_info": {
   "codemirror_mode": {
    "name": "ipython",
    "version": 3
   },
   "file_extension": ".py",
   "mimetype": "text/x-python",
   "name": "python",
   "nbconvert_exporter": "python",
   "pygments_lexer": "ipython3",
   "version": "3.8.8"
  }
 },
 "nbformat": 4,
 "nbformat_minor": 5
}

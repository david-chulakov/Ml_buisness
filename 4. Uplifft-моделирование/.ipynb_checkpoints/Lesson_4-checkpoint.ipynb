{
  "cells": [
    {
      "cell_type": "markdown",
      "metadata": {
        "id": "E9i1JUt0Fi1J"
      },
      "source": [
        "### Задача uplift-моделирования"
      ]
    },
    {
      "cell_type": "markdown",
      "metadata": {
        "id": "XXJlb6vFFi1Q"
      },
      "source": [
        "### План занятия\n",
        "\n",
        "* Введение: коммуникация с пользователями\n",
        "* Дизайн эксперимента\n",
        "* Типы клиентов\n",
        "* Одна модель с дополнительным признаком\n",
        "* Вариант с двумя независимыми моделями\n",
        "* Вариант с двумя зависимыми моделями\n",
        "* Прямой расчет uplift: \"деревянные\" модели\n",
        "* Ссылки"
      ]
    },
    {
      "cell_type": "markdown",
      "metadata": {
        "id": "2zi9y5lhFi1U"
      },
      "source": [
        "### Введение\n",
        "\n",
        "Часто возникает необходимость коммуникации с пользователями для продвижения сервисов и услуг.\n",
        "\n",
        "<img src='https://avatars.mds.yandex.net/i?id=bf0b9e21a2326060b9352c89002ff5ac-5877671-images-thumbs&n=13&exp=1'>\n",
        "\n",
        "Коммуникация осуществляется с помощью различных каналов: смс, звонки, push-уведомления, сообщения в чатботе и т.д\n",
        "\n",
        "Например, мы хотим отправить push-уведомление игрокам в мобильной игре о том, что у них заполнились склады или об ином внутриигровом событии. Либо даже хотим отправить уведомление о наступающем внутриигровом эвенте (которые очень важны для активных игроков и для монетизации и развития игры в целом)."
      ]
    },
    {
      "cell_type": "markdown",
      "metadata": {
        "id": "MrWaRyQ_Fi1Y"
      },
      "source": [
        "Другой пример:\n",
        "\n",
        "Мы хотим прорекламировать популярный продукт, но при этом не хотим тратить бюджет на коммуникацию с пользователями, которые и без нас его купят. "
      ]
    },
    {
      "cell_type": "markdown",
      "metadata": {
        "id": "3dVXnWbYFi1u"
      },
      "source": [
        "#### Типы пользователей по реакции на коммуникацию"
      ]
    },
    {
      "cell_type": "markdown",
      "metadata": {
        "id": "KsRCFb8CFi1w"
      },
      "source": [
        "<img src='https://drive.google.com/uc?export=view&id=1ClmgUARlS_jJUpRLwmaNF24iFj6B2vqz' width=700>"
      ]
    },
    {
      "cell_type": "markdown",
      "metadata": {
        "id": "JLcJQYzAFi1x"
      },
      "source": [
        "1. \"Лояльные\" - Пользователи, которые совершат нужное действие независимо от коммуникации\n",
        "2. \"Убеждаемые\" - Те, кто совершат действие, если будет коммуникация\n",
        "3. \"Потерянные\" - Те, кто не совершит действие независимо от коммуникации\n",
        "4. \"Не беспокоить\" - Не совершат действие, если коммуникация будет"
      ]
    },
    {
      "cell_type": "markdown",
      "metadata": {
        "id": "HO6hBOULFi1x"
      },
      "source": [
        "Для оптимизации эффекта от воздействия хочется посчитать разницу реакций пользователя при наличии коммуникации и при ее отсутствии. \n",
        "\n",
        "Проблема в том, что мы не можем одновременно совершить коммуникацию и не совершить коммуникацию."
      ]
    },
    {
      "cell_type": "markdown",
      "metadata": {
        "id": "Nt1qJdOAFi1z"
      },
      "source": [
        "<img src='https://drive.google.com/uc?export=view&id=1e1axM0aFq71SirVwtJhu1f3pjyHZ3u7K' width=400>"
      ]
    },
    {
      "cell_type": "markdown",
      "metadata": {
        "id": "aNENysZNFi10"
      },
      "source": [
        "Что же делать?"
      ]
    },
    {
      "cell_type": "markdown",
      "metadata": {
        "id": "fXyZ9cUPFi12"
      },
      "source": [
        "Необходимо оценить разницу между двумя событиями, которые являются взаимоисключающими для конкретного пользователя.\n",
        "\n",
        "Для этого нам нужна обучающая выборка. А для нее нужно просто провести эксперимент. \n",
        "\n",
        "1. Берем часть базы пользователей и разбиваем на 2 группы: контрольную и экспериментальную\n",
        "2. На экспериментальной группе запускаем маркетинговую кампанию (совершаем коммуникацию)\n",
        "3. Через какое-то время у нас есть результаты совершения нужного действия клиентами в обеих группах (включая контрольную)\n",
        "4. Проводим uplift-моделирование"
      ]
    },
    {
      "cell_type": "markdown",
      "metadata": {
        "id": "hmgBAmI5Fi13"
      },
      "source": [
        "<img src='https://drive.google.com/uc?export=view&id=1GRONjFrhYfzasGnC5FTNwWon4Rdtol36'>\n",
        "\n",
        "$P(Y=1|W=0)$ - Условная вероятность, что выполнена цель без коммуникации (1 - если действие совершено, 0 - если не совершено)<br>\n",
        "$P(Y=1|W=1)$ - Условная вероятность, что выполнена цель при коммуникации (1 - если действие совершено, 0 - если не совершено)"
      ]
    },
    {
      "cell_type": "markdown",
      "metadata": {
        "id": "u6iDq_OiFi15"
      },
      "source": [
        "<img src='https://drive.google.com/uc?export=view&id=1wY6NZGbdrEkiWozOGHZV2G7r83wk-G4T'>"
      ]
    },
    {
      "cell_type": "markdown",
      "metadata": {
        "id": "wGbJdXdqFi17"
      },
      "source": [
        "*взято из https://habr.com/ru/company/ru_mts/blog/485980/"
      ]
    },
    {
      "cell_type": "markdown",
      "metadata": {
        "id": "rd7ubSK4Fi18"
      },
      "source": [
        "### Пример модели с дополнительным признаком"
      ]
    },
    {
      "cell_type": "markdown",
      "metadata": {
        "id": "017Oygk_Fi19"
      },
      "source": [
        "Другие названия: Treatment Dummy approach, Solo model approach, Single model approach, S-Learner "
      ]
    },
    {
      "cell_type": "markdown",
      "metadata": {
        "id": "_Dt7dnTAFi1_"
      },
      "source": [
        "$W_i$ - информация о коммуникации<br>\n",
        "$y_i$ - целевое действие\n",
        "\n",
        "<img src='https://drive.google.com/uc?Export=view&id=1wOjm_cgfj_zp-3ruUopq1zO0Ih8-m1N2' width=700>\n",
        "\n",
        "\n",
        "Модель одна, но с разными значениями признака $W_i$.\n",
        "\n",
        "Но в целом признак $W_i$ некая фикция, потому что не может быть такого клиента, с которым мы и говорили и не говорили одновременно."
      ]
    },
    {
      "cell_type": "code",
      "source": [
        "proba w/ communication - proba w/o communication\n",
        "\n",
        "0 - 1 = -1 - звонить не нужно\n",
        "1 - 0 = 1 - точно звонить"
      ],
      "metadata": {
        "id": "uCEnY_gPEY2L"
      },
      "execution_count": null,
      "outputs": []
    },
    {
      "cell_type": "markdown",
      "metadata": {
        "id": "bQPFhXWNFi2A"
      },
      "source": [
        "### Две независимые модели"
      ]
    },
    {
      "cell_type": "markdown",
      "metadata": {
        "id": "wUIfOSYlFi2B"
      },
      "source": [
        "Другие названия: Two models approach, T-learner, difference two models"
      ]
    },
    {
      "cell_type": "markdown",
      "metadata": {
        "id": "0gaLYyHCFi2C"
      },
      "source": [
        "Интуитивно понятный и простой метод - моделируем 2 условные вероятности\n",
        "\n",
        "1. обучаем модель прогноза вероятности совершения целевого действия для экспериментальной группы (была коммуникация)\n",
        "2. обучаем модель прогноза вероятности совершения целевого действия для контрольной группы (не было коммуникации)\n",
        "3. на прогнозе - делаем прогноз для тестовых пользователей двумя моделями и вычитаем из прогноза второй модели прогноз первой"
      ]
    },
    {
      "cell_type": "markdown",
      "metadata": {
        "id": "FU6lEh8JFi2C"
      },
      "source": [
        "<img src='https://drive.google.com/uc?export=view&id=1Yiaw17DkGosB0BJ12BgfkzfWOAjaCY2H' width=700>\n",
        "\n",
        "\n",
        "Модели получаются независимыми, а значит нет четкого совмещения вероятностей первой модели со второй.\n",
        "И хорошо бы перед тем, как вычитать вероятности, как-то откалибровать модели. \n",
        "\n",
        "Можно, к примеру, для обучения одной модели использовать знание о решении первой модели, то есть получаются уже перекрестные модели.\n",
        "\n",
        "\n",
        "<img src=\"https://raw.githubusercontent.com/maks-sh/scikit-uplift/master/docs/_static/images/TwoModels_ddr_control.png\" width=600>"
      ]
    },
    {
      "cell_type": "markdown",
      "source": [
        "<img src='https://derrickmartins.files.wordpress.com/2015/09/uplift.png'>"
      ],
      "metadata": {
        "id": "tghISGKkVIij"
      }
    },
    {
      "cell_type": "markdown",
      "metadata": {
        "id": "yxcZdADlFi2H"
      },
      "source": [
        "# Практический пример с соревнования X5 \n",
        "\n",
        "http://retailhero.ai/#rec141268104"
      ]
    },
    {
      "cell_type": "markdown",
      "metadata": {
        "id": "0hrO_w-nFi2I"
      },
      "source": [
        "Импортируем нужные библиотеки и предобработаем данные:"
      ]
    },
    {
      "cell_type": "code",
      "source": [
        "!pip install scikit-uplift catboost"
      ],
      "metadata": {
        "colab": {
          "base_uri": "https://localhost:8080/"
        },
        "id": "BO8pgYOIWqnx",
        "outputId": "7f6463be-2ca1-401f-80e2-327b9917be1e"
      },
      "execution_count": null,
      "outputs": [
        {
          "output_type": "stream",
          "name": "stdout",
          "text": [
            "Looking in indexes: https://pypi.org/simple, https://us-python.pkg.dev/colab-wheels/public/simple/\n",
            "Collecting scikit-uplift\n",
            "  Downloading scikit_uplift-0.4.0-py3-none-any.whl (38 kB)\n",
            "Collecting catboost\n",
            "  Downloading catboost-1.0.6-cp37-none-manylinux1_x86_64.whl (76.6 MB)\n",
            "\u001b[K     |████████████████████████████████| 76.6 MB 1.2 MB/s \n",
            "\u001b[?25hRequirement already satisfied: requests in /usr/local/lib/python3.7/dist-packages (from scikit-uplift) (2.23.0)\n",
            "Requirement already satisfied: scikit-learn>=0.21.0 in /usr/local/lib/python3.7/dist-packages (from scikit-uplift) (1.0.2)\n",
            "Requirement already satisfied: matplotlib in /usr/local/lib/python3.7/dist-packages (from scikit-uplift) (3.2.2)\n",
            "Requirement already satisfied: numpy>=1.16 in /usr/local/lib/python3.7/dist-packages (from scikit-uplift) (1.21.6)\n",
            "Requirement already satisfied: tqdm in /usr/local/lib/python3.7/dist-packages (from scikit-uplift) (4.64.0)\n",
            "Requirement already satisfied: pandas in /usr/local/lib/python3.7/dist-packages (from scikit-uplift) (1.3.5)\n",
            "Requirement already satisfied: threadpoolctl>=2.0.0 in /usr/local/lib/python3.7/dist-packages (from scikit-learn>=0.21.0->scikit-uplift) (3.1.0)\n",
            "Requirement already satisfied: joblib>=0.11 in /usr/local/lib/python3.7/dist-packages (from scikit-learn>=0.21.0->scikit-uplift) (1.1.0)\n",
            "Requirement already satisfied: scipy>=1.1.0 in /usr/local/lib/python3.7/dist-packages (from scikit-learn>=0.21.0->scikit-uplift) (1.4.1)\n",
            "Requirement already satisfied: plotly in /usr/local/lib/python3.7/dist-packages (from catboost) (5.5.0)\n",
            "Requirement already satisfied: graphviz in /usr/local/lib/python3.7/dist-packages (from catboost) (0.10.1)\n",
            "Requirement already satisfied: six in /usr/local/lib/python3.7/dist-packages (from catboost) (1.15.0)\n",
            "Requirement already satisfied: pytz>=2017.3 in /usr/local/lib/python3.7/dist-packages (from pandas->scikit-uplift) (2022.1)\n",
            "Requirement already satisfied: python-dateutil>=2.7.3 in /usr/local/lib/python3.7/dist-packages (from pandas->scikit-uplift) (2.8.2)\n",
            "Requirement already satisfied: cycler>=0.10 in /usr/local/lib/python3.7/dist-packages (from matplotlib->scikit-uplift) (0.11.0)\n",
            "Requirement already satisfied: pyparsing!=2.0.4,!=2.1.2,!=2.1.6,>=2.0.1 in /usr/local/lib/python3.7/dist-packages (from matplotlib->scikit-uplift) (3.0.9)\n",
            "Requirement already satisfied: kiwisolver>=1.0.1 in /usr/local/lib/python3.7/dist-packages (from matplotlib->scikit-uplift) (1.4.2)\n",
            "Requirement already satisfied: typing-extensions in /usr/local/lib/python3.7/dist-packages (from kiwisolver>=1.0.1->matplotlib->scikit-uplift) (4.2.0)\n",
            "Requirement already satisfied: tenacity>=6.2.0 in /usr/local/lib/python3.7/dist-packages (from plotly->catboost) (8.0.1)\n",
            "Requirement already satisfied: chardet<4,>=3.0.2 in /usr/local/lib/python3.7/dist-packages (from requests->scikit-uplift) (3.0.4)\n",
            "Requirement already satisfied: urllib3!=1.25.0,!=1.25.1,<1.26,>=1.21.1 in /usr/local/lib/python3.7/dist-packages (from requests->scikit-uplift) (1.24.3)\n",
            "Requirement already satisfied: certifi>=2017.4.17 in /usr/local/lib/python3.7/dist-packages (from requests->scikit-uplift) (2022.5.18.1)\n",
            "Requirement already satisfied: idna<3,>=2.5 in /usr/local/lib/python3.7/dist-packages (from requests->scikit-uplift) (2.10)\n",
            "Installing collected packages: scikit-uplift, catboost\n",
            "Successfully installed catboost-1.0.6 scikit-uplift-0.4.0\n"
          ]
        }
      ]
    },
    {
      "cell_type": "markdown",
      "source": [
        "Данные лежат на гугл диске: https://drive.google.com/file/d/1wdytBkoYRyaNNv3XUNnwcGbdNUSfok7u/"
      ],
      "metadata": {
        "id": "b6vLBvpGQH6x"
      }
    },
    {
      "cell_type": "code",
      "source": [
        "!wget 'https://drive.google.com/uc?export=download&id=1wdytBkoYRyaNNv3XUNnwcGbdNUSfok7u' -O uplift_data.zip"
      ],
      "metadata": {
        "colab": {
          "base_uri": "https://localhost:8080/"
        },
        "id": "PZbhuvp0HmBS",
        "outputId": "a6d73e98-e176-4391-d158-9818f1436853"
      },
      "execution_count": null,
      "outputs": [
        {
          "output_type": "stream",
          "name": "stdout",
          "text": [
            "--2022-05-24 16:27:42--  https://drive.google.com/uc?export=download&id=1wdytBkoYRyaNNv3XUNnwcGbdNUSfok7u\n",
            "Resolving drive.google.com (drive.google.com)... 74.125.137.138, 74.125.137.139, 74.125.137.102, ...\n",
            "Connecting to drive.google.com (drive.google.com)|74.125.137.138|:443... connected.\n",
            "HTTP request sent, awaiting response... 303 See Other\n",
            "Location: https://doc-0c-c0-docs.googleusercontent.com/docs/securesc/ha0ro937gcuc7l7deffksulhg5h7mbp1/qmd4g77gv4c9pqjb89l24vq8gu4ipoji/1653409650000/14904333240138417226/*/1wdytBkoYRyaNNv3XUNnwcGbdNUSfok7u?e=download [following]\n",
            "Warning: wildcards not supported in HTTP.\n",
            "--2022-05-24 16:27:45--  https://doc-0c-c0-docs.googleusercontent.com/docs/securesc/ha0ro937gcuc7l7deffksulhg5h7mbp1/qmd4g77gv4c9pqjb89l24vq8gu4ipoji/1653409650000/14904333240138417226/*/1wdytBkoYRyaNNv3XUNnwcGbdNUSfok7u?e=download\n",
            "Resolving doc-0c-c0-docs.googleusercontent.com (doc-0c-c0-docs.googleusercontent.com)... 142.250.101.132, 2607:f8b0:4023:c06::84\n",
            "Connecting to doc-0c-c0-docs.googleusercontent.com (doc-0c-c0-docs.googleusercontent.com)|142.250.101.132|:443... connected.\n",
            "HTTP request sent, awaiting response... 200 OK\n",
            "Length: 8886971 (8.5M) [application/zip]\n",
            "Saving to: ‘uplift_data.zip’\n",
            "\n",
            "uplift_data.zip     100%[===================>]   8.47M  43.2MB/s    in 0.2s    \n",
            "\n",
            "2022-05-24 16:27:46 (43.2 MB/s) - ‘uplift_data.zip’ saved [8886971/8886971]\n",
            "\n"
          ]
        }
      ]
    },
    {
      "cell_type": "code",
      "source": [
        "!unzip uplift_data.zip"
      ],
      "metadata": {
        "colab": {
          "base_uri": "https://localhost:8080/"
        },
        "id": "ibppgnjrHsid",
        "outputId": "aafbff6a-a45d-420d-fe85-525b5b3eff9d"
      },
      "execution_count": null,
      "outputs": [
        {
          "output_type": "stream",
          "name": "stdout",
          "text": [
            "Archive:  uplift_data.zip\n",
            "  inflating: clients.csv             \n",
            "  inflating: uplift_test.csv         \n",
            "  inflating: uplift_train.csv        \n"
          ]
        }
      ]
    },
    {
      "cell_type": "code",
      "execution_count": null,
      "metadata": {
        "id": "5CLQ1uEoFi2J"
      },
      "outputs": [],
      "source": [
        "import pandas as pd; pd.set_option('display.max_columns', None)\n",
        "from sklearn.model_selection import train_test_split\n",
        "\n",
        "\n",
        "# Чтение данных\n",
        "df_clients = pd.read_csv('clients.csv', index_col='client_id')\n",
        "df_train = pd.read_csv('uplift_train.csv', index_col='client_id')\n",
        "df_test = pd.read_csv('uplift_test.csv', index_col='client_id')"
      ]
    },
    {
      "cell_type": "code",
      "execution_count": null,
      "metadata": {
        "scrolled": true,
        "colab": {
          "base_uri": "https://localhost:8080/",
          "height": 455
        },
        "id": "Z96eiqXGFi2L",
        "outputId": "45b16e1f-7258-4938-9732-af9dfeeea681"
      },
      "outputs": [
        {
          "output_type": "execute_result",
          "data": {
            "text/plain": [
              "               first_issue_date    first_redeem_date  age gender\n",
              "client_id                                                       \n",
              "000012768d  2017-08-05 15:40:48  2018-01-04 19:30:07   45      U\n",
              "000036f903  2017-04-10 13:54:23  2017-04-23 12:37:56   72      F\n",
              "000048b7a6  2018-12-15 13:33:11                  NaN   68      F\n",
              "000073194a  2017-05-23 12:56:14  2017-11-24 11:18:01   60      F\n",
              "00007c7133  2017-05-22 16:17:08  2018-12-31 17:17:33   67      U\n",
              "...                         ...                  ...  ...    ...\n",
              "fffece623e  2018-05-13 15:09:30  2018-12-27 19:06:39   67      U\n",
              "ffff3dfff8  2018-11-01 16:06:52  2018-12-07 17:33:47   56      F\n",
              "ffffaab9da  2017-08-25 18:43:24  2017-12-08 17:53:19   23      F\n",
              "ffffeb5619  2017-12-05 13:26:28                  NaN   62      U\n",
              "fffff6ce77  2017-08-03 20:25:12  2017-08-26 16:41:41   42      U\n",
              "\n",
              "[400162 rows x 4 columns]"
            ],
            "text/html": [
              "\n",
              "  <div id=\"df-4cf89234-8689-40e9-a529-6bc1a2589f6f\">\n",
              "    <div class=\"colab-df-container\">\n",
              "      <div>\n",
              "<style scoped>\n",
              "    .dataframe tbody tr th:only-of-type {\n",
              "        vertical-align: middle;\n",
              "    }\n",
              "\n",
              "    .dataframe tbody tr th {\n",
              "        vertical-align: top;\n",
              "    }\n",
              "\n",
              "    .dataframe thead th {\n",
              "        text-align: right;\n",
              "    }\n",
              "</style>\n",
              "<table border=\"1\" class=\"dataframe\">\n",
              "  <thead>\n",
              "    <tr style=\"text-align: right;\">\n",
              "      <th></th>\n",
              "      <th>first_issue_date</th>\n",
              "      <th>first_redeem_date</th>\n",
              "      <th>age</th>\n",
              "      <th>gender</th>\n",
              "    </tr>\n",
              "    <tr>\n",
              "      <th>client_id</th>\n",
              "      <th></th>\n",
              "      <th></th>\n",
              "      <th></th>\n",
              "      <th></th>\n",
              "    </tr>\n",
              "  </thead>\n",
              "  <tbody>\n",
              "    <tr>\n",
              "      <th>000012768d</th>\n",
              "      <td>2017-08-05 15:40:48</td>\n",
              "      <td>2018-01-04 19:30:07</td>\n",
              "      <td>45</td>\n",
              "      <td>U</td>\n",
              "    </tr>\n",
              "    <tr>\n",
              "      <th>000036f903</th>\n",
              "      <td>2017-04-10 13:54:23</td>\n",
              "      <td>2017-04-23 12:37:56</td>\n",
              "      <td>72</td>\n",
              "      <td>F</td>\n",
              "    </tr>\n",
              "    <tr>\n",
              "      <th>000048b7a6</th>\n",
              "      <td>2018-12-15 13:33:11</td>\n",
              "      <td>NaN</td>\n",
              "      <td>68</td>\n",
              "      <td>F</td>\n",
              "    </tr>\n",
              "    <tr>\n",
              "      <th>000073194a</th>\n",
              "      <td>2017-05-23 12:56:14</td>\n",
              "      <td>2017-11-24 11:18:01</td>\n",
              "      <td>60</td>\n",
              "      <td>F</td>\n",
              "    </tr>\n",
              "    <tr>\n",
              "      <th>00007c7133</th>\n",
              "      <td>2017-05-22 16:17:08</td>\n",
              "      <td>2018-12-31 17:17:33</td>\n",
              "      <td>67</td>\n",
              "      <td>U</td>\n",
              "    </tr>\n",
              "    <tr>\n",
              "      <th>...</th>\n",
              "      <td>...</td>\n",
              "      <td>...</td>\n",
              "      <td>...</td>\n",
              "      <td>...</td>\n",
              "    </tr>\n",
              "    <tr>\n",
              "      <th>fffece623e</th>\n",
              "      <td>2018-05-13 15:09:30</td>\n",
              "      <td>2018-12-27 19:06:39</td>\n",
              "      <td>67</td>\n",
              "      <td>U</td>\n",
              "    </tr>\n",
              "    <tr>\n",
              "      <th>ffff3dfff8</th>\n",
              "      <td>2018-11-01 16:06:52</td>\n",
              "      <td>2018-12-07 17:33:47</td>\n",
              "      <td>56</td>\n",
              "      <td>F</td>\n",
              "    </tr>\n",
              "    <tr>\n",
              "      <th>ffffaab9da</th>\n",
              "      <td>2017-08-25 18:43:24</td>\n",
              "      <td>2017-12-08 17:53:19</td>\n",
              "      <td>23</td>\n",
              "      <td>F</td>\n",
              "    </tr>\n",
              "    <tr>\n",
              "      <th>ffffeb5619</th>\n",
              "      <td>2017-12-05 13:26:28</td>\n",
              "      <td>NaN</td>\n",
              "      <td>62</td>\n",
              "      <td>U</td>\n",
              "    </tr>\n",
              "    <tr>\n",
              "      <th>fffff6ce77</th>\n",
              "      <td>2017-08-03 20:25:12</td>\n",
              "      <td>2017-08-26 16:41:41</td>\n",
              "      <td>42</td>\n",
              "      <td>U</td>\n",
              "    </tr>\n",
              "  </tbody>\n",
              "</table>\n",
              "<p>400162 rows × 4 columns</p>\n",
              "</div>\n",
              "      <button class=\"colab-df-convert\" onclick=\"convertToInteractive('df-4cf89234-8689-40e9-a529-6bc1a2589f6f')\"\n",
              "              title=\"Convert this dataframe to an interactive table.\"\n",
              "              style=\"display:none;\">\n",
              "        \n",
              "  <svg xmlns=\"http://www.w3.org/2000/svg\" height=\"24px\"viewBox=\"0 0 24 24\"\n",
              "       width=\"24px\">\n",
              "    <path d=\"M0 0h24v24H0V0z\" fill=\"none\"/>\n",
              "    <path d=\"M18.56 5.44l.94 2.06.94-2.06 2.06-.94-2.06-.94-.94-2.06-.94 2.06-2.06.94zm-11 1L8.5 8.5l.94-2.06 2.06-.94-2.06-.94L8.5 2.5l-.94 2.06-2.06.94zm10 10l.94 2.06.94-2.06 2.06-.94-2.06-.94-.94-2.06-.94 2.06-2.06.94z\"/><path d=\"M17.41 7.96l-1.37-1.37c-.4-.4-.92-.59-1.43-.59-.52 0-1.04.2-1.43.59L10.3 9.45l-7.72 7.72c-.78.78-.78 2.05 0 2.83L4 21.41c.39.39.9.59 1.41.59.51 0 1.02-.2 1.41-.59l7.78-7.78 2.81-2.81c.8-.78.8-2.07 0-2.86zM5.41 20L4 18.59l7.72-7.72 1.47 1.35L5.41 20z\"/>\n",
              "  </svg>\n",
              "      </button>\n",
              "      \n",
              "  <style>\n",
              "    .colab-df-container {\n",
              "      display:flex;\n",
              "      flex-wrap:wrap;\n",
              "      gap: 12px;\n",
              "    }\n",
              "\n",
              "    .colab-df-convert {\n",
              "      background-color: #E8F0FE;\n",
              "      border: none;\n",
              "      border-radius: 50%;\n",
              "      cursor: pointer;\n",
              "      display: none;\n",
              "      fill: #1967D2;\n",
              "      height: 32px;\n",
              "      padding: 0 0 0 0;\n",
              "      width: 32px;\n",
              "    }\n",
              "\n",
              "    .colab-df-convert:hover {\n",
              "      background-color: #E2EBFA;\n",
              "      box-shadow: 0px 1px 2px rgba(60, 64, 67, 0.3), 0px 1px 3px 1px rgba(60, 64, 67, 0.15);\n",
              "      fill: #174EA6;\n",
              "    }\n",
              "\n",
              "    [theme=dark] .colab-df-convert {\n",
              "      background-color: #3B4455;\n",
              "      fill: #D2E3FC;\n",
              "    }\n",
              "\n",
              "    [theme=dark] .colab-df-convert:hover {\n",
              "      background-color: #434B5C;\n",
              "      box-shadow: 0px 1px 3px 1px rgba(0, 0, 0, 0.15);\n",
              "      filter: drop-shadow(0px 1px 2px rgba(0, 0, 0, 0.3));\n",
              "      fill: #FFFFFF;\n",
              "    }\n",
              "  </style>\n",
              "\n",
              "      <script>\n",
              "        const buttonEl =\n",
              "          document.querySelector('#df-4cf89234-8689-40e9-a529-6bc1a2589f6f button.colab-df-convert');\n",
              "        buttonEl.style.display =\n",
              "          google.colab.kernel.accessAllowed ? 'block' : 'none';\n",
              "\n",
              "        async function convertToInteractive(key) {\n",
              "          const element = document.querySelector('#df-4cf89234-8689-40e9-a529-6bc1a2589f6f');\n",
              "          const dataTable =\n",
              "            await google.colab.kernel.invokeFunction('convertToInteractive',\n",
              "                                                     [key], {});\n",
              "          if (!dataTable) return;\n",
              "\n",
              "          const docLinkHtml = 'Like what you see? Visit the ' +\n",
              "            '<a target=\"_blank\" href=https://colab.research.google.com/notebooks/data_table.ipynb>data table notebook</a>'\n",
              "            + ' to learn more about interactive tables.';\n",
              "          element.innerHTML = '';\n",
              "          dataTable['output_type'] = 'display_data';\n",
              "          await google.colab.output.renderOutput(dataTable, element);\n",
              "          const docLink = document.createElement('div');\n",
              "          docLink.innerHTML = docLinkHtml;\n",
              "          element.appendChild(docLink);\n",
              "        }\n",
              "      </script>\n",
              "    </div>\n",
              "  </div>\n",
              "  "
            ]
          },
          "metadata": {},
          "execution_count": 5
        }
      ],
      "source": [
        "df_clients"
      ]
    },
    {
      "cell_type": "code",
      "source": [
        "# Извлечение признаков\n",
        "df_features = df_clients.copy()\n",
        "df_features['first_issue_time'] = \\\n",
        "        (pd.to_datetime(df_features['first_issue_date']) - pd.Timestamp('1970-01-01')) \\\n",
        "         // pd.Timedelta('1s')\n",
        "\n",
        "df_features['first_redeem_time'] = \\\n",
        "        (pd.to_datetime(df_features['first_redeem_date']) - pd.Timestamp('1970-01-01')) \\\n",
        "        // pd.Timedelta('1s')\n",
        "\n",
        "df_features['issue_redeem_delay'] = df_features['first_redeem_time'] \\\n",
        "                                    - df_features['first_issue_time']\n",
        "\n",
        "df_features = df_features.drop(['first_issue_date', 'first_redeem_date'], axis=1)\n",
        "df_features.fillna(0, inplace=True)\n",
        "\n",
        "indices_train = df_train.index\n",
        "indices_test = df_test.index\n",
        "indices_learn, indices_valid = train_test_split(indices_train, test_size=0.3, random_state=123)"
      ],
      "metadata": {
        "id": "VH4nXGArFodo"
      },
      "execution_count": null,
      "outputs": []
    },
    {
      "cell_type": "code",
      "source": [
        "df_features.head()"
      ],
      "metadata": {
        "colab": {
          "base_uri": "https://localhost:8080/",
          "height": 238
        },
        "id": "U9ZOZFCZWFK9",
        "outputId": "e034341f-8710-4d2d-e6e4-1a41311dbff7"
      },
      "execution_count": null,
      "outputs": [
        {
          "output_type": "execute_result",
          "data": {
            "text/plain": [
              "            age gender  first_issue_time  first_redeem_time  \\\n",
              "client_id                                                     \n",
              "000012768d   45      U        1501947648       1.515094e+09   \n",
              "000036f903   72      F        1491832463       1.492951e+09   \n",
              "000048b7a6   68      F        1544880791       0.000000e+00   \n",
              "000073194a   60      F        1495544174       1.511522e+09   \n",
              "00007c7133   67      U        1495469828       1.546277e+09   \n",
              "\n",
              "            issue_redeem_delay  \n",
              "client_id                       \n",
              "000012768d          13146559.0  \n",
              "000036f903           1118613.0  \n",
              "000048b7a6                 0.0  \n",
              "000073194a          15978107.0  \n",
              "00007c7133          50806825.0  "
            ],
            "text/html": [
              "\n",
              "  <div id=\"df-cd421ca3-9342-4094-89fe-4e8a8a4f010d\">\n",
              "    <div class=\"colab-df-container\">\n",
              "      <div>\n",
              "<style scoped>\n",
              "    .dataframe tbody tr th:only-of-type {\n",
              "        vertical-align: middle;\n",
              "    }\n",
              "\n",
              "    .dataframe tbody tr th {\n",
              "        vertical-align: top;\n",
              "    }\n",
              "\n",
              "    .dataframe thead th {\n",
              "        text-align: right;\n",
              "    }\n",
              "</style>\n",
              "<table border=\"1\" class=\"dataframe\">\n",
              "  <thead>\n",
              "    <tr style=\"text-align: right;\">\n",
              "      <th></th>\n",
              "      <th>age</th>\n",
              "      <th>gender</th>\n",
              "      <th>first_issue_time</th>\n",
              "      <th>first_redeem_time</th>\n",
              "      <th>issue_redeem_delay</th>\n",
              "    </tr>\n",
              "    <tr>\n",
              "      <th>client_id</th>\n",
              "      <th></th>\n",
              "      <th></th>\n",
              "      <th></th>\n",
              "      <th></th>\n",
              "      <th></th>\n",
              "    </tr>\n",
              "  </thead>\n",
              "  <tbody>\n",
              "    <tr>\n",
              "      <th>000012768d</th>\n",
              "      <td>45</td>\n",
              "      <td>U</td>\n",
              "      <td>1501947648</td>\n",
              "      <td>1.515094e+09</td>\n",
              "      <td>13146559.0</td>\n",
              "    </tr>\n",
              "    <tr>\n",
              "      <th>000036f903</th>\n",
              "      <td>72</td>\n",
              "      <td>F</td>\n",
              "      <td>1491832463</td>\n",
              "      <td>1.492951e+09</td>\n",
              "      <td>1118613.0</td>\n",
              "    </tr>\n",
              "    <tr>\n",
              "      <th>000048b7a6</th>\n",
              "      <td>68</td>\n",
              "      <td>F</td>\n",
              "      <td>1544880791</td>\n",
              "      <td>0.000000e+00</td>\n",
              "      <td>0.0</td>\n",
              "    </tr>\n",
              "    <tr>\n",
              "      <th>000073194a</th>\n",
              "      <td>60</td>\n",
              "      <td>F</td>\n",
              "      <td>1495544174</td>\n",
              "      <td>1.511522e+09</td>\n",
              "      <td>15978107.0</td>\n",
              "    </tr>\n",
              "    <tr>\n",
              "      <th>00007c7133</th>\n",
              "      <td>67</td>\n",
              "      <td>U</td>\n",
              "      <td>1495469828</td>\n",
              "      <td>1.546277e+09</td>\n",
              "      <td>50806825.0</td>\n",
              "    </tr>\n",
              "  </tbody>\n",
              "</table>\n",
              "</div>\n",
              "      <button class=\"colab-df-convert\" onclick=\"convertToInteractive('df-cd421ca3-9342-4094-89fe-4e8a8a4f010d')\"\n",
              "              title=\"Convert this dataframe to an interactive table.\"\n",
              "              style=\"display:none;\">\n",
              "        \n",
              "  <svg xmlns=\"http://www.w3.org/2000/svg\" height=\"24px\"viewBox=\"0 0 24 24\"\n",
              "       width=\"24px\">\n",
              "    <path d=\"M0 0h24v24H0V0z\" fill=\"none\"/>\n",
              "    <path d=\"M18.56 5.44l.94 2.06.94-2.06 2.06-.94-2.06-.94-.94-2.06-.94 2.06-2.06.94zm-11 1L8.5 8.5l.94-2.06 2.06-.94-2.06-.94L8.5 2.5l-.94 2.06-2.06.94zm10 10l.94 2.06.94-2.06 2.06-.94-2.06-.94-.94-2.06-.94 2.06-2.06.94z\"/><path d=\"M17.41 7.96l-1.37-1.37c-.4-.4-.92-.59-1.43-.59-.52 0-1.04.2-1.43.59L10.3 9.45l-7.72 7.72c-.78.78-.78 2.05 0 2.83L4 21.41c.39.39.9.59 1.41.59.51 0 1.02-.2 1.41-.59l7.78-7.78 2.81-2.81c.8-.78.8-2.07 0-2.86zM5.41 20L4 18.59l7.72-7.72 1.47 1.35L5.41 20z\"/>\n",
              "  </svg>\n",
              "      </button>\n",
              "      \n",
              "  <style>\n",
              "    .colab-df-container {\n",
              "      display:flex;\n",
              "      flex-wrap:wrap;\n",
              "      gap: 12px;\n",
              "    }\n",
              "\n",
              "    .colab-df-convert {\n",
              "      background-color: #E8F0FE;\n",
              "      border: none;\n",
              "      border-radius: 50%;\n",
              "      cursor: pointer;\n",
              "      display: none;\n",
              "      fill: #1967D2;\n",
              "      height: 32px;\n",
              "      padding: 0 0 0 0;\n",
              "      width: 32px;\n",
              "    }\n",
              "\n",
              "    .colab-df-convert:hover {\n",
              "      background-color: #E2EBFA;\n",
              "      box-shadow: 0px 1px 2px rgba(60, 64, 67, 0.3), 0px 1px 3px 1px rgba(60, 64, 67, 0.15);\n",
              "      fill: #174EA6;\n",
              "    }\n",
              "\n",
              "    [theme=dark] .colab-df-convert {\n",
              "      background-color: #3B4455;\n",
              "      fill: #D2E3FC;\n",
              "    }\n",
              "\n",
              "    [theme=dark] .colab-df-convert:hover {\n",
              "      background-color: #434B5C;\n",
              "      box-shadow: 0px 1px 3px 1px rgba(0, 0, 0, 0.15);\n",
              "      filter: drop-shadow(0px 1px 2px rgba(0, 0, 0, 0.3));\n",
              "      fill: #FFFFFF;\n",
              "    }\n",
              "  </style>\n",
              "\n",
              "      <script>\n",
              "        const buttonEl =\n",
              "          document.querySelector('#df-cd421ca3-9342-4094-89fe-4e8a8a4f010d button.colab-df-convert');\n",
              "        buttonEl.style.display =\n",
              "          google.colab.kernel.accessAllowed ? 'block' : 'none';\n",
              "\n",
              "        async function convertToInteractive(key) {\n",
              "          const element = document.querySelector('#df-cd421ca3-9342-4094-89fe-4e8a8a4f010d');\n",
              "          const dataTable =\n",
              "            await google.colab.kernel.invokeFunction('convertToInteractive',\n",
              "                                                     [key], {});\n",
              "          if (!dataTable) return;\n",
              "\n",
              "          const docLinkHtml = 'Like what you see? Visit the ' +\n",
              "            '<a target=\"_blank\" href=https://colab.research.google.com/notebooks/data_table.ipynb>data table notebook</a>'\n",
              "            + ' to learn more about interactive tables.';\n",
              "          element.innerHTML = '';\n",
              "          dataTable['output_type'] = 'display_data';\n",
              "          await google.colab.output.renderOutput(dataTable, element);\n",
              "          const docLink = document.createElement('div');\n",
              "          docLink.innerHTML = docLinkHtml;\n",
              "          element.appendChild(docLink);\n",
              "        }\n",
              "      </script>\n",
              "    </div>\n",
              "  </div>\n",
              "  "
            ]
          },
          "metadata": {},
          "execution_count": 7
        }
      ]
    },
    {
      "cell_type": "code",
      "source": [
        "df_train.head()"
      ],
      "metadata": {
        "colab": {
          "base_uri": "https://localhost:8080/",
          "height": 238
        },
        "id": "6FsFgSgBWOWh",
        "outputId": "f4468d11-c2b8-4433-a601-304a57107dba"
      },
      "execution_count": null,
      "outputs": [
        {
          "output_type": "execute_result",
          "data": {
            "text/plain": [
              "            treatment_flg  target\n",
              "client_id                        \n",
              "000012768d              0       1\n",
              "000036f903              1       1\n",
              "00010925a5              1       1\n",
              "0001f552b0              1       1\n",
              "00020e7b18              1       1"
            ],
            "text/html": [
              "\n",
              "  <div id=\"df-1ce34d5a-734b-4321-ba9b-45021745c3bf\">\n",
              "    <div class=\"colab-df-container\">\n",
              "      <div>\n",
              "<style scoped>\n",
              "    .dataframe tbody tr th:only-of-type {\n",
              "        vertical-align: middle;\n",
              "    }\n",
              "\n",
              "    .dataframe tbody tr th {\n",
              "        vertical-align: top;\n",
              "    }\n",
              "\n",
              "    .dataframe thead th {\n",
              "        text-align: right;\n",
              "    }\n",
              "</style>\n",
              "<table border=\"1\" class=\"dataframe\">\n",
              "  <thead>\n",
              "    <tr style=\"text-align: right;\">\n",
              "      <th></th>\n",
              "      <th>treatment_flg</th>\n",
              "      <th>target</th>\n",
              "    </tr>\n",
              "    <tr>\n",
              "      <th>client_id</th>\n",
              "      <th></th>\n",
              "      <th></th>\n",
              "    </tr>\n",
              "  </thead>\n",
              "  <tbody>\n",
              "    <tr>\n",
              "      <th>000012768d</th>\n",
              "      <td>0</td>\n",
              "      <td>1</td>\n",
              "    </tr>\n",
              "    <tr>\n",
              "      <th>000036f903</th>\n",
              "      <td>1</td>\n",
              "      <td>1</td>\n",
              "    </tr>\n",
              "    <tr>\n",
              "      <th>00010925a5</th>\n",
              "      <td>1</td>\n",
              "      <td>1</td>\n",
              "    </tr>\n",
              "    <tr>\n",
              "      <th>0001f552b0</th>\n",
              "      <td>1</td>\n",
              "      <td>1</td>\n",
              "    </tr>\n",
              "    <tr>\n",
              "      <th>00020e7b18</th>\n",
              "      <td>1</td>\n",
              "      <td>1</td>\n",
              "    </tr>\n",
              "  </tbody>\n",
              "</table>\n",
              "</div>\n",
              "      <button class=\"colab-df-convert\" onclick=\"convertToInteractive('df-1ce34d5a-734b-4321-ba9b-45021745c3bf')\"\n",
              "              title=\"Convert this dataframe to an interactive table.\"\n",
              "              style=\"display:none;\">\n",
              "        \n",
              "  <svg xmlns=\"http://www.w3.org/2000/svg\" height=\"24px\"viewBox=\"0 0 24 24\"\n",
              "       width=\"24px\">\n",
              "    <path d=\"M0 0h24v24H0V0z\" fill=\"none\"/>\n",
              "    <path d=\"M18.56 5.44l.94 2.06.94-2.06 2.06-.94-2.06-.94-.94-2.06-.94 2.06-2.06.94zm-11 1L8.5 8.5l.94-2.06 2.06-.94-2.06-.94L8.5 2.5l-.94 2.06-2.06.94zm10 10l.94 2.06.94-2.06 2.06-.94-2.06-.94-.94-2.06-.94 2.06-2.06.94z\"/><path d=\"M17.41 7.96l-1.37-1.37c-.4-.4-.92-.59-1.43-.59-.52 0-1.04.2-1.43.59L10.3 9.45l-7.72 7.72c-.78.78-.78 2.05 0 2.83L4 21.41c.39.39.9.59 1.41.59.51 0 1.02-.2 1.41-.59l7.78-7.78 2.81-2.81c.8-.78.8-2.07 0-2.86zM5.41 20L4 18.59l7.72-7.72 1.47 1.35L5.41 20z\"/>\n",
              "  </svg>\n",
              "      </button>\n",
              "      \n",
              "  <style>\n",
              "    .colab-df-container {\n",
              "      display:flex;\n",
              "      flex-wrap:wrap;\n",
              "      gap: 12px;\n",
              "    }\n",
              "\n",
              "    .colab-df-convert {\n",
              "      background-color: #E8F0FE;\n",
              "      border: none;\n",
              "      border-radius: 50%;\n",
              "      cursor: pointer;\n",
              "      display: none;\n",
              "      fill: #1967D2;\n",
              "      height: 32px;\n",
              "      padding: 0 0 0 0;\n",
              "      width: 32px;\n",
              "    }\n",
              "\n",
              "    .colab-df-convert:hover {\n",
              "      background-color: #E2EBFA;\n",
              "      box-shadow: 0px 1px 2px rgba(60, 64, 67, 0.3), 0px 1px 3px 1px rgba(60, 64, 67, 0.15);\n",
              "      fill: #174EA6;\n",
              "    }\n",
              "\n",
              "    [theme=dark] .colab-df-convert {\n",
              "      background-color: #3B4455;\n",
              "      fill: #D2E3FC;\n",
              "    }\n",
              "\n",
              "    [theme=dark] .colab-df-convert:hover {\n",
              "      background-color: #434B5C;\n",
              "      box-shadow: 0px 1px 3px 1px rgba(0, 0, 0, 0.15);\n",
              "      filter: drop-shadow(0px 1px 2px rgba(0, 0, 0, 0.3));\n",
              "      fill: #FFFFFF;\n",
              "    }\n",
              "  </style>\n",
              "\n",
              "      <script>\n",
              "        const buttonEl =\n",
              "          document.querySelector('#df-1ce34d5a-734b-4321-ba9b-45021745c3bf button.colab-df-convert');\n",
              "        buttonEl.style.display =\n",
              "          google.colab.kernel.accessAllowed ? 'block' : 'none';\n",
              "\n",
              "        async function convertToInteractive(key) {\n",
              "          const element = document.querySelector('#df-1ce34d5a-734b-4321-ba9b-45021745c3bf');\n",
              "          const dataTable =\n",
              "            await google.colab.kernel.invokeFunction('convertToInteractive',\n",
              "                                                     [key], {});\n",
              "          if (!dataTable) return;\n",
              "\n",
              "          const docLinkHtml = 'Like what you see? Visit the ' +\n",
              "            '<a target=\"_blank\" href=https://colab.research.google.com/notebooks/data_table.ipynb>data table notebook</a>'\n",
              "            + ' to learn more about interactive tables.';\n",
              "          element.innerHTML = '';\n",
              "          dataTable['output_type'] = 'display_data';\n",
              "          await google.colab.output.renderOutput(dataTable, element);\n",
              "          const docLink = document.createElement('div');\n",
              "          docLink.innerHTML = docLinkHtml;\n",
              "          element.appendChild(docLink);\n",
              "        }\n",
              "      </script>\n",
              "    </div>\n",
              "  </div>\n",
              "  "
            ]
          },
          "metadata": {},
          "execution_count": 8
        }
      ]
    },
    {
      "cell_type": "code",
      "execution_count": null,
      "metadata": {
        "colab": {
          "base_uri": "https://localhost:8080/",
          "height": 157
        },
        "id": "FE26U5ODFi2N",
        "outputId": "ac5c308e-1430-41b0-b24b-a42db5bbb9fb"
      },
      "outputs": [
        {
          "output_type": "execute_result",
          "data": {
            "text/plain": [
              "Empty DataFrame\n",
              "Columns: []\n",
              "Index: [000048b7a6, 000073194a, 00007c7133]"
            ],
            "text/html": [
              "\n",
              "  <div id=\"df-aece02f3-533c-4f32-888f-b8d875943ff4\">\n",
              "    <div class=\"colab-df-container\">\n",
              "      <div>\n",
              "<style scoped>\n",
              "    .dataframe tbody tr th:only-of-type {\n",
              "        vertical-align: middle;\n",
              "    }\n",
              "\n",
              "    .dataframe tbody tr th {\n",
              "        vertical-align: top;\n",
              "    }\n",
              "\n",
              "    .dataframe thead th {\n",
              "        text-align: right;\n",
              "    }\n",
              "</style>\n",
              "<table border=\"1\" class=\"dataframe\">\n",
              "  <thead>\n",
              "    <tr style=\"text-align: right;\">\n",
              "      <th></th>\n",
              "    </tr>\n",
              "    <tr>\n",
              "      <th>client_id</th>\n",
              "    </tr>\n",
              "  </thead>\n",
              "  <tbody>\n",
              "    <tr>\n",
              "      <th>000048b7a6</th>\n",
              "    </tr>\n",
              "    <tr>\n",
              "      <th>000073194a</th>\n",
              "    </tr>\n",
              "    <tr>\n",
              "      <th>00007c7133</th>\n",
              "    </tr>\n",
              "  </tbody>\n",
              "</table>\n",
              "</div>\n",
              "      <button class=\"colab-df-convert\" onclick=\"convertToInteractive('df-aece02f3-533c-4f32-888f-b8d875943ff4')\"\n",
              "              title=\"Convert this dataframe to an interactive table.\"\n",
              "              style=\"display:none;\">\n",
              "        \n",
              "  <svg xmlns=\"http://www.w3.org/2000/svg\" height=\"24px\"viewBox=\"0 0 24 24\"\n",
              "       width=\"24px\">\n",
              "    <path d=\"M0 0h24v24H0V0z\" fill=\"none\"/>\n",
              "    <path d=\"M18.56 5.44l.94 2.06.94-2.06 2.06-.94-2.06-.94-.94-2.06-.94 2.06-2.06.94zm-11 1L8.5 8.5l.94-2.06 2.06-.94-2.06-.94L8.5 2.5l-.94 2.06-2.06.94zm10 10l.94 2.06.94-2.06 2.06-.94-2.06-.94-.94-2.06-.94 2.06-2.06.94z\"/><path d=\"M17.41 7.96l-1.37-1.37c-.4-.4-.92-.59-1.43-.59-.52 0-1.04.2-1.43.59L10.3 9.45l-7.72 7.72c-.78.78-.78 2.05 0 2.83L4 21.41c.39.39.9.59 1.41.59.51 0 1.02-.2 1.41-.59l7.78-7.78 2.81-2.81c.8-.78.8-2.07 0-2.86zM5.41 20L4 18.59l7.72-7.72 1.47 1.35L5.41 20z\"/>\n",
              "  </svg>\n",
              "      </button>\n",
              "      \n",
              "  <style>\n",
              "    .colab-df-container {\n",
              "      display:flex;\n",
              "      flex-wrap:wrap;\n",
              "      gap: 12px;\n",
              "    }\n",
              "\n",
              "    .colab-df-convert {\n",
              "      background-color: #E8F0FE;\n",
              "      border: none;\n",
              "      border-radius: 50%;\n",
              "      cursor: pointer;\n",
              "      display: none;\n",
              "      fill: #1967D2;\n",
              "      height: 32px;\n",
              "      padding: 0 0 0 0;\n",
              "      width: 32px;\n",
              "    }\n",
              "\n",
              "    .colab-df-convert:hover {\n",
              "      background-color: #E2EBFA;\n",
              "      box-shadow: 0px 1px 2px rgba(60, 64, 67, 0.3), 0px 1px 3px 1px rgba(60, 64, 67, 0.15);\n",
              "      fill: #174EA6;\n",
              "    }\n",
              "\n",
              "    [theme=dark] .colab-df-convert {\n",
              "      background-color: #3B4455;\n",
              "      fill: #D2E3FC;\n",
              "    }\n",
              "\n",
              "    [theme=dark] .colab-df-convert:hover {\n",
              "      background-color: #434B5C;\n",
              "      box-shadow: 0px 1px 3px 1px rgba(0, 0, 0, 0.15);\n",
              "      filter: drop-shadow(0px 1px 2px rgba(0, 0, 0, 0.3));\n",
              "      fill: #FFFFFF;\n",
              "    }\n",
              "  </style>\n",
              "\n",
              "      <script>\n",
              "        const buttonEl =\n",
              "          document.querySelector('#df-aece02f3-533c-4f32-888f-b8d875943ff4 button.colab-df-convert');\n",
              "        buttonEl.style.display =\n",
              "          google.colab.kernel.accessAllowed ? 'block' : 'none';\n",
              "\n",
              "        async function convertToInteractive(key) {\n",
              "          const element = document.querySelector('#df-aece02f3-533c-4f32-888f-b8d875943ff4');\n",
              "          const dataTable =\n",
              "            await google.colab.kernel.invokeFunction('convertToInteractive',\n",
              "                                                     [key], {});\n",
              "          if (!dataTable) return;\n",
              "\n",
              "          const docLinkHtml = 'Like what you see? Visit the ' +\n",
              "            '<a target=\"_blank\" href=https://colab.research.google.com/notebooks/data_table.ipynb>data table notebook</a>'\n",
              "            + ' to learn more about interactive tables.';\n",
              "          element.innerHTML = '';\n",
              "          dataTable['output_type'] = 'display_data';\n",
              "          await google.colab.output.renderOutput(dataTable, element);\n",
              "          const docLink = document.createElement('div');\n",
              "          docLink.innerHTML = docLinkHtml;\n",
              "          element.appendChild(docLink);\n",
              "        }\n",
              "      </script>\n",
              "    </div>\n",
              "  </div>\n",
              "  "
            ]
          },
          "metadata": {},
          "execution_count": 9
        }
      ],
      "source": [
        "df_test.head(3)"
      ]
    },
    {
      "cell_type": "code",
      "execution_count": null,
      "metadata": {
        "id": "OHq0vR9-Fi2O",
        "outputId": "e2c853ee-dc2c-4892-eb5a-604668a1010f",
        "colab": {
          "base_uri": "https://localhost:8080/",
          "height": 143
        }
      },
      "outputs": [
        {
          "output_type": "execute_result",
          "data": {
            "text/plain": [
              "                  count      mean       std  min  25%  50%  75%  max\n",
              "treatment_flg                                                       \n",
              "0              100058.0  0.603280  0.489219  0.0  0.0  1.0  1.0  1.0\n",
              "1               99981.0  0.636511  0.481006  0.0  0.0  1.0  1.0  1.0"
            ],
            "text/html": [
              "\n",
              "  <div id=\"df-c374a1ae-a7cd-4944-a428-d2a06c6a9ec2\">\n",
              "    <div class=\"colab-df-container\">\n",
              "      <div>\n",
              "<style scoped>\n",
              "    .dataframe tbody tr th:only-of-type {\n",
              "        vertical-align: middle;\n",
              "    }\n",
              "\n",
              "    .dataframe tbody tr th {\n",
              "        vertical-align: top;\n",
              "    }\n",
              "\n",
              "    .dataframe thead th {\n",
              "        text-align: right;\n",
              "    }\n",
              "</style>\n",
              "<table border=\"1\" class=\"dataframe\">\n",
              "  <thead>\n",
              "    <tr style=\"text-align: right;\">\n",
              "      <th></th>\n",
              "      <th>count</th>\n",
              "      <th>mean</th>\n",
              "      <th>std</th>\n",
              "      <th>min</th>\n",
              "      <th>25%</th>\n",
              "      <th>50%</th>\n",
              "      <th>75%</th>\n",
              "      <th>max</th>\n",
              "    </tr>\n",
              "    <tr>\n",
              "      <th>treatment_flg</th>\n",
              "      <th></th>\n",
              "      <th></th>\n",
              "      <th></th>\n",
              "      <th></th>\n",
              "      <th></th>\n",
              "      <th></th>\n",
              "      <th></th>\n",
              "      <th></th>\n",
              "    </tr>\n",
              "  </thead>\n",
              "  <tbody>\n",
              "    <tr>\n",
              "      <th>0</th>\n",
              "      <td>100058.0</td>\n",
              "      <td>0.603280</td>\n",
              "      <td>0.489219</td>\n",
              "      <td>0.0</td>\n",
              "      <td>0.0</td>\n",
              "      <td>1.0</td>\n",
              "      <td>1.0</td>\n",
              "      <td>1.0</td>\n",
              "    </tr>\n",
              "    <tr>\n",
              "      <th>1</th>\n",
              "      <td>99981.0</td>\n",
              "      <td>0.636511</td>\n",
              "      <td>0.481006</td>\n",
              "      <td>0.0</td>\n",
              "      <td>0.0</td>\n",
              "      <td>1.0</td>\n",
              "      <td>1.0</td>\n",
              "      <td>1.0</td>\n",
              "    </tr>\n",
              "  </tbody>\n",
              "</table>\n",
              "</div>\n",
              "      <button class=\"colab-df-convert\" onclick=\"convertToInteractive('df-c374a1ae-a7cd-4944-a428-d2a06c6a9ec2')\"\n",
              "              title=\"Convert this dataframe to an interactive table.\"\n",
              "              style=\"display:none;\">\n",
              "        \n",
              "  <svg xmlns=\"http://www.w3.org/2000/svg\" height=\"24px\"viewBox=\"0 0 24 24\"\n",
              "       width=\"24px\">\n",
              "    <path d=\"M0 0h24v24H0V0z\" fill=\"none\"/>\n",
              "    <path d=\"M18.56 5.44l.94 2.06.94-2.06 2.06-.94-2.06-.94-.94-2.06-.94 2.06-2.06.94zm-11 1L8.5 8.5l.94-2.06 2.06-.94-2.06-.94L8.5 2.5l-.94 2.06-2.06.94zm10 10l.94 2.06.94-2.06 2.06-.94-2.06-.94-.94-2.06-.94 2.06-2.06.94z\"/><path d=\"M17.41 7.96l-1.37-1.37c-.4-.4-.92-.59-1.43-.59-.52 0-1.04.2-1.43.59L10.3 9.45l-7.72 7.72c-.78.78-.78 2.05 0 2.83L4 21.41c.39.39.9.59 1.41.59.51 0 1.02-.2 1.41-.59l7.78-7.78 2.81-2.81c.8-.78.8-2.07 0-2.86zM5.41 20L4 18.59l7.72-7.72 1.47 1.35L5.41 20z\"/>\n",
              "  </svg>\n",
              "      </button>\n",
              "      \n",
              "  <style>\n",
              "    .colab-df-container {\n",
              "      display:flex;\n",
              "      flex-wrap:wrap;\n",
              "      gap: 12px;\n",
              "    }\n",
              "\n",
              "    .colab-df-convert {\n",
              "      background-color: #E8F0FE;\n",
              "      border: none;\n",
              "      border-radius: 50%;\n",
              "      cursor: pointer;\n",
              "      display: none;\n",
              "      fill: #1967D2;\n",
              "      height: 32px;\n",
              "      padding: 0 0 0 0;\n",
              "      width: 32px;\n",
              "    }\n",
              "\n",
              "    .colab-df-convert:hover {\n",
              "      background-color: #E2EBFA;\n",
              "      box-shadow: 0px 1px 2px rgba(60, 64, 67, 0.3), 0px 1px 3px 1px rgba(60, 64, 67, 0.15);\n",
              "      fill: #174EA6;\n",
              "    }\n",
              "\n",
              "    [theme=dark] .colab-df-convert {\n",
              "      background-color: #3B4455;\n",
              "      fill: #D2E3FC;\n",
              "    }\n",
              "\n",
              "    [theme=dark] .colab-df-convert:hover {\n",
              "      background-color: #434B5C;\n",
              "      box-shadow: 0px 1px 3px 1px rgba(0, 0, 0, 0.15);\n",
              "      filter: drop-shadow(0px 1px 2px rgba(0, 0, 0, 0.3));\n",
              "      fill: #FFFFFF;\n",
              "    }\n",
              "  </style>\n",
              "\n",
              "      <script>\n",
              "        const buttonEl =\n",
              "          document.querySelector('#df-c374a1ae-a7cd-4944-a428-d2a06c6a9ec2 button.colab-df-convert');\n",
              "        buttonEl.style.display =\n",
              "          google.colab.kernel.accessAllowed ? 'block' : 'none';\n",
              "\n",
              "        async function convertToInteractive(key) {\n",
              "          const element = document.querySelector('#df-c374a1ae-a7cd-4944-a428-d2a06c6a9ec2');\n",
              "          const dataTable =\n",
              "            await google.colab.kernel.invokeFunction('convertToInteractive',\n",
              "                                                     [key], {});\n",
              "          if (!dataTable) return;\n",
              "\n",
              "          const docLinkHtml = 'Like what you see? Visit the ' +\n",
              "            '<a target=\"_blank\" href=https://colab.research.google.com/notebooks/data_table.ipynb>data table notebook</a>'\n",
              "            + ' to learn more about interactive tables.';\n",
              "          element.innerHTML = '';\n",
              "          dataTable['output_type'] = 'display_data';\n",
              "          await google.colab.output.renderOutput(dataTable, element);\n",
              "          const docLink = document.createElement('div');\n",
              "          docLink.innerHTML = docLinkHtml;\n",
              "          element.appendChild(docLink);\n",
              "        }\n",
              "      </script>\n",
              "    </div>\n",
              "  </div>\n",
              "  "
            ]
          },
          "metadata": {},
          "execution_count": 10
        }
      ],
      "source": [
        "df_train.groupby(\"treatment_flg\")['target'].describe()"
      ]
    },
    {
      "cell_type": "markdown",
      "metadata": {
        "id": "iN4qPExFFi2Q"
      },
      "source": [
        "Заведем переменные"
      ]
    },
    {
      "cell_type": "code",
      "execution_count": null,
      "metadata": {
        "id": "__vzO9BFFi2Q"
      },
      "outputs": [],
      "source": [
        "X_train = df_features.loc[indices_learn, :]\n",
        "y_train = df_train.loc[indices_learn, 'target']\n",
        "treat_train = df_train.loc[indices_learn, 'treatment_flg']\n",
        "\n",
        "X_val = df_features.loc[indices_valid, :]\n",
        "y_val = df_train.loc[indices_valid, 'target']\n",
        "treat_val =  df_train.loc[indices_valid, 'treatment_flg']\n",
        "\n",
        "\n",
        "X_test = df_features.loc[indices_test, :]\n",
        "\n",
        "cat_features = ['gender']\n",
        "\n",
        "models_results = {\n",
        "    'approach': [],\n",
        "    'uplift@30%': []\n",
        "}"
      ]
    },
    {
      "cell_type": "code",
      "source": [
        "X_train.head()"
      ],
      "metadata": {
        "colab": {
          "base_uri": "https://localhost:8080/",
          "height": 238
        },
        "id": "dFjrsnmhZTaB",
        "outputId": "31eced70-79ed-4794-dc9b-055a37f5ef82"
      },
      "execution_count": null,
      "outputs": [
        {
          "output_type": "execute_result",
          "data": {
            "text/plain": [
              "            age gender  first_issue_time  first_redeem_time  \\\n",
              "client_id                                                     \n",
              "ad6561e2d8   50      F        1512322431       1.527102e+09   \n",
              "7c1ccbf93f   24      F        1510331629       1.519326e+09   \n",
              "b58fadcab6   36      U        1509657465       1.537045e+09   \n",
              "e99e6fabb9   79      F        1526466080       1.527713e+09   \n",
              "27fb6f8520   34      F        1500320188       1.513332e+09   \n",
              "\n",
              "            issue_redeem_delay  \n",
              "client_id                       \n",
              "ad6561e2d8          14779510.0  \n",
              "7c1ccbf93f           8994516.0  \n",
              "b58fadcab6          27387871.0  \n",
              "e99e6fabb9           1247284.0  \n",
              "27fb6f8520          13012137.0  "
            ],
            "text/html": [
              "\n",
              "  <div id=\"df-13d9c25f-0a5d-4ddb-bc99-a5af1311585c\">\n",
              "    <div class=\"colab-df-container\">\n",
              "      <div>\n",
              "<style scoped>\n",
              "    .dataframe tbody tr th:only-of-type {\n",
              "        vertical-align: middle;\n",
              "    }\n",
              "\n",
              "    .dataframe tbody tr th {\n",
              "        vertical-align: top;\n",
              "    }\n",
              "\n",
              "    .dataframe thead th {\n",
              "        text-align: right;\n",
              "    }\n",
              "</style>\n",
              "<table border=\"1\" class=\"dataframe\">\n",
              "  <thead>\n",
              "    <tr style=\"text-align: right;\">\n",
              "      <th></th>\n",
              "      <th>age</th>\n",
              "      <th>gender</th>\n",
              "      <th>first_issue_time</th>\n",
              "      <th>first_redeem_time</th>\n",
              "      <th>issue_redeem_delay</th>\n",
              "    </tr>\n",
              "    <tr>\n",
              "      <th>client_id</th>\n",
              "      <th></th>\n",
              "      <th></th>\n",
              "      <th></th>\n",
              "      <th></th>\n",
              "      <th></th>\n",
              "    </tr>\n",
              "  </thead>\n",
              "  <tbody>\n",
              "    <tr>\n",
              "      <th>ad6561e2d8</th>\n",
              "      <td>50</td>\n",
              "      <td>F</td>\n",
              "      <td>1512322431</td>\n",
              "      <td>1.527102e+09</td>\n",
              "      <td>14779510.0</td>\n",
              "    </tr>\n",
              "    <tr>\n",
              "      <th>7c1ccbf93f</th>\n",
              "      <td>24</td>\n",
              "      <td>F</td>\n",
              "      <td>1510331629</td>\n",
              "      <td>1.519326e+09</td>\n",
              "      <td>8994516.0</td>\n",
              "    </tr>\n",
              "    <tr>\n",
              "      <th>b58fadcab6</th>\n",
              "      <td>36</td>\n",
              "      <td>U</td>\n",
              "      <td>1509657465</td>\n",
              "      <td>1.537045e+09</td>\n",
              "      <td>27387871.0</td>\n",
              "    </tr>\n",
              "    <tr>\n",
              "      <th>e99e6fabb9</th>\n",
              "      <td>79</td>\n",
              "      <td>F</td>\n",
              "      <td>1526466080</td>\n",
              "      <td>1.527713e+09</td>\n",
              "      <td>1247284.0</td>\n",
              "    </tr>\n",
              "    <tr>\n",
              "      <th>27fb6f8520</th>\n",
              "      <td>34</td>\n",
              "      <td>F</td>\n",
              "      <td>1500320188</td>\n",
              "      <td>1.513332e+09</td>\n",
              "      <td>13012137.0</td>\n",
              "    </tr>\n",
              "  </tbody>\n",
              "</table>\n",
              "</div>\n",
              "      <button class=\"colab-df-convert\" onclick=\"convertToInteractive('df-13d9c25f-0a5d-4ddb-bc99-a5af1311585c')\"\n",
              "              title=\"Convert this dataframe to an interactive table.\"\n",
              "              style=\"display:none;\">\n",
              "        \n",
              "  <svg xmlns=\"http://www.w3.org/2000/svg\" height=\"24px\"viewBox=\"0 0 24 24\"\n",
              "       width=\"24px\">\n",
              "    <path d=\"M0 0h24v24H0V0z\" fill=\"none\"/>\n",
              "    <path d=\"M18.56 5.44l.94 2.06.94-2.06 2.06-.94-2.06-.94-.94-2.06-.94 2.06-2.06.94zm-11 1L8.5 8.5l.94-2.06 2.06-.94-2.06-.94L8.5 2.5l-.94 2.06-2.06.94zm10 10l.94 2.06.94-2.06 2.06-.94-2.06-.94-.94-2.06-.94 2.06-2.06.94z\"/><path d=\"M17.41 7.96l-1.37-1.37c-.4-.4-.92-.59-1.43-.59-.52 0-1.04.2-1.43.59L10.3 9.45l-7.72 7.72c-.78.78-.78 2.05 0 2.83L4 21.41c.39.39.9.59 1.41.59.51 0 1.02-.2 1.41-.59l7.78-7.78 2.81-2.81c.8-.78.8-2.07 0-2.86zM5.41 20L4 18.59l7.72-7.72 1.47 1.35L5.41 20z\"/>\n",
              "  </svg>\n",
              "      </button>\n",
              "      \n",
              "  <style>\n",
              "    .colab-df-container {\n",
              "      display:flex;\n",
              "      flex-wrap:wrap;\n",
              "      gap: 12px;\n",
              "    }\n",
              "\n",
              "    .colab-df-convert {\n",
              "      background-color: #E8F0FE;\n",
              "      border: none;\n",
              "      border-radius: 50%;\n",
              "      cursor: pointer;\n",
              "      display: none;\n",
              "      fill: #1967D2;\n",
              "      height: 32px;\n",
              "      padding: 0 0 0 0;\n",
              "      width: 32px;\n",
              "    }\n",
              "\n",
              "    .colab-df-convert:hover {\n",
              "      background-color: #E2EBFA;\n",
              "      box-shadow: 0px 1px 2px rgba(60, 64, 67, 0.3), 0px 1px 3px 1px rgba(60, 64, 67, 0.15);\n",
              "      fill: #174EA6;\n",
              "    }\n",
              "\n",
              "    [theme=dark] .colab-df-convert {\n",
              "      background-color: #3B4455;\n",
              "      fill: #D2E3FC;\n",
              "    }\n",
              "\n",
              "    [theme=dark] .colab-df-convert:hover {\n",
              "      background-color: #434B5C;\n",
              "      box-shadow: 0px 1px 3px 1px rgba(0, 0, 0, 0.15);\n",
              "      filter: drop-shadow(0px 1px 2px rgba(0, 0, 0, 0.3));\n",
              "      fill: #FFFFFF;\n",
              "    }\n",
              "  </style>\n",
              "\n",
              "      <script>\n",
              "        const buttonEl =\n",
              "          document.querySelector('#df-13d9c25f-0a5d-4ddb-bc99-a5af1311585c button.colab-df-convert');\n",
              "        buttonEl.style.display =\n",
              "          google.colab.kernel.accessAllowed ? 'block' : 'none';\n",
              "\n",
              "        async function convertToInteractive(key) {\n",
              "          const element = document.querySelector('#df-13d9c25f-0a5d-4ddb-bc99-a5af1311585c');\n",
              "          const dataTable =\n",
              "            await google.colab.kernel.invokeFunction('convertToInteractive',\n",
              "                                                     [key], {});\n",
              "          if (!dataTable) return;\n",
              "\n",
              "          const docLinkHtml = 'Like what you see? Visit the ' +\n",
              "            '<a target=\"_blank\" href=https://colab.research.google.com/notebooks/data_table.ipynb>data table notebook</a>'\n",
              "            + ' to learn more about interactive tables.';\n",
              "          element.innerHTML = '';\n",
              "          dataTable['output_type'] = 'display_data';\n",
              "          await google.colab.output.renderOutput(dataTable, element);\n",
              "          const docLink = document.createElement('div');\n",
              "          docLink.innerHTML = docLinkHtml;\n",
              "          element.appendChild(docLink);\n",
              "        }\n",
              "      </script>\n",
              "    </div>\n",
              "  </div>\n",
              "  "
            ]
          },
          "metadata": {},
          "execution_count": 12
        }
      ]
    },
    {
      "cell_type": "markdown",
      "source": [
        "Описание воздействия"
      ],
      "metadata": {
        "id": "jUyRAWo6ZdgR"
      }
    },
    {
      "cell_type": "code",
      "source": [
        "treat_train.head()"
      ],
      "metadata": {
        "colab": {
          "base_uri": "https://localhost:8080/"
        },
        "id": "KPQvrQHVZWAd",
        "outputId": "ad081067-7809-4a61-80df-b16e48f9a79e"
      },
      "execution_count": null,
      "outputs": [
        {
          "output_type": "execute_result",
          "data": {
            "text/plain": [
              "client_id\n",
              "ad6561e2d8    1\n",
              "7c1ccbf93f    1\n",
              "b58fadcab6    1\n",
              "e99e6fabb9    0\n",
              "27fb6f8520    1\n",
              "Name: treatment_flg, dtype: int64"
            ]
          },
          "metadata": {},
          "execution_count": 13
        }
      ]
    },
    {
      "cell_type": "markdown",
      "source": [
        "Описание целевого действия"
      ],
      "metadata": {
        "id": "6yB5FViuZf9l"
      }
    },
    {
      "cell_type": "code",
      "source": [
        "y_train.head()"
      ],
      "metadata": {
        "colab": {
          "base_uri": "https://localhost:8080/"
        },
        "id": "jPRtOPliZUcQ",
        "outputId": "3b1b6ff2-1161-480c-e065-29dd4dde2504"
      },
      "execution_count": null,
      "outputs": [
        {
          "output_type": "execute_result",
          "data": {
            "text/plain": [
              "client_id\n",
              "ad6561e2d8    1\n",
              "7c1ccbf93f    1\n",
              "b58fadcab6    1\n",
              "e99e6fabb9    0\n",
              "27fb6f8520    1\n",
              "Name: target, dtype: int64"
            ]
          },
          "metadata": {},
          "execution_count": 14
        }
      ]
    },
    {
      "cell_type": "markdown",
      "metadata": {
        "id": "48rdrfgMFi2S"
      },
      "source": [
        "## 1. Подходы с одной моделью"
      ]
    },
    {
      "cell_type": "markdown",
      "source": [
        "### 1.1 Одна модель с признаком коммуникации\n",
        "Самое простое и интуитивное решение: модель обучается одновременно на двух группах, при этом бинарный флаг коммуникации выступает в качестве дополнительного признака. Каждый объект из тестовой выборки скорим дважды: с флагом коммуникации равным 1 и равным 0. Вычитая вероятности по каждому наблюдению, получим искомы uplift."
      ],
      "metadata": {
        "id": "H92qweENDtIn"
      }
    },
    {
      "cell_type": "markdown",
      "metadata": {
        "id": "Z1NT_RsxFi2S"
      },
      "source": [
        "<img src='https://drive.google.com/uc?export=view&id=1toKV1iLuOXcuKUTIut5i_7-EgigDsYdf' width=700>"
      ]
    },
    {
      "cell_type": "code",
      "execution_count": null,
      "metadata": {
        "id": "fbKOydhWFi2T",
        "outputId": "b997d439-7490-4b26-c0d9-a90e69b61324",
        "colab": {
          "base_uri": "https://localhost:8080/",
          "height": 444
        }
      },
      "outputs": [
        {
          "output_type": "display_data",
          "data": {
            "text/plain": [
              "<Figure size 1440x504 with 3 Axes>"
            ],
            "image/png": "[encoded data removed]"
          },
          "metadata": {
            "needs_background": "light"
          }
        }
      ],
      "source": [
        "# Ссылка на документацию: https://scikit-uplift.readthedocs.io/en/latest/\n",
        "from sklift.metrics import uplift_at_k\n",
        "from sklift.viz import plot_uplift_preds\n",
        "from sklift.models import SoloModel\n",
        "\n",
        "# sklift поддерживает любые модели, \n",
        "# которые удовлетворяют соглашениями scikit-learn\n",
        "# Для примера воспользуемся catboost\n",
        "from catboost import CatBoostClassifier\n",
        "\n",
        "\n",
        "sm = SoloModel(\n",
        "    CatBoostClassifier(iterations=20, random_state=42, silent=True, cat_features=cat_features)\n",
        ")\n",
        "\n",
        "sm = sm.fit(X_train, y_train, treat_train)\n",
        "\n",
        "uplift_sm = sm.predict(X_val)\n",
        "\n",
        "sm_score = uplift_at_k(y_true=y_val, uplift=uplift_sm, treatment=treat_val, strategy='by_group', k=0.3)\n",
        "\n",
        "models_results['approach'].append('SoloModel')\n",
        "models_results['uplift@30%'].append(sm_score)\n",
        "\n",
        "# Получим условные вероятности выполнения целевого действия при взаимодействии для каждого объекта\n",
        "sm_trmnt_preds = sm.trmnt_preds_\n",
        "# И условные вероятности выполнения целевого действия без взаимодействия для каждого объекта\n",
        "sm_ctrl_preds = sm.ctrl_preds_\n",
        "\n",
        "# Отрисуем распределения вероятностей и их разность (uplift)\n",
        "plot_uplift_preds(trmnt_preds=sm_trmnt_preds, ctrl_preds=sm_ctrl_preds);"
      ]
    },
    {
      "cell_type": "markdown",
      "metadata": {
        "id": "xiD4NaGyFi2U"
      },
      "source": [
        "Посмотрим на топ-признаки"
      ]
    },
    {
      "cell_type": "code",
      "execution_count": null,
      "metadata": {
        "id": "1mzX89s-Fi2V",
        "outputId": "6c58e06a-ab49-4d88-ede4-2269cc9e83aa",
        "colab": {
          "base_uri": "https://localhost:8080/",
          "height": 238
        }
      },
      "outputs": [
        {
          "output_type": "execute_result",
          "data": {
            "text/plain": [
              "         feature_name  feature_score\n",
              "0   first_redeem_time      44.503470\n",
              "1  issue_redeem_delay      37.136251\n",
              "2                 age       7.075808\n",
              "3    first_issue_time       5.801921\n",
              "4           treatment       3.322136\n",
              "5              gender       2.160415"
            ],
            "text/html": [
              "\n",
              "  <div id=\"df-9ac75875-ea5d-4a00-b9ee-4d5ae422cf30\">\n",
              "    <div class=\"colab-df-container\">\n",
              "      <div>\n",
              "<style scoped>\n",
              "    .dataframe tbody tr th:only-of-type {\n",
              "        vertical-align: middle;\n",
              "    }\n",
              "\n",
              "    .dataframe tbody tr th {\n",
              "        vertical-align: top;\n",
              "    }\n",
              "\n",
              "    .dataframe thead th {\n",
              "        text-align: right;\n",
              "    }\n",
              "</style>\n",
              "<table border=\"1\" class=\"dataframe\">\n",
              "  <thead>\n",
              "    <tr style=\"text-align: right;\">\n",
              "      <th></th>\n",
              "      <th>feature_name</th>\n",
              "      <th>feature_score</th>\n",
              "    </tr>\n",
              "  </thead>\n",
              "  <tbody>\n",
              "    <tr>\n",
              "      <th>0</th>\n",
              "      <td>first_redeem_time</td>\n",
              "      <td>44.503470</td>\n",
              "    </tr>\n",
              "    <tr>\n",
              "      <th>1</th>\n",
              "      <td>issue_redeem_delay</td>\n",
              "      <td>37.136251</td>\n",
              "    </tr>\n",
              "    <tr>\n",
              "      <th>2</th>\n",
              "      <td>age</td>\n",
              "      <td>7.075808</td>\n",
              "    </tr>\n",
              "    <tr>\n",
              "      <th>3</th>\n",
              "      <td>first_issue_time</td>\n",
              "      <td>5.801921</td>\n",
              "    </tr>\n",
              "    <tr>\n",
              "      <th>4</th>\n",
              "      <td>treatment</td>\n",
              "      <td>3.322136</td>\n",
              "    </tr>\n",
              "    <tr>\n",
              "      <th>5</th>\n",
              "      <td>gender</td>\n",
              "      <td>2.160415</td>\n",
              "    </tr>\n",
              "  </tbody>\n",
              "</table>\n",
              "</div>\n",
              "      <button class=\"colab-df-convert\" onclick=\"convertToInteractive('df-9ac75875-ea5d-4a00-b9ee-4d5ae422cf30')\"\n",
              "              title=\"Convert this dataframe to an interactive table.\"\n",
              "              style=\"display:none;\">\n",
              "        \n",
              "  <svg xmlns=\"http://www.w3.org/2000/svg\" height=\"24px\"viewBox=\"0 0 24 24\"\n",
              "       width=\"24px\">\n",
              "    <path d=\"M0 0h24v24H0V0z\" fill=\"none\"/>\n",
              "    <path d=\"M18.56 5.44l.94 2.06.94-2.06 2.06-.94-2.06-.94-.94-2.06-.94 2.06-2.06.94zm-11 1L8.5 8.5l.94-2.06 2.06-.94-2.06-.94L8.5 2.5l-.94 2.06-2.06.94zm10 10l.94 2.06.94-2.06 2.06-.94-2.06-.94-.94-2.06-.94 2.06-2.06.94z\"/><path d=\"M17.41 7.96l-1.37-1.37c-.4-.4-.92-.59-1.43-.59-.52 0-1.04.2-1.43.59L10.3 9.45l-7.72 7.72c-.78.78-.78 2.05 0 2.83L4 21.41c.39.39.9.59 1.41.59.51 0 1.02-.2 1.41-.59l7.78-7.78 2.81-2.81c.8-.78.8-2.07 0-2.86zM5.41 20L4 18.59l7.72-7.72 1.47 1.35L5.41 20z\"/>\n",
              "  </svg>\n",
              "      </button>\n",
              "      \n",
              "  <style>\n",
              "    .colab-df-container {\n",
              "      display:flex;\n",
              "      flex-wrap:wrap;\n",
              "      gap: 12px;\n",
              "    }\n",
              "\n",
              "    .colab-df-convert {\n",
              "      background-color: #E8F0FE;\n",
              "      border: none;\n",
              "      border-radius: 50%;\n",
              "      cursor: pointer;\n",
              "      display: none;\n",
              "      fill: #1967D2;\n",
              "      height: 32px;\n",
              "      padding: 0 0 0 0;\n",
              "      width: 32px;\n",
              "    }\n",
              "\n",
              "    .colab-df-convert:hover {\n",
              "      background-color: #E2EBFA;\n",
              "      box-shadow: 0px 1px 2px rgba(60, 64, 67, 0.3), 0px 1px 3px 1px rgba(60, 64, 67, 0.15);\n",
              "      fill: #174EA6;\n",
              "    }\n",
              "\n",
              "    [theme=dark] .colab-df-convert {\n",
              "      background-color: #3B4455;\n",
              "      fill: #D2E3FC;\n",
              "    }\n",
              "\n",
              "    [theme=dark] .colab-df-convert:hover {\n",
              "      background-color: #434B5C;\n",
              "      box-shadow: 0px 1px 3px 1px rgba(0, 0, 0, 0.15);\n",
              "      filter: drop-shadow(0px 1px 2px rgba(0, 0, 0, 0.3));\n",
              "      fill: #FFFFFF;\n",
              "    }\n",
              "  </style>\n",
              "\n",
              "      <script>\n",
              "        const buttonEl =\n",
              "          document.querySelector('#df-9ac75875-ea5d-4a00-b9ee-4d5ae422cf30 button.colab-df-convert');\n",
              "        buttonEl.style.display =\n",
              "          google.colab.kernel.accessAllowed ? 'block' : 'none';\n",
              "\n",
              "        async function convertToInteractive(key) {\n",
              "          const element = document.querySelector('#df-9ac75875-ea5d-4a00-b9ee-4d5ae422cf30');\n",
              "          const dataTable =\n",
              "            await google.colab.kernel.invokeFunction('convertToInteractive',\n",
              "                                                     [key], {});\n",
              "          if (!dataTable) return;\n",
              "\n",
              "          const docLinkHtml = 'Like what you see? Visit the ' +\n",
              "            '<a target=\"_blank\" href=https://colab.research.google.com/notebooks/data_table.ipynb>data table notebook</a>'\n",
              "            + ' to learn more about interactive tables.';\n",
              "          element.innerHTML = '';\n",
              "          dataTable['output_type'] = 'display_data';\n",
              "          await google.colab.output.renderOutput(dataTable, element);\n",
              "          const docLink = document.createElement('div');\n",
              "          docLink.innerHTML = docLinkHtml;\n",
              "          element.appendChild(docLink);\n",
              "        }\n",
              "      </script>\n",
              "    </div>\n",
              "  </div>\n",
              "  "
            ]
          },
          "metadata": {},
          "execution_count": 16
        }
      ],
      "source": [
        "# С той же легкостью можно обратиться к обученной модели.\n",
        "# Например, чтобы построить важность признаков:\n",
        "sm_fi = pd.DataFrame({\n",
        "    'feature_name': sm.estimator.feature_names_,\n",
        "    'feature_score': sm.estimator.feature_importances_\n",
        "}).sort_values('feature_score', ascending=False).reset_index(drop=True)\n",
        "\n",
        "sm_fi"
      ]
    },
    {
      "cell_type": "code",
      "source": [
        "sm_score"
      ],
      "metadata": {
        "colab": {
          "base_uri": "https://localhost:8080/"
        },
        "id": "GV6gexWxEJVA",
        "outputId": "2bc45879-7938-4071-dc30-7bd5e308f67d"
      },
      "execution_count": null,
      "outputs": [
        {
          "output_type": "execute_result",
          "data": {
            "text/plain": [
              "0.03498343353777056"
            ]
          },
          "metadata": {},
          "execution_count": 17
        }
      ]
    },
    {
      "cell_type": "markdown",
      "source": [
        "### Метрики"
      ],
      "metadata": {
        "id": "kqeASPiBgiKo"
      }
    },
    {
      "cell_type": "markdown",
      "source": [
        "#### uplift@k\n",
        "\n",
        "$$uplift@k = response\\space rate@k_{treatment} - response\\space  rate@k_{control}$$ \n",
        "$$response\\space  rate@k = mean(Y@k)$$\n",
        "\n",
        "\n",
        "Размер uplift на топ k процентах выборки.\n",
        "\n",
        "Например, с помощью обученной uplift модели мы хотим отобрать какое-то количество клиентов, с которыми будем коммуницировать. Пусть бюджет рассчитан на k% клиентов. Тогда нам интересно оценить качество прогноза не на всей тестовой выборке, а только на объектах с наибольшими предсказаниями при отсечении по порогу в k процентов.\n",
        "\n",
        "Для расчета uplift@k нужно отсортировать выборку по величине предсказанного uplift и посмотреть разницу средних значений таргета Y в экспериментальной и контрольной группах.\n",
        "\n",
        "Теоретический **uplift@k** принимает значения от -1 (когда в целевой группе нет реакций Y=1, а в контрольной группе все клиенты имеют реакцию Y=1) и может достигать величины 1 (противоположная ситуация: в целевой группе все клиенты откликнулись: Y=1, в то время как в контрольной - ни одного случая с Y=1). \n",
        "\n",
        "\n",
        "Рассчитывать эту метрику можно двумя различными способами:\n",
        "1. сначала сортировать по предсказанному uplift и далее считать разницу response rate двух групп (`strategy='overall'`)\n",
        "2. или наоборот, изначально сортировать объекты из контрольной и целевой групп по отдельности (`strategy='by_group'`)"
      ],
      "metadata": {
        "id": "zTc-rSWsEQY0"
      }
    },
    {
      "cell_type": "code",
      "source": [
        "n = 15\n",
        "df = pd.DataFrame({\n",
        "    'true': y_val[:n],\n",
        "    'uplift': uplift_sm[:n],\n",
        "    'treat': treat_val[:n]\n",
        "})   \n",
        "df "
      ],
      "metadata": {
        "colab": {
          "base_uri": "https://localhost:8080/",
          "height": 551
        },
        "id": "htPQrn3D-wSZ",
        "outputId": "20e609f1-4054-47a5-ae18-d64e0f5447cd"
      },
      "execution_count": null,
      "outputs": [
        {
          "output_type": "execute_result",
          "data": {
            "text/plain": [
              "            true    uplift  treat\n",
              "client_id                        \n",
              "a9a604ed6e     0 -0.002221      1\n",
              "ebd7360016     1  0.044462      0\n",
              "908cd9b8e8     1  0.055119      1\n",
              "dceb8ce861     0  0.012658      0\n",
              "f4f0ac6b06     0  0.018084      0\n",
              "5047ab8574     0  0.026925      1\n",
              "e3574a0076     1  0.033572      1\n",
              "4789764e7d     0  0.018636      1\n",
              "7e66529579     1  0.027664      1\n",
              "5f9a02e6a5     1  0.029808      0\n",
              "81486dfd30     1  0.025498      0\n",
              "6a73b7e876     0  0.013205      0\n",
              "2c1ea1e175     1  0.039352      0\n",
              "c06b0ec579     1 -0.024277      1\n",
              "2c90382a10     1  0.026808      0"
            ],
            "text/html": [
              "\n",
              "  <div id=\"df-cc10580f-b519-400f-a201-bfbab8e14841\">\n",
              "    <div class=\"colab-df-container\">\n",
              "      <div>\n",
              "<style scoped>\n",
              "    .dataframe tbody tr th:only-of-type {\n",
              "        vertical-align: middle;\n",
              "    }\n",
              "\n",
              "    .dataframe tbody tr th {\n",
              "        vertical-align: top;\n",
              "    }\n",
              "\n",
              "    .dataframe thead th {\n",
              "        text-align: right;\n",
              "    }\n",
              "</style>\n",
              "<table border=\"1\" class=\"dataframe\">\n",
              "  <thead>\n",
              "    <tr style=\"text-align: right;\">\n",
              "      <th></th>\n",
              "      <th>true</th>\n",
              "      <th>uplift</th>\n",
              "      <th>treat</th>\n",
              "    </tr>\n",
              "    <tr>\n",
              "      <th>client_id</th>\n",
              "      <th></th>\n",
              "      <th></th>\n",
              "      <th></th>\n",
              "    </tr>\n",
              "  </thead>\n",
              "  <tbody>\n",
              "    <tr>\n",
              "      <th>a9a604ed6e</th>\n",
              "      <td>0</td>\n",
              "      <td>-0.002221</td>\n",
              "      <td>1</td>\n",
              "    </tr>\n",
              "    <tr>\n",
              "      <th>ebd7360016</th>\n",
              "      <td>1</td>\n",
              "      <td>0.044462</td>\n",
              "      <td>0</td>\n",
              "    </tr>\n",
              "    <tr>\n",
              "      <th>908cd9b8e8</th>\n",
              "      <td>1</td>\n",
              "      <td>0.055119</td>\n",
              "      <td>1</td>\n",
              "    </tr>\n",
              "    <tr>\n",
              "      <th>dceb8ce861</th>\n",
              "      <td>0</td>\n",
              "      <td>0.012658</td>\n",
              "      <td>0</td>\n",
              "    </tr>\n",
              "    <tr>\n",
              "      <th>f4f0ac6b06</th>\n",
              "      <td>0</td>\n",
              "      <td>0.018084</td>\n",
              "      <td>0</td>\n",
              "    </tr>\n",
              "    <tr>\n",
              "      <th>5047ab8574</th>\n",
              "      <td>0</td>\n",
              "      <td>0.026925</td>\n",
              "      <td>1</td>\n",
              "    </tr>\n",
              "    <tr>\n",
              "      <th>e3574a0076</th>\n",
              "      <td>1</td>\n",
              "      <td>0.033572</td>\n",
              "      <td>1</td>\n",
              "    </tr>\n",
              "    <tr>\n",
              "      <th>4789764e7d</th>\n",
              "      <td>0</td>\n",
              "      <td>0.018636</td>\n",
              "      <td>1</td>\n",
              "    </tr>\n",
              "    <tr>\n",
              "      <th>7e66529579</th>\n",
              "      <td>1</td>\n",
              "      <td>0.027664</td>\n",
              "      <td>1</td>\n",
              "    </tr>\n",
              "    <tr>\n",
              "      <th>5f9a02e6a5</th>\n",
              "      <td>1</td>\n",
              "      <td>0.029808</td>\n",
              "      <td>0</td>\n",
              "    </tr>\n",
              "    <tr>\n",
              "      <th>81486dfd30</th>\n",
              "      <td>1</td>\n",
              "      <td>0.025498</td>\n",
              "      <td>0</td>\n",
              "    </tr>\n",
              "    <tr>\n",
              "      <th>6a73b7e876</th>\n",
              "      <td>0</td>\n",
              "      <td>0.013205</td>\n",
              "      <td>0</td>\n",
              "    </tr>\n",
              "    <tr>\n",
              "      <th>2c1ea1e175</th>\n",
              "      <td>1</td>\n",
              "      <td>0.039352</td>\n",
              "      <td>0</td>\n",
              "    </tr>\n",
              "    <tr>\n",
              "      <th>c06b0ec579</th>\n",
              "      <td>1</td>\n",
              "      <td>-0.024277</td>\n",
              "      <td>1</td>\n",
              "    </tr>\n",
              "    <tr>\n",
              "      <th>2c90382a10</th>\n",
              "      <td>1</td>\n",
              "      <td>0.026808</td>\n",
              "      <td>0</td>\n",
              "    </tr>\n",
              "  </tbody>\n",
              "</table>\n",
              "</div>\n",
              "      <button class=\"colab-df-convert\" onclick=\"convertToInteractive('df-cc10580f-b519-400f-a201-bfbab8e14841')\"\n",
              "              title=\"Convert this dataframe to an interactive table.\"\n",
              "              style=\"display:none;\">\n",
              "        \n",
              "  <svg xmlns=\"http://www.w3.org/2000/svg\" height=\"24px\"viewBox=\"0 0 24 24\"\n",
              "       width=\"24px\">\n",
              "    <path d=\"M0 0h24v24H0V0z\" fill=\"none\"/>\n",
              "    <path d=\"M18.56 5.44l.94 2.06.94-2.06 2.06-.94-2.06-.94-.94-2.06-.94 2.06-2.06.94zm-11 1L8.5 8.5l.94-2.06 2.06-.94-2.06-.94L8.5 2.5l-.94 2.06-2.06.94zm10 10l.94 2.06.94-2.06 2.06-.94-2.06-.94-.94-2.06-.94 2.06-2.06.94z\"/><path d=\"M17.41 7.96l-1.37-1.37c-.4-.4-.92-.59-1.43-.59-.52 0-1.04.2-1.43.59L10.3 9.45l-7.72 7.72c-.78.78-.78 2.05 0 2.83L4 21.41c.39.39.9.59 1.41.59.51 0 1.02-.2 1.41-.59l7.78-7.78 2.81-2.81c.8-.78.8-2.07 0-2.86zM5.41 20L4 18.59l7.72-7.72 1.47 1.35L5.41 20z\"/>\n",
              "  </svg>\n",
              "      </button>\n",
              "      \n",
              "  <style>\n",
              "    .colab-df-container {\n",
              "      display:flex;\n",
              "      flex-wrap:wrap;\n",
              "      gap: 12px;\n",
              "    }\n",
              "\n",
              "    .colab-df-convert {\n",
              "      background-color: #E8F0FE;\n",
              "      border: none;\n",
              "      border-radius: 50%;\n",
              "      cursor: pointer;\n",
              "      display: none;\n",
              "      fill: #1967D2;\n",
              "      height: 32px;\n",
              "      padding: 0 0 0 0;\n",
              "      width: 32px;\n",
              "    }\n",
              "\n",
              "    .colab-df-convert:hover {\n",
              "      background-color: #E2EBFA;\n",
              "      box-shadow: 0px 1px 2px rgba(60, 64, 67, 0.3), 0px 1px 3px 1px rgba(60, 64, 67, 0.15);\n",
              "      fill: #174EA6;\n",
              "    }\n",
              "\n",
              "    [theme=dark] .colab-df-convert {\n",
              "      background-color: #3B4455;\n",
              "      fill: #D2E3FC;\n",
              "    }\n",
              "\n",
              "    [theme=dark] .colab-df-convert:hover {\n",
              "      background-color: #434B5C;\n",
              "      box-shadow: 0px 1px 3px 1px rgba(0, 0, 0, 0.15);\n",
              "      filter: drop-shadow(0px 1px 2px rgba(0, 0, 0, 0.3));\n",
              "      fill: #FFFFFF;\n",
              "    }\n",
              "  </style>\n",
              "\n",
              "      <script>\n",
              "        const buttonEl =\n",
              "          document.querySelector('#df-cc10580f-b519-400f-a201-bfbab8e14841 button.colab-df-convert');\n",
              "        buttonEl.style.display =\n",
              "          google.colab.kernel.accessAllowed ? 'block' : 'none';\n",
              "\n",
              "        async function convertToInteractive(key) {\n",
              "          const element = document.querySelector('#df-cc10580f-b519-400f-a201-bfbab8e14841');\n",
              "          const dataTable =\n",
              "            await google.colab.kernel.invokeFunction('convertToInteractive',\n",
              "                                                     [key], {});\n",
              "          if (!dataTable) return;\n",
              "\n",
              "          const docLinkHtml = 'Like what you see? Visit the ' +\n",
              "            '<a target=\"_blank\" href=https://colab.research.google.com/notebooks/data_table.ipynb>data table notebook</a>'\n",
              "            + ' to learn more about interactive tables.';\n",
              "          element.innerHTML = '';\n",
              "          dataTable['output_type'] = 'display_data';\n",
              "          await google.colab.output.renderOutput(dataTable, element);\n",
              "          const docLink = document.createElement('div');\n",
              "          docLink.innerHTML = docLinkHtml;\n",
              "          element.appendChild(docLink);\n",
              "        }\n",
              "      </script>\n",
              "    </div>\n",
              "  </div>\n",
              "  "
            ]
          },
          "metadata": {},
          "execution_count": 18
        }
      ]
    },
    {
      "cell_type": "markdown",
      "source": [
        "**strategy='overall'**\n"
      ],
      "metadata": {
        "id": "4j8Mjr0D_y8r"
      }
    },
    {
      "cell_type": "code",
      "source": [
        "k = 0.7\n",
        "\n",
        "uplift_at_k(y_true=df['true'], uplift=df['uplift'], treatment=df['treat'],\n",
        "            # strategy='by_group',\n",
        "            strategy='overall',\n",
        "            k=k)"
      ],
      "metadata": {
        "colab": {
          "base_uri": "https://localhost:8080/"
        },
        "id": "BmdLyeBA9735",
        "outputId": "f06ab866-0f6e-419f-a792-a780ba126528"
      },
      "execution_count": null,
      "outputs": [
        {
          "output_type": "execute_result",
          "data": {
            "text/plain": [
              "-0.4"
            ]
          },
          "metadata": {},
          "execution_count": 19
        }
      ]
    },
    {
      "cell_type": "code",
      "source": [
        "df_k = df.sort_values(by='uplift', ascending=False).head(int(n * k))\n",
        "df_k"
      ],
      "metadata": {
        "colab": {
          "base_uri": "https://localhost:8080/",
          "height": 394
        },
        "id": "X_idZSAQ_Hvu",
        "outputId": "9988d37d-b8b9-44e7-9975-adf0ee83a784"
      },
      "execution_count": null,
      "outputs": [
        {
          "output_type": "execute_result",
          "data": {
            "text/plain": [
              "            true    uplift  treat\n",
              "client_id                        \n",
              "908cd9b8e8     1  0.055119      1\n",
              "ebd7360016     1  0.044462      0\n",
              "2c1ea1e175     1  0.039352      0\n",
              "e3574a0076     1  0.033572      1\n",
              "5f9a02e6a5     1  0.029808      0\n",
              "7e66529579     1  0.027664      1\n",
              "5047ab8574     0  0.026925      1\n",
              "2c90382a10     1  0.026808      0\n",
              "81486dfd30     1  0.025498      0\n",
              "4789764e7d     0  0.018636      1"
            ],
            "text/html": [
              "\n",
              "  <div id=\"df-9561871e-b0f0-424d-b34a-bc77f661b25b\">\n",
              "    <div class=\"colab-df-container\">\n",
              "      <div>\n",
              "<style scoped>\n",
              "    .dataframe tbody tr th:only-of-type {\n",
              "        vertical-align: middle;\n",
              "    }\n",
              "\n",
              "    .dataframe tbody tr th {\n",
              "        vertical-align: top;\n",
              "    }\n",
              "\n",
              "    .dataframe thead th {\n",
              "        text-align: right;\n",
              "    }\n",
              "</style>\n",
              "<table border=\"1\" class=\"dataframe\">\n",
              "  <thead>\n",
              "    <tr style=\"text-align: right;\">\n",
              "      <th></th>\n",
              "      <th>true</th>\n",
              "      <th>uplift</th>\n",
              "      <th>treat</th>\n",
              "    </tr>\n",
              "    <tr>\n",
              "      <th>client_id</th>\n",
              "      <th></th>\n",
              "      <th></th>\n",
              "      <th></th>\n",
              "    </tr>\n",
              "  </thead>\n",
              "  <tbody>\n",
              "    <tr>\n",
              "      <th>908cd9b8e8</th>\n",
              "      <td>1</td>\n",
              "      <td>0.055119</td>\n",
              "      <td>1</td>\n",
              "    </tr>\n",
              "    <tr>\n",
              "      <th>ebd7360016</th>\n",
              "      <td>1</td>\n",
              "      <td>0.044462</td>\n",
              "      <td>0</td>\n",
              "    </tr>\n",
              "    <tr>\n",
              "      <th>2c1ea1e175</th>\n",
              "      <td>1</td>\n",
              "      <td>0.039352</td>\n",
              "      <td>0</td>\n",
              "    </tr>\n",
              "    <tr>\n",
              "      <th>e3574a0076</th>\n",
              "      <td>1</td>\n",
              "      <td>0.033572</td>\n",
              "      <td>1</td>\n",
              "    </tr>\n",
              "    <tr>\n",
              "      <th>5f9a02e6a5</th>\n",
              "      <td>1</td>\n",
              "      <td>0.029808</td>\n",
              "      <td>0</td>\n",
              "    </tr>\n",
              "    <tr>\n",
              "      <th>7e66529579</th>\n",
              "      <td>1</td>\n",
              "      <td>0.027664</td>\n",
              "      <td>1</td>\n",
              "    </tr>\n",
              "    <tr>\n",
              "      <th>5047ab8574</th>\n",
              "      <td>0</td>\n",
              "      <td>0.026925</td>\n",
              "      <td>1</td>\n",
              "    </tr>\n",
              "    <tr>\n",
              "      <th>2c90382a10</th>\n",
              "      <td>1</td>\n",
              "      <td>0.026808</td>\n",
              "      <td>0</td>\n",
              "    </tr>\n",
              "    <tr>\n",
              "      <th>81486dfd30</th>\n",
              "      <td>1</td>\n",
              "      <td>0.025498</td>\n",
              "      <td>0</td>\n",
              "    </tr>\n",
              "    <tr>\n",
              "      <th>4789764e7d</th>\n",
              "      <td>0</td>\n",
              "      <td>0.018636</td>\n",
              "      <td>1</td>\n",
              "    </tr>\n",
              "  </tbody>\n",
              "</table>\n",
              "</div>\n",
              "      <button class=\"colab-df-convert\" onclick=\"convertToInteractive('df-9561871e-b0f0-424d-b34a-bc77f661b25b')\"\n",
              "              title=\"Convert this dataframe to an interactive table.\"\n",
              "              style=\"display:none;\">\n",
              "        \n",
              "  <svg xmlns=\"http://www.w3.org/2000/svg\" height=\"24px\"viewBox=\"0 0 24 24\"\n",
              "       width=\"24px\">\n",
              "    <path d=\"M0 0h24v24H0V0z\" fill=\"none\"/>\n",
              "    <path d=\"M18.56 5.44l.94 2.06.94-2.06 2.06-.94-2.06-.94-.94-2.06-.94 2.06-2.06.94zm-11 1L8.5 8.5l.94-2.06 2.06-.94-2.06-.94L8.5 2.5l-.94 2.06-2.06.94zm10 10l.94 2.06.94-2.06 2.06-.94-2.06-.94-.94-2.06-.94 2.06-2.06.94z\"/><path d=\"M17.41 7.96l-1.37-1.37c-.4-.4-.92-.59-1.43-.59-.52 0-1.04.2-1.43.59L10.3 9.45l-7.72 7.72c-.78.78-.78 2.05 0 2.83L4 21.41c.39.39.9.59 1.41.59.51 0 1.02-.2 1.41-.59l7.78-7.78 2.81-2.81c.8-.78.8-2.07 0-2.86zM5.41 20L4 18.59l7.72-7.72 1.47 1.35L5.41 20z\"/>\n",
              "  </svg>\n",
              "      </button>\n",
              "      \n",
              "  <style>\n",
              "    .colab-df-container {\n",
              "      display:flex;\n",
              "      flex-wrap:wrap;\n",
              "      gap: 12px;\n",
              "    }\n",
              "\n",
              "    .colab-df-convert {\n",
              "      background-color: #E8F0FE;\n",
              "      border: none;\n",
              "      border-radius: 50%;\n",
              "      cursor: pointer;\n",
              "      display: none;\n",
              "      fill: #1967D2;\n",
              "      height: 32px;\n",
              "      padding: 0 0 0 0;\n",
              "      width: 32px;\n",
              "    }\n",
              "\n",
              "    .colab-df-convert:hover {\n",
              "      background-color: #E2EBFA;\n",
              "      box-shadow: 0px 1px 2px rgba(60, 64, 67, 0.3), 0px 1px 3px 1px rgba(60, 64, 67, 0.15);\n",
              "      fill: #174EA6;\n",
              "    }\n",
              "\n",
              "    [theme=dark] .colab-df-convert {\n",
              "      background-color: #3B4455;\n",
              "      fill: #D2E3FC;\n",
              "    }\n",
              "\n",
              "    [theme=dark] .colab-df-convert:hover {\n",
              "      background-color: #434B5C;\n",
              "      box-shadow: 0px 1px 3px 1px rgba(0, 0, 0, 0.15);\n",
              "      filter: drop-shadow(0px 1px 2px rgba(0, 0, 0, 0.3));\n",
              "      fill: #FFFFFF;\n",
              "    }\n",
              "  </style>\n",
              "\n",
              "      <script>\n",
              "        const buttonEl =\n",
              "          document.querySelector('#df-9561871e-b0f0-424d-b34a-bc77f661b25b button.colab-df-convert');\n",
              "        buttonEl.style.display =\n",
              "          google.colab.kernel.accessAllowed ? 'block' : 'none';\n",
              "\n",
              "        async function convertToInteractive(key) {\n",
              "          const element = document.querySelector('#df-9561871e-b0f0-424d-b34a-bc77f661b25b');\n",
              "          const dataTable =\n",
              "            await google.colab.kernel.invokeFunction('convertToInteractive',\n",
              "                                                     [key], {});\n",
              "          if (!dataTable) return;\n",
              "\n",
              "          const docLinkHtml = 'Like what you see? Visit the ' +\n",
              "            '<a target=\"_blank\" href=https://colab.research.google.com/notebooks/data_table.ipynb>data table notebook</a>'\n",
              "            + ' to learn more about interactive tables.';\n",
              "          element.innerHTML = '';\n",
              "          dataTable['output_type'] = 'display_data';\n",
              "          await google.colab.output.renderOutput(dataTable, element);\n",
              "          const docLink = document.createElement('div');\n",
              "          docLink.innerHTML = docLinkHtml;\n",
              "          element.appendChild(docLink);\n",
              "        }\n",
              "      </script>\n",
              "    </div>\n",
              "  </div>\n",
              "  "
            ]
          },
          "metadata": {},
          "execution_count": 20
        }
      ]
    },
    {
      "cell_type": "code",
      "source": [
        "response_rate_treat = df_k[(df_k.treat == 1)].true.mean()\n",
        "response_rate_control = df_k[(df_k.treat == 0)].true.mean()\n",
        "response_rate_treat - response_rate_control"
      ],
      "metadata": {
        "colab": {
          "base_uri": "https://localhost:8080/"
        },
        "id": "qbqFuXUb_W6Z",
        "outputId": "11ec6765-10bc-4325-a84d-d741ef8c93d2"
      },
      "execution_count": null,
      "outputs": [
        {
          "output_type": "execute_result",
          "data": {
            "text/plain": [
              "-0.4"
            ]
          },
          "metadata": {},
          "execution_count": 21
        }
      ]
    },
    {
      "cell_type": "markdown",
      "source": [
        "**strategy='by_group'**\n"
      ],
      "metadata": {
        "id": "2z7j0We4ARor"
      }
    },
    {
      "cell_type": "code",
      "source": [
        "k = 5\n",
        "uplift_at_k(y_true=df['true'], uplift=df['uplift'], treatment=df['treat'],\n",
        "            strategy='by_group',\n",
        "            # strategy='overall',\n",
        "            k=k)"
      ],
      "metadata": {
        "colab": {
          "base_uri": "https://localhost:8080/"
        },
        "outputId": "26488f2e-db6f-4464-aba5-fd5679cd2a06",
        "id": "pfa75aTlARoy"
      },
      "execution_count": null,
      "outputs": [
        {
          "output_type": "execute_result",
          "data": {
            "text/plain": [
              "-0.4"
            ]
          },
          "metadata": {},
          "execution_count": 22
        }
      ]
    },
    {
      "cell_type": "code",
      "source": [
        "df_k_treat = df[df.treat == 1]\n",
        "df_k_treat = df_k_treat.sort_values(by='uplift', ascending=False).head(k)\n",
        "\n",
        "df_k_control = df[df.treat == 0]\n",
        "df_k_control = df_k_control.sort_values(by='uplift', ascending=False).head(k)\n",
        "\n",
        "df_k_treat"
      ],
      "metadata": {
        "colab": {
          "base_uri": "https://localhost:8080/",
          "height": 238
        },
        "outputId": "427c63a5-daa8-474b-e948-ce0cf43e1560",
        "id": "hLFnzTe6ARo0"
      },
      "execution_count": null,
      "outputs": [
        {
          "output_type": "execute_result",
          "data": {
            "text/plain": [
              "            true    uplift  treat\n",
              "client_id                        \n",
              "908cd9b8e8     1  0.055119      1\n",
              "e3574a0076     1  0.033572      1\n",
              "7e66529579     1  0.027664      1\n",
              "5047ab8574     0  0.026925      1\n",
              "4789764e7d     0  0.018636      1"
            ],
            "text/html": [
              "\n",
              "  <div id=\"df-d68e6f61-7c05-4538-8112-d6126754655d\">\n",
              "    <div class=\"colab-df-container\">\n",
              "      <div>\n",
              "<style scoped>\n",
              "    .dataframe tbody tr th:only-of-type {\n",
              "        vertical-align: middle;\n",
              "    }\n",
              "\n",
              "    .dataframe tbody tr th {\n",
              "        vertical-align: top;\n",
              "    }\n",
              "\n",
              "    .dataframe thead th {\n",
              "        text-align: right;\n",
              "    }\n",
              "</style>\n",
              "<table border=\"1\" class=\"dataframe\">\n",
              "  <thead>\n",
              "    <tr style=\"text-align: right;\">\n",
              "      <th></th>\n",
              "      <th>true</th>\n",
              "      <th>uplift</th>\n",
              "      <th>treat</th>\n",
              "    </tr>\n",
              "    <tr>\n",
              "      <th>client_id</th>\n",
              "      <th></th>\n",
              "      <th></th>\n",
              "      <th></th>\n",
              "    </tr>\n",
              "  </thead>\n",
              "  <tbody>\n",
              "    <tr>\n",
              "      <th>908cd9b8e8</th>\n",
              "      <td>1</td>\n",
              "      <td>0.055119</td>\n",
              "      <td>1</td>\n",
              "    </tr>\n",
              "    <tr>\n",
              "      <th>e3574a0076</th>\n",
              "      <td>1</td>\n",
              "      <td>0.033572</td>\n",
              "      <td>1</td>\n",
              "    </tr>\n",
              "    <tr>\n",
              "      <th>7e66529579</th>\n",
              "      <td>1</td>\n",
              "      <td>0.027664</td>\n",
              "      <td>1</td>\n",
              "    </tr>\n",
              "    <tr>\n",
              "      <th>5047ab8574</th>\n",
              "      <td>0</td>\n",
              "      <td>0.026925</td>\n",
              "      <td>1</td>\n",
              "    </tr>\n",
              "    <tr>\n",
              "      <th>4789764e7d</th>\n",
              "      <td>0</td>\n",
              "      <td>0.018636</td>\n",
              "      <td>1</td>\n",
              "    </tr>\n",
              "  </tbody>\n",
              "</table>\n",
              "</div>\n",
              "      <button class=\"colab-df-convert\" onclick=\"convertToInteractive('df-d68e6f61-7c05-4538-8112-d6126754655d')\"\n",
              "              title=\"Convert this dataframe to an interactive table.\"\n",
              "              style=\"display:none;\">\n",
              "        \n",
              "  <svg xmlns=\"http://www.w3.org/2000/svg\" height=\"24px\"viewBox=\"0 0 24 24\"\n",
              "       width=\"24px\">\n",
              "    <path d=\"M0 0h24v24H0V0z\" fill=\"none\"/>\n",
              "    <path d=\"M18.56 5.44l.94 2.06.94-2.06 2.06-.94-2.06-.94-.94-2.06-.94 2.06-2.06.94zm-11 1L8.5 8.5l.94-2.06 2.06-.94-2.06-.94L8.5 2.5l-.94 2.06-2.06.94zm10 10l.94 2.06.94-2.06 2.06-.94-2.06-.94-.94-2.06-.94 2.06-2.06.94z\"/><path d=\"M17.41 7.96l-1.37-1.37c-.4-.4-.92-.59-1.43-.59-.52 0-1.04.2-1.43.59L10.3 9.45l-7.72 7.72c-.78.78-.78 2.05 0 2.83L4 21.41c.39.39.9.59 1.41.59.51 0 1.02-.2 1.41-.59l7.78-7.78 2.81-2.81c.8-.78.8-2.07 0-2.86zM5.41 20L4 18.59l7.72-7.72 1.47 1.35L5.41 20z\"/>\n",
              "  </svg>\n",
              "      </button>\n",
              "      \n",
              "  <style>\n",
              "    .colab-df-container {\n",
              "      display:flex;\n",
              "      flex-wrap:wrap;\n",
              "      gap: 12px;\n",
              "    }\n",
              "\n",
              "    .colab-df-convert {\n",
              "      background-color: #E8F0FE;\n",
              "      border: none;\n",
              "      border-radius: 50%;\n",
              "      cursor: pointer;\n",
              "      display: none;\n",
              "      fill: #1967D2;\n",
              "      height: 32px;\n",
              "      padding: 0 0 0 0;\n",
              "      width: 32px;\n",
              "    }\n",
              "\n",
              "    .colab-df-convert:hover {\n",
              "      background-color: #E2EBFA;\n",
              "      box-shadow: 0px 1px 2px rgba(60, 64, 67, 0.3), 0px 1px 3px 1px rgba(60, 64, 67, 0.15);\n",
              "      fill: #174EA6;\n",
              "    }\n",
              "\n",
              "    [theme=dark] .colab-df-convert {\n",
              "      background-color: #3B4455;\n",
              "      fill: #D2E3FC;\n",
              "    }\n",
              "\n",
              "    [theme=dark] .colab-df-convert:hover {\n",
              "      background-color: #434B5C;\n",
              "      box-shadow: 0px 1px 3px 1px rgba(0, 0, 0, 0.15);\n",
              "      filter: drop-shadow(0px 1px 2px rgba(0, 0, 0, 0.3));\n",
              "      fill: #FFFFFF;\n",
              "    }\n",
              "  </style>\n",
              "\n",
              "      <script>\n",
              "        const buttonEl =\n",
              "          document.querySelector('#df-d68e6f61-7c05-4538-8112-d6126754655d button.colab-df-convert');\n",
              "        buttonEl.style.display =\n",
              "          google.colab.kernel.accessAllowed ? 'block' : 'none';\n",
              "\n",
              "        async function convertToInteractive(key) {\n",
              "          const element = document.querySelector('#df-d68e6f61-7c05-4538-8112-d6126754655d');\n",
              "          const dataTable =\n",
              "            await google.colab.kernel.invokeFunction('convertToInteractive',\n",
              "                                                     [key], {});\n",
              "          if (!dataTable) return;\n",
              "\n",
              "          const docLinkHtml = 'Like what you see? Visit the ' +\n",
              "            '<a target=\"_blank\" href=https://colab.research.google.com/notebooks/data_table.ipynb>data table notebook</a>'\n",
              "            + ' to learn more about interactive tables.';\n",
              "          element.innerHTML = '';\n",
              "          dataTable['output_type'] = 'display_data';\n",
              "          await google.colab.output.renderOutput(dataTable, element);\n",
              "          const docLink = document.createElement('div');\n",
              "          docLink.innerHTML = docLinkHtml;\n",
              "          element.appendChild(docLink);\n",
              "        }\n",
              "      </script>\n",
              "    </div>\n",
              "  </div>\n",
              "  "
            ]
          },
          "metadata": {},
          "execution_count": 23
        }
      ]
    },
    {
      "cell_type": "code",
      "source": [
        "df_k_control"
      ],
      "metadata": {
        "colab": {
          "base_uri": "https://localhost:8080/",
          "height": 238
        },
        "id": "QuF6_BVxAsIY",
        "outputId": "5ad0b172-48ae-49c1-adce-ec5d66c59c15"
      },
      "execution_count": null,
      "outputs": [
        {
          "output_type": "execute_result",
          "data": {
            "text/plain": [
              "            true    uplift  treat\n",
              "client_id                        \n",
              "ebd7360016     1  0.044462      0\n",
              "2c1ea1e175     1  0.039352      0\n",
              "5f9a02e6a5     1  0.029808      0\n",
              "2c90382a10     1  0.026808      0\n",
              "81486dfd30     1  0.025498      0"
            ],
            "text/html": [
              "\n",
              "  <div id=\"df-a94b1ab3-24cd-4b77-83b6-8e32129e003d\">\n",
              "    <div class=\"colab-df-container\">\n",
              "      <div>\n",
              "<style scoped>\n",
              "    .dataframe tbody tr th:only-of-type {\n",
              "        vertical-align: middle;\n",
              "    }\n",
              "\n",
              "    .dataframe tbody tr th {\n",
              "        vertical-align: top;\n",
              "    }\n",
              "\n",
              "    .dataframe thead th {\n",
              "        text-align: right;\n",
              "    }\n",
              "</style>\n",
              "<table border=\"1\" class=\"dataframe\">\n",
              "  <thead>\n",
              "    <tr style=\"text-align: right;\">\n",
              "      <th></th>\n",
              "      <th>true</th>\n",
              "      <th>uplift</th>\n",
              "      <th>treat</th>\n",
              "    </tr>\n",
              "    <tr>\n",
              "      <th>client_id</th>\n",
              "      <th></th>\n",
              "      <th></th>\n",
              "      <th></th>\n",
              "    </tr>\n",
              "  </thead>\n",
              "  <tbody>\n",
              "    <tr>\n",
              "      <th>ebd7360016</th>\n",
              "      <td>1</td>\n",
              "      <td>0.044462</td>\n",
              "      <td>0</td>\n",
              "    </tr>\n",
              "    <tr>\n",
              "      <th>2c1ea1e175</th>\n",
              "      <td>1</td>\n",
              "      <td>0.039352</td>\n",
              "      <td>0</td>\n",
              "    </tr>\n",
              "    <tr>\n",
              "      <th>5f9a02e6a5</th>\n",
              "      <td>1</td>\n",
              "      <td>0.029808</td>\n",
              "      <td>0</td>\n",
              "    </tr>\n",
              "    <tr>\n",
              "      <th>2c90382a10</th>\n",
              "      <td>1</td>\n",
              "      <td>0.026808</td>\n",
              "      <td>0</td>\n",
              "    </tr>\n",
              "    <tr>\n",
              "      <th>81486dfd30</th>\n",
              "      <td>1</td>\n",
              "      <td>0.025498</td>\n",
              "      <td>0</td>\n",
              "    </tr>\n",
              "  </tbody>\n",
              "</table>\n",
              "</div>\n",
              "      <button class=\"colab-df-convert\" onclick=\"convertToInteractive('df-a94b1ab3-24cd-4b77-83b6-8e32129e003d')\"\n",
              "              title=\"Convert this dataframe to an interactive table.\"\n",
              "              style=\"display:none;\">\n",
              "        \n",
              "  <svg xmlns=\"http://www.w3.org/2000/svg\" height=\"24px\"viewBox=\"0 0 24 24\"\n",
              "       width=\"24px\">\n",
              "    <path d=\"M0 0h24v24H0V0z\" fill=\"none\"/>\n",
              "    <path d=\"M18.56 5.44l.94 2.06.94-2.06 2.06-.94-2.06-.94-.94-2.06-.94 2.06-2.06.94zm-11 1L8.5 8.5l.94-2.06 2.06-.94-2.06-.94L8.5 2.5l-.94 2.06-2.06.94zm10 10l.94 2.06.94-2.06 2.06-.94-2.06-.94-.94-2.06-.94 2.06-2.06.94z\"/><path d=\"M17.41 7.96l-1.37-1.37c-.4-.4-.92-.59-1.43-.59-.52 0-1.04.2-1.43.59L10.3 9.45l-7.72 7.72c-.78.78-.78 2.05 0 2.83L4 21.41c.39.39.9.59 1.41.59.51 0 1.02-.2 1.41-.59l7.78-7.78 2.81-2.81c.8-.78.8-2.07 0-2.86zM5.41 20L4 18.59l7.72-7.72 1.47 1.35L5.41 20z\"/>\n",
              "  </svg>\n",
              "      </button>\n",
              "      \n",
              "  <style>\n",
              "    .colab-df-container {\n",
              "      display:flex;\n",
              "      flex-wrap:wrap;\n",
              "      gap: 12px;\n",
              "    }\n",
              "\n",
              "    .colab-df-convert {\n",
              "      background-color: #E8F0FE;\n",
              "      border: none;\n",
              "      border-radius: 50%;\n",
              "      cursor: pointer;\n",
              "      display: none;\n",
              "      fill: #1967D2;\n",
              "      height: 32px;\n",
              "      padding: 0 0 0 0;\n",
              "      width: 32px;\n",
              "    }\n",
              "\n",
              "    .colab-df-convert:hover {\n",
              "      background-color: #E2EBFA;\n",
              "      box-shadow: 0px 1px 2px rgba(60, 64, 67, 0.3), 0px 1px 3px 1px rgba(60, 64, 67, 0.15);\n",
              "      fill: #174EA6;\n",
              "    }\n",
              "\n",
              "    [theme=dark] .colab-df-convert {\n",
              "      background-color: #3B4455;\n",
              "      fill: #D2E3FC;\n",
              "    }\n",
              "\n",
              "    [theme=dark] .colab-df-convert:hover {\n",
              "      background-color: #434B5C;\n",
              "      box-shadow: 0px 1px 3px 1px rgba(0, 0, 0, 0.15);\n",
              "      filter: drop-shadow(0px 1px 2px rgba(0, 0, 0, 0.3));\n",
              "      fill: #FFFFFF;\n",
              "    }\n",
              "  </style>\n",
              "\n",
              "      <script>\n",
              "        const buttonEl =\n",
              "          document.querySelector('#df-a94b1ab3-24cd-4b77-83b6-8e32129e003d button.colab-df-convert');\n",
              "        buttonEl.style.display =\n",
              "          google.colab.kernel.accessAllowed ? 'block' : 'none';\n",
              "\n",
              "        async function convertToInteractive(key) {\n",
              "          const element = document.querySelector('#df-a94b1ab3-24cd-4b77-83b6-8e32129e003d');\n",
              "          const dataTable =\n",
              "            await google.colab.kernel.invokeFunction('convertToInteractive',\n",
              "                                                     [key], {});\n",
              "          if (!dataTable) return;\n",
              "\n",
              "          const docLinkHtml = 'Like what you see? Visit the ' +\n",
              "            '<a target=\"_blank\" href=https://colab.research.google.com/notebooks/data_table.ipynb>data table notebook</a>'\n",
              "            + ' to learn more about interactive tables.';\n",
              "          element.innerHTML = '';\n",
              "          dataTable['output_type'] = 'display_data';\n",
              "          await google.colab.output.renderOutput(dataTable, element);\n",
              "          const docLink = document.createElement('div');\n",
              "          docLink.innerHTML = docLinkHtml;\n",
              "          element.appendChild(docLink);\n",
              "        }\n",
              "      </script>\n",
              "    </div>\n",
              "  </div>\n",
              "  "
            ]
          },
          "metadata": {},
          "execution_count": 24
        }
      ]
    },
    {
      "cell_type": "code",
      "source": [
        "response_rate_treat = df_k_treat.true.mean()\n",
        "response_rate_control = df_k_control.true.mean()\n",
        "response_rate_treat - response_rate_control"
      ],
      "metadata": {
        "colab": {
          "base_uri": "https://localhost:8080/"
        },
        "outputId": "386dbbc2-6c73-4f73-bfb2-40187c262e0c",
        "id": "08kVEW7HARo1"
      },
      "execution_count": null,
      "outputs": [
        {
          "output_type": "execute_result",
          "data": {
            "text/plain": [
              "-0.4"
            ]
          },
          "metadata": {},
          "execution_count": 25
        }
      ]
    },
    {
      "cell_type": "markdown",
      "source": [
        "##### Uplift curve\n",
        "\n",
        "$$uplift \\space curve(t) = (\\frac{Y^T_t}{N^T_t} - \\frac{Y^C_t}{N^C_t})(N^T_t + N^C_t) $$\n",
        "$t$ - накопившиеся количество объектов<br>\n",
        "$Y^T_t, Y^C_t$ - таргет в treatment и control группах<br>\n",
        "$N^T_t, N^C_t$ - размер treatment и control групп<br>\n",
        "\n",
        "\n",
        "Uplift кривая строится как функция от количества объектов, нарастающим итогом. В каждой точке кривой можно увидеть накопленный к этому моменту uplift\n",
        "\n",
        "На картинке ниже расположен типичный график идеальной, модельной и случайной кривых. Каждая точка на такой кривой соответствует значению кумулятивного uplift. Чем больше это значение, тем лучше. Монотонно возрастающая случайная кривая показывает, что воздействие всей выборки имеет общий положительный эффект. "
      ],
      "metadata": {
        "id": "YNbKJQCJa-lL"
      }
    },
    {
      "cell_type": "code",
      "source": [
        "from sklift.viz import plot_uplift_curve\n",
        "\n",
        "\n",
        "# with ideal curve\n",
        "# perfect=True\n",
        "plot_uplift_curve(\n",
        "    y_val, uplift_sm, treat_val, \n",
        "    # perfect=True,\n",
        "    perfect=False\n",
        ");"
      ],
      "metadata": {
        "colab": {
          "base_uri": "https://localhost:8080/",
          "height": 279
        },
        "id": "W9z0JstBGso-",
        "outputId": "fce3b5c5-e17f-4cee-da82-1ff24776d41b"
      },
      "execution_count": null,
      "outputs": [
        {
          "output_type": "display_data",
          "data": {
            "text/plain": [
              "<Figure size 432x288 with 1 Axes>"
            ],
            "image/png": "[encoded data removed]"
          },
          "metadata": {
            "needs_background": "light"
          }
        }
      ]
    },
    {
      "cell_type": "markdown",
      "source": [
        "##### Qini curve\n",
        "Еще одной довольно распространенной кривой при оценке uplift моделей является Qini кривая.\n",
        "\n",
        "$$qini\\ curve (t) = Y^T_t - \\frac{Y^C_t N^T_t}{N^C_t}$$\n",
        "\n",
        "$Y^T_t, Y^C_t$ - таргет в treatment и control группе<br>\n",
        "$N^T_t, N^C_t$ - размер treatment и control групп\n",
        "\n",
        "\n",
        "\n",
        "Qini curve, как и другие аплифт метрики, рассчитывается кумулятивно сразу для набора объектов. Кривую Qini для модели тоже сравнивают со случайной кривой и с идеальным случаем. Аналогично с uplift кривой, чем выше кривая над случайной кривой, тем лучше. "
      ],
      "metadata": {
        "id": "pK_BHHsRc-K1"
      }
    },
    {
      "cell_type": "code",
      "source": [
        "from sklift.viz import plot_qini_curve\n",
        "\n",
        "\n",
        "# with ideal Qini curve (red line)\n",
        "# perfect=True\n",
        "plot_qini_curve(\n",
        "    y_val, uplift_sm, treat_val,\n",
        "    # perfect=True\n",
        "    perfect=False\n",
        ");"
      ],
      "metadata": {
        "colab": {
          "base_uri": "https://localhost:8080/",
          "height": 279
        },
        "id": "Qc88-7T7G53V",
        "outputId": "209aed2d-2a53-4a00-bf1f-c0bdaf31f95f"
      },
      "execution_count": null,
      "outputs": [
        {
          "output_type": "display_data",
          "data": {
            "text/plain": [
              "<Figure size 432x288 with 1 Axes>"
            ],
            "image/png": "[encoded data removed]"
          },
          "metadata": {
            "needs_background": "light"
          }
        }
      ]
    },
    {
      "cell_type": "code",
      "source": [
        "from sklift.metrics import qini_auc_score\n",
        "\n",
        "\n",
        "# коэффициент qini, или area under qini curve (AUQC)\n",
        "auqc = qini_auc_score(y_val, uplift_sm, treat_val) \n",
        "print(f\"Qini coefficient on full data: {auqc:.4f}\")"
      ],
      "metadata": {
        "colab": {
          "base_uri": "https://localhost:8080/"
        },
        "id": "SdaEWjsVG_cm",
        "outputId": "b4a27066-a069-46d1-b12a-65ed8db16af3"
      },
      "execution_count": null,
      "outputs": [
        {
          "output_type": "stream",
          "name": "stdout",
          "text": [
            "Qini coefficient on full data: 0.0070\n"
          ]
        }
      ]
    },
    {
      "cell_type": "markdown",
      "source": [
        "##### Uplift by percentile\n",
        "\n",
        "Бывает так, что со стороны бизнеса не известно значение порога k и хочется посмотреть, как будет вести себя метрика при разных значениях порога k.\n",
        "\n",
        "При построении действуем по аналогии с uplift@k:\n",
        "1. Сортируем по предсказанному значению uplift\n",
        "2. Делим отсортированные данные на перцентили / децили / бины.\n",
        "3. В каждом перцентиле отдельно оцениваем uplift как разность между средними значениями целевой переменной в тестовой и контрольной группах.\n",
        "\n",
        "\n",
        "Результатом этой метрики является таблица или ее визуальное представление в виде графика.\n",
        "\n",
        "Давайте также для каждого перцентиля рассчитаем следующие показатели:\n",
        "\n",
        "1. n_treatment - размер целевой (или treatment) группы \n",
        "2. n_control - размер контрольной (control) группы\n",
        "3. response_rate_treatment - среднее значение таргета целевой группы\n",
        "4. response_rate_control - среднее значение таргета контрольной группы\n",
        "5. uplift = response_rate_treatment - response_rate_control\n",
        "\n",
        "Дополнительно добавим расчет среднеквадратичного отклонения для каждой метрики (std_treatment, std_control, std_uplift) для того, чтобы оценивать разброс метрики в каждом перцентиле."
      ],
      "metadata": {
        "id": "LRCWPpWUe9D_"
      }
    },
    {
      "cell_type": "code",
      "source": [
        "from sklift.metrics import uplift_by_percentile\n",
        "\n",
        "# uplift by decile, или  uplift by percentile, или uplift by bin.\n",
        "uplift_by_percentile(y_val, uplift_sm,  treat_val, \n",
        "                     strategy='overall', \n",
        "                     total=True, std=True, bins=10)"
      ],
      "metadata": {
        "colab": {
          "base_uri": "https://localhost:8080/",
          "height": 481
        },
        "id": "XnhmP2ByHBna",
        "outputId": "3c2ce585-51d7-4c22-940b-f74c373f0544"
      },
      "execution_count": null,
      "outputs": [
        {
          "output_type": "stream",
          "name": "stderr",
          "text": [
            "/usr/local/lib/python3.7/dist-packages/numpy/core/fromnumeric.py:3162: VisibleDeprecationWarning: Creating an ndarray from ragged nested sequences (which is a list-or-tuple of lists-or-tuples-or ndarrays with different lengths or shapes) is deprecated. If you meant to do this, you must specify 'dtype=object' when creating the ndarray.\n",
            "  return asarray(a).ndim\n"
          ]
        },
        {
          "output_type": "execute_result",
          "data": {
            "text/plain": [
              "            n_treatment  n_control  response_rate_treatment  \\\n",
              "percentile                                                    \n",
              "0-10               2992       3010                 0.709225   \n",
              "10-20              3011       2991                 0.673530   \n",
              "20-30              2960       3041                 0.665203   \n",
              "30-40              3015       2986                 0.665340   \n",
              "40-50              2994       3007                 0.650301   \n",
              "50-60              3038       2963                 0.659645   \n",
              "60-70              3112       2889                 0.651028   \n",
              "70-80              3058       2943                 0.612165   \n",
              "80-90              2959       3042                 0.547482   \n",
              "90-100             2783       3218                 0.524614   \n",
              "total             29922      30090                 0.636789   \n",
              "\n",
              "            response_rate_control    uplift  std_treatment  std_control  \\\n",
              "percentile                                                                \n",
              "0-10                     0.649502  0.059723       0.008302     0.008697   \n",
              "10-20                    0.660983  0.012547       0.008546     0.008656   \n",
              "20-30                    0.632358  0.032845       0.008674     0.008744   \n",
              "30-40                    0.626256  0.039084       0.008594     0.008854   \n",
              "40-50                    0.612571  0.037730       0.008715     0.008884   \n",
              "50-60                    0.607830  0.051815       0.008597     0.008969   \n",
              "60-70                    0.595708  0.055320       0.008544     0.009130   \n",
              "70-80                    0.575943  0.036222       0.008811     0.009110   \n",
              "80-90                    0.534517  0.012965       0.009150     0.009044   \n",
              "90-100                   0.550963 -0.026350       0.009466     0.008768   \n",
              "total                    0.604287  0.032502       0.087400     0.088855   \n",
              "\n",
              "            std_uplift  \n",
              "percentile              \n",
              "0-10          0.012023  \n",
              "10-20         0.012163  \n",
              "20-30         0.012316  \n",
              "30-40         0.012338  \n",
              "40-50         0.012445  \n",
              "50-60         0.012424  \n",
              "60-70         0.012505  \n",
              "70-80         0.012674  \n",
              "80-90         0.012865  \n",
              "90-100        0.012903  \n",
              "total         0.124657  "
            ],
            "text/html": [
              "\n",
              "  <div id=\"df-f9e2bfb2-9802-4b77-9973-051348d3c2bf\">\n",
              "    <div class=\"colab-df-container\">\n",
              "      <div>\n",
              "<style scoped>\n",
              "    .dataframe tbody tr th:only-of-type {\n",
              "        vertical-align: middle;\n",
              "    }\n",
              "\n",
              "    .dataframe tbody tr th {\n",
              "        vertical-align: top;\n",
              "    }\n",
              "\n",
              "    .dataframe thead th {\n",
              "        text-align: right;\n",
              "    }\n",
              "</style>\n",
              "<table border=\"1\" class=\"dataframe\">\n",
              "  <thead>\n",
              "    <tr style=\"text-align: right;\">\n",
              "      <th></th>\n",
              "      <th>n_treatment</th>\n",
              "      <th>n_control</th>\n",
              "      <th>response_rate_treatment</th>\n",
              "      <th>response_rate_control</th>\n",
              "      <th>uplift</th>\n",
              "      <th>std_treatment</th>\n",
              "      <th>std_control</th>\n",
              "      <th>std_uplift</th>\n",
              "    </tr>\n",
              "    <tr>\n",
              "      <th>percentile</th>\n",
              "      <th></th>\n",
              "      <th></th>\n",
              "      <th></th>\n",
              "      <th></th>\n",
              "      <th></th>\n",
              "      <th></th>\n",
              "      <th></th>\n",
              "      <th></th>\n",
              "    </tr>\n",
              "  </thead>\n",
              "  <tbody>\n",
              "    <tr>\n",
              "      <th>0-10</th>\n",
              "      <td>2992</td>\n",
              "      <td>3010</td>\n",
              "      <td>0.709225</td>\n",
              "      <td>0.649502</td>\n",
              "      <td>0.059723</td>\n",
              "      <td>0.008302</td>\n",
              "      <td>0.008697</td>\n",
              "      <td>0.012023</td>\n",
              "    </tr>\n",
              "    <tr>\n",
              "      <th>10-20</th>\n",
              "      <td>3011</td>\n",
              "      <td>2991</td>\n",
              "      <td>0.673530</td>\n",
              "      <td>0.660983</td>\n",
              "      <td>0.012547</td>\n",
              "      <td>0.008546</td>\n",
              "      <td>0.008656</td>\n",
              "      <td>0.012163</td>\n",
              "    </tr>\n",
              "    <tr>\n",
              "      <th>20-30</th>\n",
              "      <td>2960</td>\n",
              "      <td>3041</td>\n",
              "      <td>0.665203</td>\n",
              "      <td>0.632358</td>\n",
              "      <td>0.032845</td>\n",
              "      <td>0.008674</td>\n",
              "      <td>0.008744</td>\n",
              "      <td>0.012316</td>\n",
              "    </tr>\n",
              "    <tr>\n",
              "      <th>30-40</th>\n",
              "      <td>3015</td>\n",
              "      <td>2986</td>\n",
              "      <td>0.665340</td>\n",
              "      <td>0.626256</td>\n",
              "      <td>0.039084</td>\n",
              "      <td>0.008594</td>\n",
              "      <td>0.008854</td>\n",
              "      <td>0.012338</td>\n",
              "    </tr>\n",
              "    <tr>\n",
              "      <th>40-50</th>\n",
              "      <td>2994</td>\n",
              "      <td>3007</td>\n",
              "      <td>0.650301</td>\n",
              "      <td>0.612571</td>\n",
              "      <td>0.037730</td>\n",
              "      <td>0.008715</td>\n",
              "      <td>0.008884</td>\n",
              "      <td>0.012445</td>\n",
              "    </tr>\n",
              "    <tr>\n",
              "      <th>50-60</th>\n",
              "      <td>3038</td>\n",
              "      <td>2963</td>\n",
              "      <td>0.659645</td>\n",
              "      <td>0.607830</td>\n",
              "      <td>0.051815</td>\n",
              "      <td>0.008597</td>\n",
              "      <td>0.008969</td>\n",
              "      <td>0.012424</td>\n",
              "    </tr>\n",
              "    <tr>\n",
              "      <th>60-70</th>\n",
              "      <td>3112</td>\n",
              "      <td>2889</td>\n",
              "      <td>0.651028</td>\n",
              "      <td>0.595708</td>\n",
              "      <td>0.055320</td>\n",
              "      <td>0.008544</td>\n",
              "      <td>0.009130</td>\n",
              "      <td>0.012505</td>\n",
              "    </tr>\n",
              "    <tr>\n",
              "      <th>70-80</th>\n",
              "      <td>3058</td>\n",
              "      <td>2943</td>\n",
              "      <td>0.612165</td>\n",
              "      <td>0.575943</td>\n",
              "      <td>0.036222</td>\n",
              "      <td>0.008811</td>\n",
              "      <td>0.009110</td>\n",
              "      <td>0.012674</td>\n",
              "    </tr>\n",
              "    <tr>\n",
              "      <th>80-90</th>\n",
              "      <td>2959</td>\n",
              "      <td>3042</td>\n",
              "      <td>0.547482</td>\n",
              "      <td>0.534517</td>\n",
              "      <td>0.012965</td>\n",
              "      <td>0.009150</td>\n",
              "      <td>0.009044</td>\n",
              "      <td>0.012865</td>\n",
              "    </tr>\n",
              "    <tr>\n",
              "      <th>90-100</th>\n",
              "      <td>2783</td>\n",
              "      <td>3218</td>\n",
              "      <td>0.524614</td>\n",
              "      <td>0.550963</td>\n",
              "      <td>-0.026350</td>\n",
              "      <td>0.009466</td>\n",
              "      <td>0.008768</td>\n",
              "      <td>0.012903</td>\n",
              "    </tr>\n",
              "    <tr>\n",
              "      <th>total</th>\n",
              "      <td>29922</td>\n",
              "      <td>30090</td>\n",
              "      <td>0.636789</td>\n",
              "      <td>0.604287</td>\n",
              "      <td>0.032502</td>\n",
              "      <td>0.087400</td>\n",
              "      <td>0.088855</td>\n",
              "      <td>0.124657</td>\n",
              "    </tr>\n",
              "  </tbody>\n",
              "</table>\n",
              "</div>\n",
              "      <button class=\"colab-df-convert\" onclick=\"convertToInteractive('df-f9e2bfb2-9802-4b77-9973-051348d3c2bf')\"\n",
              "              title=\"Convert this dataframe to an interactive table.\"\n",
              "              style=\"display:none;\">\n",
              "        \n",
              "  <svg xmlns=\"http://www.w3.org/2000/svg\" height=\"24px\"viewBox=\"0 0 24 24\"\n",
              "       width=\"24px\">\n",
              "    <path d=\"M0 0h24v24H0V0z\" fill=\"none\"/>\n",
              "    <path d=\"M18.56 5.44l.94 2.06.94-2.06 2.06-.94-2.06-.94-.94-2.06-.94 2.06-2.06.94zm-11 1L8.5 8.5l.94-2.06 2.06-.94-2.06-.94L8.5 2.5l-.94 2.06-2.06.94zm10 10l.94 2.06.94-2.06 2.06-.94-2.06-.94-.94-2.06-.94 2.06-2.06.94z\"/><path d=\"M17.41 7.96l-1.37-1.37c-.4-.4-.92-.59-1.43-.59-.52 0-1.04.2-1.43.59L10.3 9.45l-7.72 7.72c-.78.78-.78 2.05 0 2.83L4 21.41c.39.39.9.59 1.41.59.51 0 1.02-.2 1.41-.59l7.78-7.78 2.81-2.81c.8-.78.8-2.07 0-2.86zM5.41 20L4 18.59l7.72-7.72 1.47 1.35L5.41 20z\"/>\n",
              "  </svg>\n",
              "      </button>\n",
              "      \n",
              "  <style>\n",
              "    .colab-df-container {\n",
              "      display:flex;\n",
              "      flex-wrap:wrap;\n",
              "      gap: 12px;\n",
              "    }\n",
              "\n",
              "    .colab-df-convert {\n",
              "      background-color: #E8F0FE;\n",
              "      border: none;\n",
              "      border-radius: 50%;\n",
              "      cursor: pointer;\n",
              "      display: none;\n",
              "      fill: #1967D2;\n",
              "      height: 32px;\n",
              "      padding: 0 0 0 0;\n",
              "      width: 32px;\n",
              "    }\n",
              "\n",
              "    .colab-df-convert:hover {\n",
              "      background-color: #E2EBFA;\n",
              "      box-shadow: 0px 1px 2px rgba(60, 64, 67, 0.3), 0px 1px 3px 1px rgba(60, 64, 67, 0.15);\n",
              "      fill: #174EA6;\n",
              "    }\n",
              "\n",
              "    [theme=dark] .colab-df-convert {\n",
              "      background-color: #3B4455;\n",
              "      fill: #D2E3FC;\n",
              "    }\n",
              "\n",
              "    [theme=dark] .colab-df-convert:hover {\n",
              "      background-color: #434B5C;\n",
              "      box-shadow: 0px 1px 3px 1px rgba(0, 0, 0, 0.15);\n",
              "      filter: drop-shadow(0px 1px 2px rgba(0, 0, 0, 0.3));\n",
              "      fill: #FFFFFF;\n",
              "    }\n",
              "  </style>\n",
              "\n",
              "      <script>\n",
              "        const buttonEl =\n",
              "          document.querySelector('#df-f9e2bfb2-9802-4b77-9973-051348d3c2bf button.colab-df-convert');\n",
              "        buttonEl.style.display =\n",
              "          google.colab.kernel.accessAllowed ? 'block' : 'none';\n",
              "\n",
              "        async function convertToInteractive(key) {\n",
              "          const element = document.querySelector('#df-f9e2bfb2-9802-4b77-9973-051348d3c2bf');\n",
              "          const dataTable =\n",
              "            await google.colab.kernel.invokeFunction('convertToInteractive',\n",
              "                                                     [key], {});\n",
              "          if (!dataTable) return;\n",
              "\n",
              "          const docLinkHtml = 'Like what you see? Visit the ' +\n",
              "            '<a target=\"_blank\" href=https://colab.research.google.com/notebooks/data_table.ipynb>data table notebook</a>'\n",
              "            + ' to learn more about interactive tables.';\n",
              "          element.innerHTML = '';\n",
              "          dataTable['output_type'] = 'display_data';\n",
              "          await google.colab.output.renderOutput(dataTable, element);\n",
              "          const docLink = document.createElement('div');\n",
              "          docLink.innerHTML = docLinkHtml;\n",
              "          element.appendChild(docLink);\n",
              "        }\n",
              "      </script>\n",
              "    </div>\n",
              "  </div>\n",
              "  "
            ]
          },
          "metadata": {},
          "execution_count": 29
        }
      ]
    },
    {
      "cell_type": "markdown",
      "source": [
        "Если визуализировать таблицу, то получится график uplift by percentile. По нему удобно оценивать эффективность модели. \n",
        "\n",
        "Так как коммуникация будет проводиться с клиентами, получившими наибольшую оценку uplift, то слева на графике должны быть максимальные по модулю положительные значения uplift и в следующих перцентилях значения уменьшаются."
      ],
      "metadata": {
        "id": "HLgmZUwJfrb_"
      }
    },
    {
      "cell_type": "code",
      "source": [
        "from sklift.viz import plot_uplift_by_percentile\n",
        "\n",
        "# график uplift by percentile\n",
        "plot_uplift_by_percentile(y_val, uplift_sm, treat_val, \n",
        "                          strategy='overall', kind='bar'); # line"
      ],
      "metadata": {
        "colab": {
          "base_uri": "https://localhost:8080/",
          "height": 496
        },
        "id": "2WMAj8MAHE1z",
        "outputId": "bd097dfc-03b9-4ef0-cd0d-8830bdcc8ed7"
      },
      "execution_count": null,
      "outputs": [
        {
          "output_type": "stream",
          "name": "stderr",
          "text": [
            "/usr/local/lib/python3.7/dist-packages/numpy/core/fromnumeric.py:3162: VisibleDeprecationWarning: Creating an ndarray from ragged nested sequences (which is a list-or-tuple of lists-or-tuples-or ndarrays with different lengths or shapes) is deprecated. If you meant to do this, you must specify 'dtype=object' when creating the ndarray.\n",
            "  return asarray(a).ndim\n"
          ]
        },
        {
          "output_type": "display_data",
          "data": {
            "text/plain": [
              "<Figure size 576x432 with 2 Axes>"
            ],
            "image/png": "[encoded data removed]"
          },
          "metadata": {
            "needs_background": "light"
          }
        }
      ]
    },
    {
      "cell_type": "markdown",
      "source": [
        "\n",
        "\n",
        "В левой части графика находятся убеждаемые — тот тип, которых мы хотим найти.\n",
        "\n",
        "В терминах целевого действия и коммуникации это Y=1 при W=1 и Y=0 при W=0."
      ],
      "metadata": {
        "id": "3NPSowaMHIcV"
      }
    },
    {
      "cell_type": "markdown",
      "source": [
        "##### Weighted average uplift\n",
        "Часто хочется иметь метрику, посчитанную в виде единого значения на всей тестовой выборке. Для этого опять пригодится таблица uplift by percentile. Давайте с помощью значений в столбцах uplift и n_treatment рассчитаем усредненный uplift на всей выборке, взвешенный на размер целевой группы - weighted average uplift "
      ],
      "metadata": {
        "id": "LZocLeByf_sW"
      }
    },
    {
      "cell_type": "markdown",
      "source": [
        "Weighted average uplift лежит в пределах от [-1, 1]. Если метрика принимает значение 1, это значит, что реакций Y=1 в контрольной группе нет ни в одном перцентиле: пользователи никогда не выполняют целевое действие самостоятельно, а только при коммуникации. При таком значении метрики нет смысла решать задачу с помощью uplift моделирования.\n",
        "\n",
        "Значение метрики может доходить до граничного значения -1. Это будет означать, что во всех перцентилях uplft был равен -1. Такое происходит, когда в целевой группе нет реакций Y=1, а в контрольной группе все клиенты имеют реакцию Y=1. Получается, что значения метрики, которые нас устраивают в рамках решения uplift задачи, лежат в пределах [0, 1)"
      ],
      "metadata": {
        "id": "htS7JUl5gNDf"
      }
    },
    {
      "cell_type": "code",
      "source": [
        "from sklift.metrics import weighted_average_uplift\n",
        "\n",
        "# с помощью значений в столбцах uplift и n_treatment рассчитаем усредненный uplift на всей выборке, \n",
        "# взвешенный на размер целевой группы — weighted average uplift\n",
        "uplift_full_data = weighted_average_uplift(y_val, uplift_sm, \n",
        "                                            treat_val, bins=10) \n",
        "print(f\"weighted average uplift on full data: {uplift_full_data:.4f}\")"
      ],
      "metadata": {
        "colab": {
          "base_uri": "https://localhost:8080/"
        },
        "id": "UBmJ71eUHL8J",
        "outputId": "08d4e627-1d1f-4e99-f52f-190f29d619a4"
      },
      "execution_count": null,
      "outputs": [
        {
          "output_type": "stream",
          "name": "stdout",
          "text": [
            "weighted average uplift on full data: 0.0317\n"
          ]
        }
      ]
    },
    {
      "cell_type": "markdown",
      "metadata": {
        "id": "HZsd_IxlFi2W"
      },
      "source": [
        "### 1.2 Трансформация классов\n",
        "Достаточно интересный и математически подтвержденный подход к построению модели, представленный еще в 2012 году. Метод заключается в прогнозировании немного измененного таргета:\n",
        "\n",
        "$$Z_i = Y_i \\cdot W_i + (1 - Y_i) \\cdot (1 - W_i),$$\n",
        "где\n",
        "- $Z_i$ - новая целевая переменная $i$-того клиента\n",
        "- $Y_i$ - целевая переменная $i$-того клиента\n",
        "- $W_i$ - флаг коммуникации $i$-того клиента\n",
        "\n",
        "\n",
        "\n",
        "Другими словами:\n",
        "\n",
        "$$\n",
        "Z_i = \\begin{cases}\n",
        "    1, & \\mbox{if } W_i = 1 \\mbox{ and } Y_i = 1 \\\\\n",
        "    1, & \\mbox{if } W_i = 0 \\mbox{ and } Y_i = 0 \\\\\n",
        "    0, & \\mbox{otherwise}\n",
        "   \\end{cases}\n",
        "$$"
      ]
    },
    {
      "cell_type": "markdown",
      "metadata": {
        "id": "n3QN8w3vFi2Y"
      },
      "source": [
        "<img src='https://drive.google.com/uc?export=view&id=1ClmgUARlS_jJUpRLwmaNF24iFj6B2vqz' width=600>"
      ]
    },
    {
      "cell_type": "code",
      "execution_count": null,
      "metadata": {
        "id": "eOrWfHG4Fi2Z"
      },
      "outputs": [],
      "source": [
        "from sklift.models import ClassTransformation\n",
        "\n",
        "\n",
        "ct = ClassTransformation(\n",
        "    CatBoostClassifier(iterations=20, random_state=42, silent=True, cat_features=cat_features)\n",
        ")\n",
        "ct = ct.fit(X_train, y_train, treat_train)\n",
        "\n",
        "uplift_ct = ct.predict(X_val)\n",
        "\n",
        "ct_score = uplift_at_k(y_true=y_val, uplift=uplift_ct, treatment=treat_val, strategy='by_group', k=0.3)\n",
        "\n",
        "models_results['approach'].append('ClassTransformation')\n",
        "models_results['uplift@30%'].append(ct_score)"
      ]
    },
    {
      "cell_type": "code",
      "source": [
        "ct_score"
      ],
      "metadata": {
        "colab": {
          "base_uri": "https://localhost:8080/"
        },
        "outputId": "2f04712f-7156-4cb7-f7f9-a1910ff8cbc4",
        "id": "JNMmiWiHJNcI"
      },
      "execution_count": null,
      "outputs": [
        {
          "output_type": "execute_result",
          "data": {
            "text/plain": [
              "0.05738718188867742"
            ]
          },
          "metadata": {},
          "execution_count": 33
        }
      ]
    },
    {
      "cell_type": "code",
      "source": [
        "from sklift.viz import plot_uplift_curve\n",
        "\n",
        "\n",
        "# with ideal curve\n",
        "# perfect=True\n",
        "plot_uplift_curve(\n",
        "    y_val, uplift_ct, treat_val, \n",
        "    # perfect=True\n",
        "    perfect=False\n",
        ");"
      ],
      "metadata": {
        "colab": {
          "base_uri": "https://localhost:8080/",
          "height": 279
        },
        "outputId": "9b7dacaa-cfe4-451f-f974-635772595868",
        "id": "JIJmh8-cJNcN"
      },
      "execution_count": null,
      "outputs": [
        {
          "output_type": "display_data",
          "data": {
            "text/plain": [
              "<Figure size 432x288 with 1 Axes>"
            ],
            "image/png": "[encoded data removed]"
          },
          "metadata": {
            "needs_background": "light"
          }
        }
      ]
    },
    {
      "cell_type": "code",
      "source": [
        "# график uplift by percentile\n",
        "plot_uplift_by_percentile(y_val, uplift_ct, treat_val, \n",
        "                          strategy='overall', kind='bar'); # line"
      ],
      "metadata": {
        "colab": {
          "base_uri": "https://localhost:8080/",
          "height": 496
        },
        "id": "xN4ls9gnJUcX",
        "outputId": "2954adac-b32b-450d-e6cf-c0e05c4dbb21"
      },
      "execution_count": null,
      "outputs": [
        {
          "output_type": "stream",
          "name": "stderr",
          "text": [
            "/usr/local/lib/python3.7/dist-packages/numpy/core/fromnumeric.py:3162: VisibleDeprecationWarning: Creating an ndarray from ragged nested sequences (which is a list-or-tuple of lists-or-tuples-or ndarrays with different lengths or shapes) is deprecated. If you meant to do this, you must specify 'dtype=object' when creating the ndarray.\n",
            "  return asarray(a).ndim\n"
          ]
        },
        {
          "output_type": "display_data",
          "data": {
            "text/plain": [
              "<Figure size 576x432 with 2 Axes>"
            ],
            "image/png": "[encoded data removed]"
          },
          "metadata": {
            "needs_background": "light"
          }
        }
      ]
    },
    {
      "cell_type": "markdown",
      "metadata": {
        "id": "fkfWna75Fi2n"
      },
      "source": [
        "### 2. Две независимые модели\n",
        "Как понятно из названия, подход заключается в моделировании условных вероятностей тестовой и контрольной групп отдельно. В статьях утверждается, что такой подход достаточно слабый, так как обе модели фокусируются на прогнозировании результата отдельно и поэтому могут пропустить \"более слабые\" различия в выборках."
      ]
    },
    {
      "cell_type": "markdown",
      "metadata": {
        "id": "HCuLTXwXFi2o"
      },
      "source": [
        "<img src='https://drive.google.com/uc?export=view&id=1dcexXj_GQqrYHDDuTLB1rXOhaxzNHx0x' width=700>"
      ]
    },
    {
      "cell_type": "code",
      "execution_count": null,
      "metadata": {
        "id": "7nRGNUCjFi2p",
        "outputId": "46503d1c-1823-4ab8-d339-989e0dc95a6f",
        "colab": {
          "base_uri": "https://localhost:8080/",
          "height": 444
        }
      },
      "outputs": [
        {
          "output_type": "display_data",
          "data": {
            "text/plain": [
              "<Figure size 1440x504 with 3 Axes>"
            ],
            "image/png": "[encoded data removed]"
          },
          "metadata": {
            "needs_background": "light"
          }
        }
      ],
      "source": [
        "from sklift.models import TwoModels\n",
        "\n",
        "\n",
        "tm = TwoModels(\n",
        "    CatBoostClassifier(iterations=20, random_state=42, silent=True, cat_features=cat_features),\n",
        "    CatBoostClassifier(iterations=20, random_state=42, silent=True, cat_features=cat_features),\n",
        "    method='vanilla'  # независимые модели\n",
        ")\n",
        "tm = tm.fit(\n",
        "    X_train, y_train, treat_train\n",
        ")\n",
        "\n",
        "uplift_tm = tm.predict(X_val)\n",
        "\n",
        "tm_score = uplift_at_k(y_true=y_val, uplift=uplift_tm, treatment=treat_val, strategy='by_group', k=0.3)\n",
        "\n",
        "models_results['approach'].append('TwoModels')\n",
        "models_results['uplift@30%'].append(tm_score)\n",
        "\n",
        "plot_uplift_preds(trmnt_preds=tm.trmnt_preds_, ctrl_preds=tm.ctrl_preds_);"
      ]
    },
    {
      "cell_type": "markdown",
      "metadata": {
        "id": "QP1KbxMFFi2r"
      },
      "source": [
        "Посмотрим на результаты"
      ]
    },
    {
      "cell_type": "code",
      "execution_count": null,
      "metadata": {
        "id": "K77zXyInFi2r",
        "outputId": "3b4c59a6-b931-47e8-f74e-08470365a271",
        "colab": {
          "base_uri": "https://localhost:8080/",
          "height": 143
        }
      },
      "outputs": [
        {
          "output_type": "execute_result",
          "data": {
            "text/plain": [
              "              approach  uplift@30%\n",
              "1  ClassTransformation    0.057387\n",
              "2            TwoModels    0.054543\n",
              "0            SoloModel    0.034983"
            ],
            "text/html": [
              "\n",
              "  <div id=\"df-83e34cad-45cf-4416-af94-313eea0fdca3\">\n",
              "    <div class=\"colab-df-container\">\n",
              "      <div>\n",
              "<style scoped>\n",
              "    .dataframe tbody tr th:only-of-type {\n",
              "        vertical-align: middle;\n",
              "    }\n",
              "\n",
              "    .dataframe tbody tr th {\n",
              "        vertical-align: top;\n",
              "    }\n",
              "\n",
              "    .dataframe thead th {\n",
              "        text-align: right;\n",
              "    }\n",
              "</style>\n",
              "<table border=\"1\" class=\"dataframe\">\n",
              "  <thead>\n",
              "    <tr style=\"text-align: right;\">\n",
              "      <th></th>\n",
              "      <th>approach</th>\n",
              "      <th>uplift@30%</th>\n",
              "    </tr>\n",
              "  </thead>\n",
              "  <tbody>\n",
              "    <tr>\n",
              "      <th>1</th>\n",
              "      <td>ClassTransformation</td>\n",
              "      <td>0.057387</td>\n",
              "    </tr>\n",
              "    <tr>\n",
              "      <th>2</th>\n",
              "      <td>TwoModels</td>\n",
              "      <td>0.054543</td>\n",
              "    </tr>\n",
              "    <tr>\n",
              "      <th>0</th>\n",
              "      <td>SoloModel</td>\n",
              "      <td>0.034983</td>\n",
              "    </tr>\n",
              "  </tbody>\n",
              "</table>\n",
              "</div>\n",
              "      <button class=\"colab-df-convert\" onclick=\"convertToInteractive('df-83e34cad-45cf-4416-af94-313eea0fdca3')\"\n",
              "              title=\"Convert this dataframe to an interactive table.\"\n",
              "              style=\"display:none;\">\n",
              "        \n",
              "  <svg xmlns=\"http://www.w3.org/2000/svg\" height=\"24px\"viewBox=\"0 0 24 24\"\n",
              "       width=\"24px\">\n",
              "    <path d=\"M0 0h24v24H0V0z\" fill=\"none\"/>\n",
              "    <path d=\"M18.56 5.44l.94 2.06.94-2.06 2.06-.94-2.06-.94-.94-2.06-.94 2.06-2.06.94zm-11 1L8.5 8.5l.94-2.06 2.06-.94-2.06-.94L8.5 2.5l-.94 2.06-2.06.94zm10 10l.94 2.06.94-2.06 2.06-.94-2.06-.94-.94-2.06-.94 2.06-2.06.94z\"/><path d=\"M17.41 7.96l-1.37-1.37c-.4-.4-.92-.59-1.43-.59-.52 0-1.04.2-1.43.59L10.3 9.45l-7.72 7.72c-.78.78-.78 2.05 0 2.83L4 21.41c.39.39.9.59 1.41.59.51 0 1.02-.2 1.41-.59l7.78-7.78 2.81-2.81c.8-.78.8-2.07 0-2.86zM5.41 20L4 18.59l7.72-7.72 1.47 1.35L5.41 20z\"/>\n",
              "  </svg>\n",
              "      </button>\n",
              "      \n",
              "  <style>\n",
              "    .colab-df-container {\n",
              "      display:flex;\n",
              "      flex-wrap:wrap;\n",
              "      gap: 12px;\n",
              "    }\n",
              "\n",
              "    .colab-df-convert {\n",
              "      background-color: #E8F0FE;\n",
              "      border: none;\n",
              "      border-radius: 50%;\n",
              "      cursor: pointer;\n",
              "      display: none;\n",
              "      fill: #1967D2;\n",
              "      height: 32px;\n",
              "      padding: 0 0 0 0;\n",
              "      width: 32px;\n",
              "    }\n",
              "\n",
              "    .colab-df-convert:hover {\n",
              "      background-color: #E2EBFA;\n",
              "      box-shadow: 0px 1px 2px rgba(60, 64, 67, 0.3), 0px 1px 3px 1px rgba(60, 64, 67, 0.15);\n",
              "      fill: #174EA6;\n",
              "    }\n",
              "\n",
              "    [theme=dark] .colab-df-convert {\n",
              "      background-color: #3B4455;\n",
              "      fill: #D2E3FC;\n",
              "    }\n",
              "\n",
              "    [theme=dark] .colab-df-convert:hover {\n",
              "      background-color: #434B5C;\n",
              "      box-shadow: 0px 1px 3px 1px rgba(0, 0, 0, 0.15);\n",
              "      filter: drop-shadow(0px 1px 2px rgba(0, 0, 0, 0.3));\n",
              "      fill: #FFFFFF;\n",
              "    }\n",
              "  </style>\n",
              "\n",
              "      <script>\n",
              "        const buttonEl =\n",
              "          document.querySelector('#df-83e34cad-45cf-4416-af94-313eea0fdca3 button.colab-df-convert');\n",
              "        buttonEl.style.display =\n",
              "          google.colab.kernel.accessAllowed ? 'block' : 'none';\n",
              "\n",
              "        async function convertToInteractive(key) {\n",
              "          const element = document.querySelector('#df-83e34cad-45cf-4416-af94-313eea0fdca3');\n",
              "          const dataTable =\n",
              "            await google.colab.kernel.invokeFunction('convertToInteractive',\n",
              "                                                     [key], {});\n",
              "          if (!dataTable) return;\n",
              "\n",
              "          const docLinkHtml = 'Like what you see? Visit the ' +\n",
              "            '<a target=\"_blank\" href=https://colab.research.google.com/notebooks/data_table.ipynb>data table notebook</a>'\n",
              "            + ' to learn more about interactive tables.';\n",
              "          element.innerHTML = '';\n",
              "          dataTable['output_type'] = 'display_data';\n",
              "          await google.colab.output.renderOutput(dataTable, element);\n",
              "          const docLink = document.createElement('div');\n",
              "          docLink.innerHTML = docLinkHtml;\n",
              "          element.appendChild(docLink);\n",
              "        }\n",
              "      </script>\n",
              "    </div>\n",
              "  </div>\n",
              "  "
            ]
          },
          "metadata": {},
          "execution_count": 37
        }
      ],
      "source": [
        "pd.DataFrame(data=models_results).sort_values('uplift@30%', ascending=False)"
      ]
    },
    {
      "cell_type": "code",
      "source": [
        "import matplotlib.pyplot as plt\n",
        "\n",
        "print('Solo Model')\n",
        "plot_uplift_curve(y_val, uplift_sm, treat_val, perfect=False)\n",
        "plt.show()\n",
        "print('ClassTransform Model')\n",
        "plot_uplift_curve(y_val, uplift_ct, treat_val, perfect=False)\n",
        "plt.show()\n",
        "print('Two Model')\n",
        "plot_uplift_curve(y_val, uplift_tm, treat_val, perfect=False)\n",
        "plt.show()"
      ],
      "metadata": {
        "colab": {
          "base_uri": "https://localhost:8080/",
          "height": 855
        },
        "id": "YeE2PV7RKi-6",
        "outputId": "8f3500d5-e280-40d6-9254-9e85470961c5"
      },
      "execution_count": null,
      "outputs": [
        {
          "output_type": "stream",
          "name": "stdout",
          "text": [
            "Solo Model\n"
          ]
        },
        {
          "output_type": "display_data",
          "data": {
            "text/plain": [
              "<Figure size 432x288 with 1 Axes>"
            ],
            "image/png": "[encoded data removed]"
          },
          "metadata": {
            "needs_background": "light"
          }
        },
        {
          "output_type": "stream",
          "name": "stdout",
          "text": [
            "ClassTransform Model\n"
          ]
        },
        {
          "output_type": "display_data",
          "data": {
            "text/plain": [
              "<Figure size 432x288 with 1 Axes>"
            ],
            "image/png": "[encoded data removed]"
          },
          "metadata": {
            "needs_background": "light"
          }
        },
        {
          "output_type": "stream",
          "name": "stdout",
          "text": [
            "Two Model\n"
          ]
        },
        {
          "output_type": "display_data",
          "data": {
            "text/plain": [
              "<Figure size 432x288 with 1 Axes>"
            ],
            "image/png": "[encoded data removed]"
          },
          "metadata": {
            "needs_background": "light"
          }
        }
      ]
    },
    {
      "cell_type": "markdown",
      "metadata": {
        "id": "01T2CttyFi2w"
      },
      "source": [
        "### Домашнее задание"
      ]
    },
    {
      "cell_type": "markdown",
      "metadata": {
        "id": "O01FUEq6Fi2x"
      },
      "source": [
        "1. скачать набор данных маркетинговых кампаний отсюда https://www.kaggle.com/davinwijaya/customer-retention\n",
        "2. поле conversion - это целевая переменная, а offer - коммуникация. Переименовать поля (conversion -> target, offer -> treatment) и привести поле treatment к бинарному виду (1 или 0, т.е было какое-то предложение или нет) - значение No Offer означает отсутствие коммуникации, а все остальные - наличие.\n",
        "3. сделать разбиение набора данных не тренировочную и тестовую выборки\n",
        "4. провести uplift-моделирование 3 способами:\n",
        "    1. одна модель с признаком коммуникации (S-learner)\n",
        "    2. модель с трансформацией таргета\n",
        "    3. вариант с двумя независимыми моделями\n",
        "5. в конце вывести единую таблицу сравнения метрик uplift@10%, uplift@20% 3 моделей\n",
        "6. *для модели S-learner построить зависимость таргета (конверсии - поле conversion) от значения uplift:\n",
        "    1. сделать прогноз и получить uplift для тестовой выборки\n",
        "    2. отсортировать тестовую выборку по uplift по убыванию\n",
        "    3. разбить на децили (pandas qcut вам в помощь)\n",
        "    4. для каждого дециля посчитать среднюю conversion"
      ]
    },
    {
      "cell_type": "markdown",
      "metadata": {
        "id": "dcHXfSZ6Fi2y"
      },
      "source": [
        "### Ссылки\n",
        "\n",
        "1. https://towardsdatascience.com/a-quick-uplift-modeling-introduction-6e14de32bfe0\n",
        "2. https://habr.com/ru/company/ru_mts/blog/485980/#reference1\n",
        "3. https://en.wikipedia.org/wiki/Uplift_modelling\n",
        "4. https://www.youtube.com/watch?v=yFQAIJBYXI0\n",
        "5. https://www.youtube.com/watch?v=jCUcYiBK03I\n",
        "6. https://www.uplift-modeling.com/en/latest/\n",
        "7. https://arxiv.org/pdf/1809.04559.pdf\n",
        "8. https://catboost.ai/docs/concepts/about.html\n",
        "9. https://habr.com/ru/company/ru_mts/blog/538934/"
      ]
    }
  ],
  "metadata": {
    "kernelspec": {
      "display_name": "Python 3",
      "language": "python",
      "name": "python3"
    },
    "language_info": {
      "codemirror_mode": {
        "name": "ipython",
        "version": 3
      },
      "file_extension": ".py",
      "mimetype": "text/x-python",
      "name": "python",
      "nbconvert_exporter": "python",
      "pygments_lexer": "ipython3",
      "version": "3.7.3"
    },
    "colab": {
      "name": "Lesson 4.ipynb",
      "provenance": [],
      "collapsed_sections": [],
      "toc_visible": true
    }
  },
  "nbformat": 4,
  "nbformat_minor": 0
}